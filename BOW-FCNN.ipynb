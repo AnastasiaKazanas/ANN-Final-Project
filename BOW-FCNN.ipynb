{
  "cells": [
    {
      "cell_type": "code",
      "execution_count": 6,
      "metadata": {
        "collapsed": true,
        "id": "bFKXKDfArPNO"
      },
      "outputs": [],
      "source": [
        "import random\n",
        "import torch\n",
        "import torch.nn as nn\n",
        "import torch.optim as optim\n",
        "from transformers import BertTokenizer, BertModel, BertForSequenceClassification\n",
        "from sklearn.metrics.pairwise import cosine_similarity\n",
        "# !pip install tensorflow"
      ]
    },
    {
      "cell_type": "code",
      "execution_count": 7,
      "metadata": {
        "id": "uiAvJ6yEr4dR",
        "colab": {
          "base_uri": "https://localhost:8080/"
        },
        "outputId": "b8b9079b-6d8e-443a-8dd6-6df35faa3299"
      },
      "outputs": [
        {
          "output_type": "stream",
          "name": "stderr",
          "text": [
            "[nltk_data] Downloading package stopwords to /root/nltk_data...\n",
            "[nltk_data]   Package stopwords is already up-to-date!\n",
            "[nltk_data] Downloading package wordnet to /root/nltk_data...\n",
            "[nltk_data]   Package wordnet is already up-to-date!\n"
          ]
        },
        {
          "output_type": "stream",
          "name": "stdout",
          "text": [
            "Dataset preview:\n",
            "   Unnamed: 0                                              title  \\\n",
            "0           0  LAW ENFORCEMENT ON HIGH ALERT Following Threat...   \n",
            "1           1                                                NaN   \n",
            "2           2  UNBELIEVABLE! OBAMA’S ATTORNEY GENERAL SAYS MO...   \n",
            "3           3  Bobby Jindal, raised Hindu, uses story of Chri...   \n",
            "4           4  SATAN 2: Russia unvelis an image of its terrif...   \n",
            "\n",
            "                                                text  label  \n",
            "0  No comment is expected from Barack Obama Membe...      1  \n",
            "1     Did they post their votes for Hillary already?      1  \n",
            "2   Now, most of the demonstrators gathered last ...      1  \n",
            "3  A dozen politically active pastors came here f...      0  \n",
            "4  The RS-28 Sarmat missile, dubbed Satan 2, will...      1  \n",
            "\n",
            "Dataset statistics:\n",
            "         Unnamed: 0         label\n",
            "count  72134.000000  72134.000000\n",
            "mean   36066.500000      0.514404\n",
            "std    20823.436496      0.499796\n",
            "min        0.000000      0.000000\n",
            "25%    18033.250000      0.000000\n",
            "50%    36066.500000      1.000000\n",
            "75%    54099.750000      1.000000\n",
            "max    72133.000000      1.000000\n",
            "\n",
            "Missing values per column:\n",
            "Unnamed: 0      0\n",
            "title         558\n",
            "text           39\n",
            "label           0\n",
            "dtype: int64\n"
          ]
        }
      ],
      "source": [
        "#load data from kaggle\n",
        "\n",
        "import kagglehub\n",
        "import pandas as pd\n",
        "import re\n",
        "import nltk\n",
        "from sklearn.model_selection import train_test_split, GridSearchCV\n",
        "from sklearn.feature_extraction.text import TfidfVectorizer\n",
        "from sklearn.linear_model import LogisticRegression\n",
        "from sklearn.metrics import classification_report, accuracy_score, confusion_matrix, ConfusionMatrixDisplay\n",
        "from nltk.corpus import stopwords\n",
        "from nltk.stem import WordNetLemmatizer\n",
        "import matplotlib.pyplot as plt\n",
        "from torch.utils.data import DataLoader, TensorDataset\n",
        "nltk.download('stopwords')\n",
        "nltk.download('wordnet')\n",
        "\n",
        "# Download latest version\n",
        "path": "ANN-Final-Project/Bert_embedding_datasets/Dataset_first_new.h5\n",
        "\n",
        "# Load the dataset\n",
        "df" : "pd.read_csv(path)\n",
        "\n",
        "print(\"Dataset preview:\")\n",
        "print(df.head())\n",
        "\n",
        "print(\"\\nDataset statistics:\")\n",
        "print(df.describe())\n",
        "\n",
        "missing_values = df.isnull().sum()\n",
        "print(\"\\nMissing values per column:\")\n",
        "print(missing_values)\n",
        "\n",
        "# Check for missing values and drop them\n",
        "df.dropna(subset=['text', 'label'], inplace=True)"
      ]
    },
    {
      "cell_type": "code",
      "source": [
        "def preprocess_text(text):\n",
        "    text = re.sub(r'[^\\w\\s]', '', text)  # Remove special characters\n",
        "    text = text.lower()  # Convert to lowercase\n",
        "    return text\n",
        "\n",
        "df['processed_text'] = df['text'].apply(preprocess_text)\n",
        "\n",
        "# Split the dataset\n",
        "train_texts, test_texts, train_labels, test_labels = train_test_split(\n",
        "    df['text'], df['label'], test_size=0.2, random_state=42\n",
        ")"
      ],
      "metadata": {
        "id": "eRQdv5sq2kZt"
      },
      "execution_count": 8,
      "outputs": []
    },
    {
      "cell_type": "code",
      "source": [
        "df['label']"
      ],
      "metadata": {
        "colab": {
          "base_uri": "https://localhost:8080/",
          "height": 453
        },
        "id": "fQViov-v1gat",
        "outputId": "5073377c-0aae-4952-f6c4-8e6475f91f5e"
      },
      "execution_count": 9,
      "outputs": [
        {
          "output_type": "execute_result",
          "data": {
            "text/plain": [
              "0        1\n",
              "1        1\n",
              "2        1\n",
              "3        0\n",
              "4        1\n",
              "        ..\n",
              "72129    0\n",
              "72130    1\n",
              "72131    0\n",
              "72132    0\n",
              "72133    1\n",
              "Name: label, Length: 72095, dtype: int64"
            ],
            "text/html": [
              "<div>\n",
              "<style scoped>\n",
              "    .dataframe tbody tr th:only-of-type {\n",
              "        vertical-align: middle;\n",
              "    }\n",
              "\n",
              "    .dataframe tbody tr th {\n",
              "        vertical-align: top;\n",
              "    }\n",
              "\n",
              "    .dataframe thead th {\n",
              "        text-align: right;\n",
              "    }\n",
              "</style>\n",
              "<table border=\"1\" class=\"dataframe\">\n",
              "  <thead>\n",
              "    <tr style=\"text-align: right;\">\n",
              "      <th></th>\n",
              "      <th>label</th>\n",
              "    </tr>\n",
              "  </thead>\n",
              "  <tbody>\n",
              "    <tr>\n",
              "      <th>0</th>\n",
              "      <td>1</td>\n",
              "    </tr>\n",
              "    <tr>\n",
              "      <th>1</th>\n",
              "      <td>1</td>\n",
              "    </tr>\n",
              "    <tr>\n",
              "      <th>2</th>\n",
              "      <td>1</td>\n",
              "    </tr>\n",
              "    <tr>\n",
              "      <th>3</th>\n",
              "      <td>0</td>\n",
              "    </tr>\n",
              "    <tr>\n",
              "      <th>4</th>\n",
              "      <td>1</td>\n",
              "    </tr>\n",
              "    <tr>\n",
              "      <th>...</th>\n",
              "      <td>...</td>\n",
              "    </tr>\n",
              "    <tr>\n",
              "      <th>72129</th>\n",
              "      <td>0</td>\n",
              "    </tr>\n",
              "    <tr>\n",
              "      <th>72130</th>\n",
              "      <td>1</td>\n",
              "    </tr>\n",
              "    <tr>\n",
              "      <th>72131</th>\n",
              "      <td>0</td>\n",
              "    </tr>\n",
              "    <tr>\n",
              "      <th>72132</th>\n",
              "      <td>0</td>\n",
              "    </tr>\n",
              "    <tr>\n",
              "      <th>72133</th>\n",
              "      <td>1</td>\n",
              "    </tr>\n",
              "  </tbody>\n",
              "</table>\n",
              "<p>72095 rows × 1 columns</p>\n",
              "</div><br><label><b>dtype:</b> int64</label>"
            ]
          },
          "metadata": {},
          "execution_count": 9
        }
      ]
    },
    {
      "cell_type": "code",
      "execution_count": 11,
      "metadata": {
        "id": "z8msfX1EtEXY"
      },
      "outputs": [],
      "source": [
        "# Tfidf Vectorization\n",
        "vectorizer = TfidfVectorizer(max_features=5000, ngram_range=(1, 2))\n",
        "X_train = vectorizer.fit_transform(train_texts).toarray()\n",
        "X_test = vectorizer.transform(test_texts).toarray()\n",
        "\n",
        "# Convert labels to tensors\n",
        "train_labels = torch.tensor(train_labels.values, dtype=torch.long)\n",
        "test_labels = torch.tensor(test_labels.values, dtype=torch.long)\n",
        "\n",
        "# Create DataLoader\n",
        "train_dataset = TensorDataset(torch.tensor(X_train, dtype=torch.float32), train_labels)\n",
        "test_dataset = TensorDataset(torch.tensor(X_test, dtype=torch.float32), test_labels)\n",
        "\n",
        "train_loader = DataLoader(train_dataset, batch_size=32, shuffle=True)\n",
        "test_loader = DataLoader(test_dataset, batch_size=32, shuffle=False)\n",
        "\n"
      ]
    },
    {
      "cell_type": "code",
      "source": [
        "# Define the Neural Network\n",
        "class TextClassifier(nn.Module):\n",
        "    def __init__(self, input_dim, hidden_dim, output_dim):\n",
        "        super(TextClassifier, self).__init__()\n",
        "        self.fc1 = nn.Linear(input_dim, hidden_dim)\n",
        "        self.relu = nn.ReLU()\n",
        "        self.fc2 = nn.Linear(hidden_dim, output_dim)\n",
        "        self.softmax = nn.Softmax(dim=1)\n",
        "\n",
        "    def forward(self, x):\n",
        "        x = self.fc1(x)\n",
        "        x = self.relu(x)\n",
        "        x = self.fc2(x)\n",
        "        return x\n",
        "\n",
        "input_dim = X_train.shape[1]\n",
        "hidden_dim = 128\n",
        "output_dim = 2\n",
        "\n",
        "model = TextClassifier(input_dim, hidden_dim, output_dim)\n",
        "criterion = nn.CrossEntropyLoss()\n",
        "optimizer = optim.Adam(model.parameters(), lr=0.001)\n",
        "\n",
        "# Training Loop\n",
        "epochs = 10\n",
        "for epoch in range(epochs):\n",
        "    model.train()\n",
        "    total_loss = 0\n",
        "    for X_batch, y_batch in train_loader:\n",
        "        optimizer.zero_grad()\n",
        "        outputs = model(X_batch)\n",
        "        loss = criterion(outputs, y_batch)\n",
        "        loss.backward()\n",
        "        optimizer.step()\n",
        "        total_loss += loss.item()\n",
        "    print(f\"Epoch {epoch+1}/{epochs}, Loss: {total_loss:.4f}\")\n",
        "\n",
        "# Evaluation\n",
        "model.eval()\n",
        "y_pred = []\n",
        "y_true = []\n",
        "\n",
        "with torch.no_grad():\n",
        "    for X_batch, y_batch in test_loader:\n",
        "        outputs = model(X_batch)\n",
        "        _, preds = torch.max(outputs, 1)\n",
        "        y_pred.extend(preds.numpy())\n",
        "        y_true.extend(y_batch.numpy())\n"
      ],
      "metadata": {
        "id": "TH8Ve8fUMkgr",
        "colab": {
          "base_uri": "https://localhost:8080/"
        },
        "outputId": "038bf3d0-98d7-4311-965a-a7613c6b7609"
      },
      "execution_count": 12,
      "outputs": [
        {
          "output_type": "stream",
          "name": "stdout",
          "text": [
            "Epoch 1/10, Loss: 306.3119\n",
            "Epoch 2/10, Loss: 181.1396\n",
            "Epoch 3/10, Loss: 150.4862\n",
            "Epoch 4/10, Loss: 122.0777\n",
            "Epoch 5/10, Loss: 85.6828\n",
            "Epoch 6/10, Loss: 52.5789\n",
            "Epoch 7/10, Loss: 28.6914\n",
            "Epoch 8/10, Loss: 14.8296\n",
            "Epoch 9/10, Loss: 9.8100\n",
            "Epoch 10/10, Loss: 8.1853\n"
          ]
        }
      ]
    },
    {
      "cell_type": "code",
      "source": [
        "accuracy = accuracy_score(y_true, y_pred)\n",
        "print(f\"\\nModel Accuracy: {accuracy:.2f}\")\n",
        "\n",
        "print(\"\\nClassification Report:\")\n",
        "print(classification_report(y_true, y_pred, target_names=['False', 'True']))\n",
        "\n",
        "# Confusion Matrix\n",
        "conf_matrix = confusion_matrix(y_true, y_pred)\n",
        "disp = ConfusionMatrixDisplay(conf_matrix, display_labels=['False', 'True'])\n",
        "disp.plot(cmap='Blues')\n",
        "plt.title('Confusion Matrix')\n",
        "plt.show()\n",
        "\n",
        "# Display a few predictions\n",
        "print(\"\\nSample Predictions:\")\n",
        "for i, (text, pred, true_label) in enumerate(zip(test_texts[:5], y_pred[:5], test_labels[:5])):\n",
        "    print(f\"\\nSample {i+1}\")\n",
        "    print(f\"Text: {text}\")\n",
        "    print(f\"Predicted: {'True' if pred else 'False'}, Actual: {'True' if true_label else 'False'}\")"
      ],
      "metadata": {
        "colab": {
          "base_uri": "https://localhost:8080/",
          "height": 1000
        },
        "id": "jUgXCN1sz-Pp",
        "outputId": "35befca5-1dae-421c-ebe4-8c17678d39ad"
      },
      "execution_count": 13,
      "outputs": [
        {
          "output_type": "stream",
          "name": "stdout",
          "text": [
            "\n",
            "Model Accuracy: 0.96\n",
            "\n",
            "Classification Report:\n",
            "              precision    recall  f1-score   support\n",
            "\n",
            "       False       0.95      0.97      0.96      7010\n",
            "        True       0.97      0.96      0.96      7409\n",
            "\n",
            "    accuracy                           0.96     14419\n",
            "   macro avg       0.96      0.96      0.96     14419\n",
            "weighted avg       0.96      0.96      0.96     14419\n",
            "\n"
          ]
        },
        {
          "output_type": "display_data",
          "data": {
            "text/plain": [
              "<Figure size 640x480 with 2 Axes>"
            ],
            "image/png": "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\n"
          },
          "metadata": {}
        },
        {
          "output_type": "stream",
          "name": "stdout",
          "text": [
            "\n",
            "Sample Predictions:\n",
            "\n",
            "Sample 1\n",
            "Text: Trump s ongoing meltdown over  fake news  (the rest of us call it  reporting) organizations entered what seems like its eighteenth year on Wednesday after NBC correctly reported on the  Today  show that companies like Wal-Mart and General Motors are pulling a fast one on Trump by saying that job creation that was going to happen anyway was because of him in an effort to trick him into liking them.But don t take NBC s word for it.The CEOs of Fiat Chrysler and Ford said job announcements were business decisions and not a result of pressure from Trump https://t.co/lh8MhyoIAf  David Shepardson (@davidshepardson) January 18, 2017Nevertheless, Trump decried any reporting that does not place him as some kind of job creation wizard as  fake news,  the new right-wing term for  facts    in third person, nonetheless.Totally biased @NBCNews went out of its way to say that the big announcement from Ford, G.M., Lockheed & others that jobs are coming back  Donald J. Trump (@realDonaldTrump) January 18, 2017to the U.S., but had nothing to do with TRUMP, is more FAKE NEWS. Ask top CEO's of those companies for real facts. Came back because of me!  Donald J. Trump (@realDonaldTrump) January 18, 2017Reuters reporter David Shepardson did ask the CEOs of Fiat Chrysler and Ford, both of whom confirmed that Trump has nothing to do with anything their companies do.The CEOs of Fiat Chrysler and Ford said job announcements were business decisions and not a result of pressure from Trump https://t.co/lh8MhyoIAf  David Shepardson (@davidshepardson) January 18, 2017Trump s rant continued:\"Bayer AG has pledged to add U.S. jobs and investments after meeting with President-elect Donald Trump, the latest in a string \" @WSJ  Donald J. Trump (@realDonaldTrump) January 18, 2017No wonder the Today Show on biased @NBC is doing so badly compared to its glorious past. Little credibility!  Donald J. Trump (@realDonaldTrump) January 18, 2017[Fun Fact: The  Today Show  celebrated a record-setting month in December]This massive outpouring of dumbf*ckery, of course, did not go unchecked for long. The Internet swept in and was nice enough to remind Trump   as they do as part of the ritual surrounding his moronic Twitter musings daily   that he is an utter failure of a human being in every way..@realDonaldTrump No, they reported the truth. pic.twitter.com/IMdM4PPFYS  Jordan Uhl (@JordanUhl) January 18, 2017.@realDonaldTrump Just because the reporting doesn't fit your false narrative doesn't make it \"fake.\" You're setting a dangerous precedent. pic.twitter.com/OhBCsh1lQA  Jordan Uhl (@JordanUhl) January 18, 2017@realDonaldTrump Don't let your Twitter minions lull you into a false sense of security  this is why the world thinks you're a joke.  Kris Sanchez (@KrisSanchez) January 18, 2017@realDonaldTrump so the only media we can trust are Golf Digest, Infowars, Breitbart, and your Twitter feed. Got it.  Matt Haig (@matthaig1) January 18, 2017.@realDonaldTrump Honey you're about to be sworn in as President of the United States and you're frantically trashing a TV show.  Bess Kalb (@bessbell) January 18, 2017@realDonaldTrump @nbc Jesus, are you just going to try to smear and discredit all mainstream media as President? Total embarrassment. Sad!  Mike P Williams (@Mike_P_Williams) January 18, 2017@realDonaldTrump @nbc just like The Apprentice, with Executive Producer DJT?  That's you! Tanking   just like your approval rating. Sad!  Andy Sternberg (@andysternberg) January 18, 2017Can he just go back to his morning shower? @BenSRachinger @realDonaldTrump @nbc pic.twitter.com/2yzepUTDmS  No Filter Alexa ? (@realAlexaPark) January 18, 2017@realDonaldTrump Well, if anyone knows about having little credibility, it's the guy who refuses to pay people who perform services for him.  Jordan Brenner (@JordanBrenner) January 18, 2017@realDonaldTrump @nbc President Putin showered praise on you yesterday. Your thoughts?   pic.twitter.com/rSZxP5dcQz  Jean-Pierre Boutros (@BoutrosTO) January 18, 2017Donald Trump will be our President on Friday and his primary focus is attacking news organizations who report unflattering but true things about him. If this is the sort of behavior we can expect from him as POTUS, we are totally f*cked.Featured image via Getty Images/Win McNamee\n",
            "Predicted: True, Actual: True\n",
            "\n",
            "Sample 2\n",
            "Text: Women’s   Breaststroke: In the days leading up to this race, the American Lilly King criticized her Russian opponent, reigning world champion Yulia Efimova, for her “drug cheating,” a reference to Efimova’s   doping suspension which ended in early 2015. During qualifying the two rivals exchanged   taunts, which led to a tense final. In the end, King had the last word, breaking an Olympic record in the process. Her time of 1:04. 93 beat the 1:05. 17 swam by Australia’s Leisel Jones in 2008. Efimova took the silver at 1:05. 50. Follow us here for the latest updates on our Olympics coverage. In a   interview with NBC, King said, “You wave your finger No. 1 and you’ve been caught drug cheating?” “I’m not a fan,” she added. Read Karen Crouse’s story on the race and the rivalry here. Men’s 100 Backstroke: The United States has claimed every gold medal in the men’s   backstroke since Canada’s Mark Tewksbury touched the wall   of a second before the American Jeff Rouse in 1992. Ryan Murphy, a   Olympian, kept the streak intact Monday and set an Olympic record in the process. He was timed in 51. 97, missing the world record, set by Aaron Peirsol in 2009, by   of a second. Xu Jiayu of China won the silver, barely, over Murphy’s teammate, David Plummer. Xu was timed in 52. 31 to Plummer’s 52. 40.  —   KAREN CROUSE On paper, Tuesday looks like one of those days destined for Olympic magic and neverending highlight reels. Gymnastics: Simone Biles and the U. S. women’s gymnastics team are the heavy favorites in the team competition. The Americans dominated in individual qualifying and would have to fall hard to miss gold. Swimming: Katie Ledecky made her   freestyle debut in an   competition at last summer’s world championships and won. If she wins the gold against a strong field that includes Sarah Sjostrom of Sweden, Ledecky will be   of the way to becoming the first swimmer since Debbie Meyer in 1968 to win the 200, 400 and 800 at the same Olympics. One of the most anticipated showdowns of the Rio Games takes place when Michael Phelps tries to avenge his 2012 Olympic loss to South Africa’s Chad Le Clos in the   butterfly. Katinka Hosszu shattered the world record in the 400 individual medley on Saturday, and she will look to do the same to her world mark in the 200 I. M. How to Watch: NBC broadcasts on a tape delay, but you can stream all the events here. Japan returned to the top of the men’s gymnastics world, beating Russia and China in the team event. The event was a renewal of the longtime gymnastics rivalry between Japan and China. China had won the last two gold medals, in 2008 and 2012. But Japan had Kohei Uchimura, the world’s best gymnast  —   and perhaps the best of all time  —   anchoring their team. In the final rotation, Japan took on Russia    in the floor exercise, holding a slim lead of 0. 208 points. Japan went first. After an outstanding score from Kenzo Shirai and a good one from Ryohei Kato, Uchimura locked down the win with a 15. 6. Combined, it was the best team floor exercise score of the night. Russia finished second, and China took the bronze. A second Olympic boxer has been arrested and jailed on charges of sexual assault, a Brazilian police official said Monday, raising concerns over safety at the athletes’ village for the locals who work there. The arrest of the boxer, Jonas Junius of Namibia, came on Sunday after a judicial order requesting it. The authorities transferred Junius from a police precinct to a   prison in Rio de Janeiro on Monday, said a police official, Rodrigo Moreira. The accuser was Brazilian, Moreira said. The boxer “attempted to grab and kiss the cleaning lady” in the hallway of the 11th floor of a building in the Olympic Village on Sunday, the Rio de Janeiro state civil police said in a statement. The woman immediately contacted the police, Moreira said. The arrest came just two days after the Moroccan boxer Hassan Saada was arrested on similar charges, which led to his missing an Olympic bout Saturday and being disqualified for the rest of the Rio Games. He has been transferred to the same prison Junius was sent to on Monday and is serving a   preliminary prison sentence. Junius, who carried his country’s flag in Friday’s opening ceremony, was scheduled to fight Hassan Amzile of France on Thursday in a   bout in the round of 32. —   VINOD SREEHARSHA Swimming: Conor Dwyer won the bronze medal in the men’s   freestyle, missing a silver by 0. 03 seconds when Chad le Clos of South Africa edged him at the wall with a 1:45. 20. Sun Yang of China won the gold in 1:44. 65. Fencing: Ibtihaj Muhammad became the first United States Olympian in any sport to compete at a Games while wearing a hijab. Muhammad won her first match before losing in the round of 16. Tennis: Caroline Wozniacki, Denmark’s   at the opening ceremony, lost to Petra Kvitova of the Czech Republic,    . Field Hockey: Having already defeated Argentina, the No.   team in the world, the United States women’s field hockey team did it again on Monday, beating Australia, which is ranked No. 3. Both victories came by a   score. Swimming: The   Olympian Lilly King heads into the   breaststroke as one of only two American women  —   Katie Ledecky is the other  —   to enter the Games with the world’s top time in an event this year. Rugby: Women will receive Olympic medals in rugby for the first time ever when the rugby sevens bronze and gold medal matches are decided.\n",
            "Predicted: False, Actual: False\n",
            "\n",
            "Sample 3\n",
            "Text: It was only a matter of time We can t keep our borders open to anyone who cares to cross over, offer them immunity from the law in sanctuary cities that basically give criminals the ability to move around freely and expect a positive result. We asked for it when most American citizens sat back and allowed Obama to bully our border agents into submission, while shaming our government officials and law enforcement agencies for daring to demand stricter immigration controls. There s a good reason Donald J. Trump rose to the top of the packed GOP Presidential field when he mentioned building a wall on our southern border and clamping down on the insane flow of unvetted immigrants and refugees into the United States.Hillary is on the same team as Obama when it comes to unchecked illegal immigration. BRENTWOOD, N.Y.   Four dead teenagers. Two weeks. One town. And a ruthless gang, the authorities say, was most likely responsible for the toll. Again.On Sept. 13, Nisa Mickens, 15, and her best friend, Kayla Cuevas, 16, were murdered, their battered bodies found near an elementary school here. A week later and just two miles away, the skeletal remains of two more teenagers   identified as Oscar Acosta, 19, and Miguel Garcia-Moran, 15   were found in the woods near a psychiatric hospital. Oscar had been missing since May, Miguel since February. Their deaths have been ruled homicides.Brentwood, a hardscrabble town of nearly 60,000 on Long Island, 40 miles east of Manhattan, has reached another crisis point. For nearly two decades, MS-13, a gang with roots in Los Angeles and El Salvador, has been terrorizing the town, the authorities say, especially its young people. Since 2009, its members have been accused of at least 14 murders, court and police records show.School officials are scrambling. Police officers are searching. Students are frightened. Parents are anguished. It s so hard, I m hurting,  Eveylyn Rodriguez, the mother of Kayla, said last week.  I wish I could hold my daughter again. In her first interview since Kayla s funeral, Ms. Rodriguez spoke measuredly about how her daughter had been bullied by gang members inside and outside of her high school. To me, it s worse than it was before; it s everywhere,  said Ms. Rodriguez, a 1987 graduate of Brentwood Ross High School, where her daughter was a student.  This is ridiculous,  she added.  We need some type of assistance to help our police officers here and see if they can come together to figure out a plan to make things better for the kids now. The path to such a plan, however, runs through a fractured Suffolk County. Its former police chief is headed to jail, its district attorney is under federal investigation and a Justice Department settlement mandated changes in the police department in 2013 after findings of bias against Latino residents.Tensions simmer here because some residents say they believe an increase in Central American migrants to town has led to the increase in gang violence. According to 2014 census figures compiled by Queens College, Brentwood s population is 68 percent Latino or Hispanic, with more than 17,000 residents claiming to be from El Salvador.Brentwood has 4,400 high school students divided into two schools, and administrators say the environment is safe. Gang members rarely present themselves in the schools,  Richard Loeschner, the principal of Brentwood Ross High School, said.  If they do, we take care of that pretty quickly. But ultimately, he said, after acknowledging that the administration knew of about 20 to 25 students in the district with possible gang affiliations, there is only so much they can do. We can t exclude a kid because we suspect they are in a gang,  Mr. Loeschner said.  That s state and federal law that they are entitled to an education. Even before the girls  murders, students were subject to random screenings with metal detectors, which have increased over the past few weeks, he added. There are no detectors at the entrances of either high school, however.Some parents were concerned that the school s response to the violence was not proactive enough. Dr. Levi McIntyre, the school superintendent, sent an email to parents warning their children not to wear royal blue, the color identified with MS-13, or clothes displaying the Salvadoran flag. A student on the way to school, he wrote, recently had his blue shirt torn off by gang members and burned.MS-13 formed in Los Angeles in the 1980s by immigrants from El Salvador escaping civil war. The abbreviation stands for Mara Salvatrucha, which roughly translates to  Salvadoran street posse. Authorities say it has been in Suffolk County since around 1998, and is organized in cliques bearing names like the Brentwood Locos Salvatruchas. Leaders gather to discuss their lines of business   extortion, prostitution, robbery, drug dealing   and to authorize the killings of chavalas, or members of rival gangs like the Bloods and Crips, court papers say.The recent murders have exacerbated disputes in the town over immigration policy, which Donald J. Trump, the Republican candidate for president, fueled during last week s debate by saying that the gangs roaming the streets were made up of illegal immigrants. There s been a huge influx, to be honest with you,  said Ray Mayo, the president of the Brentwood Association of Concerned Citizens, who added that he was upset over undocumented immigrants crowding rental properties.  It seems like a whole new set of gang members who have stirred the pot up. Two law enforcement authorities, who spoke on the condition of anonymity because of the continuing murder investigation, said that over the last several years the gang has sought to enlist recent immigrants from Central America because they are often more vulnerable to recruitment. For entire story: NYT s \n",
            "Predicted: True, Actual: True\n",
            "\n",
            "Sample 4\n",
            "Text: A male colleague grabbing her leg. Another one suggestively rubbing her back. Others at work dinners discussing who they’d want to sleep with. Jane Park talked about experiencing all of this behavior in her career in business consulting and strategy. Never has she reported any of it to human resources or management. “It’s made into such a big deal that you have to make a decision: Do you want to ruin your career? Do you want this to be everything that you end up being about?” said Ms. Park, who is now chief executive of Julep, a beauty company she founded. “What you really want to happen is that it doesn’t happen again. ” Her choice is more common than not, social science research shows. Employers, judges and juries often use women’s failure to report harassment as evidence that it was not a problem or that plaintiffs had other motives. But only a quarter to a third of people who have been harassed at work report it to a supervisor or union representative, and 2 percent to 13 percent file a formal complaint, according to a   of studies by Lilia Cortina of the University of Michigan and Jennifer Berdahl of the University of British Columbia Sauder School of Business. Mostly they fear retaliation, and with good reason, research shows. In response to a New York Times report this month of payouts to women who had accused the Fox news host Bill O’Reilly of sexual harassment, 21st Century Fox, Fox News’s parent company, said: “No current or former Fox News employee ever took advantage of the 21st Century Fox hotline to raise a concern about Bill O’Reilly, even anonymously. ” In interviews, women who worked at Fox said they didn’t complain to human resources because they feared they would be fired. Some women who experience harassment confront the perpetrator or confide in friends or family, the   found. But the most common response is to avoid the person, play down what happened or ignore the behavior. Some don’t report a problem because they don’t think their experience qualifies as illegal harassment. An analysis of 55 representative surveys found that about 25 percent of women report having experienced sexual harassment, but when they are asked about specific behaviors, like inappropriate touching or pressure for sexual favors, the share roughly doubles. Those numbers are broadly consistent with other survey findings. Many victims, who are most often women, fear they will face disbelief, inaction, blame or societal and professional retaliation. That could be hostility from supervisors, a bad reference to future employers or the loss of job opportunities. Their fears are grounded in reality, researchers have concluded. In one study of   employees,   of workers who had complained about mistreatment described some form of retaliation in a   survey. “They become troublemakers  —   nobody wants to hire them or work with them anymore,” Ms. Berdahl said. Paradoxically, official harassment policies and grievance procedures often end up creating obstacles to women’s ability to assert their rights, according to research by   Marshall, a sociologist at the University of Illinois. “That is in part because companies put them into place as mini litigation defense centers,” Ms. Marshall said. “The way employers deal with it is to prepare to show a court or jury that they did everything they could, rather than to protect women in the workplace. ” There are many ways that company cultures discourage people who are harassed from reporting it. Sometimes the harasser is a superstar  —   someone who makes the company so much money that he feels powerful and uninhibited in his behavior because the company has considerable incentive to look the other way. The more someone has a reputation for harassing, the less likely a woman is to complain, Ms. Berdahl said: “It’s natural to conclude that if he’s been getting away with this for a long time, then the organization tolerates it, so why become the problem yourself by going to H. R.?” Other times the human resources department has no interest in helping the employee  —   or there is no such department at all. This is common in Silicon Valley, where companies grow so fast  —   and where disdain for   bureaucracy runs so deep  —   that human resources officials often serve only to recruit employees. In February, a former Uber engineer, Susan Fowler, wrote that when she reported to the Uber human resources department that her manager had tried persuading her to have sex with him on her first official day on her new team, the department declined to take action. It said she could change teams or accept what would probably be a poor performance review from the manager. Uber has a new human resources executive and is doing an internal investigation. Ellen Pao, a former partner at Kleiner Perkins Caufield  Byers, described an atmosphere of sexism and harassment at the venture capital firm  —   with little recourse. In fact, it had no human resources department. She sued and lost a   trial. Organizations that are very hierarchical or masculine can breed more harassment, and less reporting of it, according to studies, because gendered power dynamics are a big driver. That’s one reason that harassment has been rampant  —   and underreported  —   in the military. Most sizable companies have policies banning sexual harassment and require some sort of training in what it is and how to report it. But much of the training has been shown to be ineffective, and at worst can backfire. The best way to avoid sexual harassment and ensure that it’s reported when it happens is to bake it into company culture, from the top leaders on down, executives and researchers say. “When you have an effective H. R. department that is supported by leadership, people feel safe about reporting harassment,” said Bettina Deynes, vice president for H. R. at the Society for Human Resource Management, a professional association. “It has a lot to do with the type of H. R. department: The motive is not the legal liability, but the culture you want. ” Culture is a squishy concept, but companies can do concrete things. One counterintuitive idea is to reward managers when complaints of harassment increase in their department, because it means they’re creating an environment where people are comfortable reporting it, according to a frank report published in June by the Equal Employment Opportunity Commission. Here are some other ideas from the commission and researchers in the field: ■ Authorize dozens of employees throughout the organization to receive complaints, so that people can report to someone they’re comfortable with. ■ Hire an ombudsman. ■ Promote more women to positions of power. ■ Train people not in what not to do, but in how to be civil to colleagues, and how to speak up as a bystander  —   and have senior leaders attend the training sessions. ■ Put in proportional consequences, so that   instances can be handled with conversations instead of firings or legal action. Ms. Pao, now the chief diversity and inclusion partner at the Kapor Center, a research, advisory and investment group that tries to make the tech industry more diverse, says she is pessimistic that company cultures will change unless it starts at the very top. “If you could fix the problem, then everybody could move on and thrive,” she said. “But often it’s not just the one bad player, so you may want to get out of the culture. ”\n",
            "Predicted: False, Actual: False\n",
            "\n",
            "Sample 5\n",
            "Text: STRASBOURG (Reuters) - The European Parliament named its press room in Strasbourg after Daphne Caruana Galizia, the Maltese journalist killed last month in a car bomb after years of reporting allegations of deep-rooted corruption on the island. On a day when the EU legislature debated a broadly supported resolution questioning the rule of law in Malta and demanding answers on allegations of high-level money laundering made by Caruana Galizia, the ceremony underlined the pressure the Union s smallest state has found itself under since her Oct. 16 murder. In the auditorium used for news conferences in Parliament s Strasbourg seat, the new name above the door would, Parliament President Antonio Tajani said, ensure that from now on  we will not turn our eyes away from what happened in Malta . At the Parliament s other home, in Brussels, the press room is named after Anna Politkovskaya, the Russian investigative journalist shot dead in her apartment block in Moscow in 2006 in a killing opposition leaders blamed on the Kremlin. Maltese Prime Minister Joseph Muscat, who had sued Caruana Galizia and one of her sons for libel over allegations of graft, has vowed to track down her killers and insists that the Maltese state is fully compliant with EU standards. Peter Caruana Galizia, the dead journalist s husband, said during the naming ceremony in Strasbourg in the presence of other family members that Malta s political elite had  deep and wide  links to money laundering networks and the country had  slipped further and further away from European values . \n",
            "Predicted: False, Actual: False\n"
          ]
        }
      ]
    },
    {
      "cell_type": "code",
      "source": [],
      "metadata": {
        "id": "F1DdVKJX1LIh"
      },
      "execution_count": null,
      "outputs": []
    }
  ],
  "metadata": {
    "colab": {
      "provenance": []
    },
    "kernelspec": {
      "display_name": "Python 3",
      "name": "python3"
    },
    "language_info": {
      "name": "python"
    }
  },
  "nbformat": 4,
  "nbformat_minor": 0
}
