{
  "nbformat": 4,
  "nbformat_minor": 0,
  "metadata": {
    "colab": {
      "provenance": [],
      "include_colab_link": true
    },
    "kernelspec": {
      "name": "python3",
      "display_name": "Python 3"
    },
    "language_info": {
      "name": "python"
    }
  },
  "cells": [
    {
      "cell_type": "markdown",
      "metadata": {
        "id": "view-in-github",
        "colab_type": "text"
      },
      "source": [
        "<a href=\"https://colab.research.google.com/github/AnastasiaKazanas/ANN-Final-Project/blob/main/Bert_FCNN/Covid19FakeNews.ipynb\" target=\"_parent\"><img src=\"https://colab.research.google.com/assets/colab-badge.svg\" alt=\"Open In Colab\"/></a>"
      ]
    },
    {
      "cell_type": "code",
      "execution_count": 1,
      "metadata": {
        "id": "du4fVcJyeqdy"
      },
      "outputs": [],
      "source": [
        "import random\n",
        "import torch\n",
        "import torch.nn as nn\n",
        "import torch.optim as optim\n",
        "import numpy as np\n",
        "from transformers import BertTokenizer, BertModel, BertForSequenceClassification\n",
        "from sklearn.metrics.pairwise import cosine_similarity\n",
        "import kagglehub\n",
        "import pandas as pd\n",
        "import re\n",
        "import os\n",
        "import nltk\n",
        "from sklearn.model_selection import train_test_split, GridSearchCV\n",
        "from sklearn.feature_extraction.text import TfidfVectorizer\n",
        "from sklearn.linear_model import LogisticRegression\n",
        "from sklearn.metrics import classification_report, accuracy_score, confusion_matrix, ConfusionMatrixDisplay\n",
        "from nltk.corpus import stopwords\n",
        "from nltk.stem import WordNetLemmatizer\n",
        "import matplotlib.pyplot as plt\n",
        "import h5py\n",
        "from torch.utils.data import TensorDataset, DataLoader"
      ]
    },
    {
      "cell_type": "code",
      "source": [
        "# Download NLTK resources\n",
        "nltk.download('stopwords')\n",
        "nltk.download('wordnet')\n",
        "\n",
        "# Kaggle dataset download\n",
        "path = kagglehub.dataset_download(\"invalizare/covid-19-fake-news-dataset\")\n",
        "dataset_dir = \"/root/.cache/kagglehub/datasets/invalizare/covid-19-fake-news-dataset/\"\n",
        "\n",
        "# Dynamically locate the Val.csv file\n",
        "file_name = None\n",
        "for root, dirs, files in os.walk(dataset_dir):\n",
        "    for file in files:\n",
        "        if \"Val.csv\" in file:\n",
        "            file_name = os.path.join(root, file)\n",
        "            break\n",
        "\n",
        "# Load the dataset\n",
        "df = pd.read_csv(file_name)\n",
        "\n",
        "# Display dataset preview and statistics\n",
        "print(\"Dataset preview:\")\n",
        "print(df.head())\n",
        "\n",
        "print(\"\\nDataset statistics:\")\n",
        "print(df.describe())\n",
        "\n",
        "# Check and handle missing values\n",
        "missing_values = df.isnull().sum()\n",
        "print(\"\\nMissing values per column:\")\n",
        "print(missing_values)\n",
        "df.dropna(subset=['tweet', 'label'], inplace=True)\n",
        "\n",
        "# Rename columns for consistency\n",
        "df.rename(columns={'tweet': 'text'}, inplace=True)\n"
      ],
      "metadata": {
        "colab": {
          "base_uri": "https://localhost:8080/"
        },
        "id": "SfPw3b2te4J7",
        "outputId": "18763daa-b5e8-4c25-e1a3-46c3c414fd6e"
      },
      "execution_count": 2,
      "outputs": [
        {
          "output_type": "stream",
          "name": "stderr",
          "text": [
            "[nltk_data] Downloading package stopwords to /root/nltk_data...\n",
            "[nltk_data]   Package stopwords is already up-to-date!\n",
            "[nltk_data] Downloading package wordnet to /root/nltk_data...\n",
            "[nltk_data]   Package wordnet is already up-to-date!\n"
          ]
        },
        {
          "output_type": "stream",
          "name": "stdout",
          "text": [
            "Dataset preview:\n",
            "   id                                              tweet label\n",
            "0   1  Chinese converting to Islam after realising th...  fake\n",
            "1   2  11 out of 13 people (from the Diamond Princess...  fake\n",
            "2   3  COVID-19 Is Caused By A Bacterium, Not Virus A...  fake\n",
            "3   4  Mike Pence in RNC speech praises Donald Trump’...  fake\n",
            "4   5  6/10 Sky's @EdConwaySky explains the latest #C...  real\n",
            "\n",
            "Dataset statistics:\n",
            "                id\n",
            "count  2140.000000\n",
            "mean   1070.500000\n",
            "std     617.909109\n",
            "min       1.000000\n",
            "25%     535.750000\n",
            "50%    1070.500000\n",
            "75%    1605.250000\n",
            "max    2140.000000\n",
            "\n",
            "Missing values per column:\n",
            "id       0\n",
            "tweet    0\n",
            "label    0\n",
            "dtype: int64\n"
          ]
        }
      ]
    },
    {
      "cell_type": "code",
      "source": [
        "# Convert labels from strings to integers\n",
        "label_mapping = {'fake': 0, 'true': 1}\n",
        "df['label'] = df['label'].map(label_mapping)\n",
        "\n",
        "def preprocess_text(text):\n",
        "    text = re.sub(r'[^\\w\\s]', '', text)\n",
        "    text = text.lower()\n",
        "    return text\n",
        "\n",
        "df['processed_text'] = df['text'].apply(preprocess_text)"
      ],
      "metadata": {
        "id": "s9fNavu1e4ZZ"
      },
      "execution_count": 3,
      "outputs": []
    },
    {
      "cell_type": "code",
      "source": [
        "!git clone https://github.com/AnastasiaKazanas/ANN-Final-Project.git"
      ],
      "metadata": {
        "colab": {
          "base_uri": "https://localhost:8080/"
        },
        "id": "vI36VL1spyrW",
        "outputId": "9da22948-13d9-423f-875c-005094bcff28"
      },
      "execution_count": 4,
      "outputs": [
        {
          "output_type": "stream",
          "name": "stdout",
          "text": [
            "fatal: destination path 'ANN-Final-Project' already exists and is not an empty directory.\n"
          ]
        }
      ]
    },
    {
      "cell_type": "code",
      "source": [
        "file_path = '/content/ANN-Final-Project/Bert_embeding_datasets/Covid19FakeNews.h5'\n",
        "\n",
        "with h5py.File(file_path, 'r') as f:\n",
        "    input_ids = np.array(f['input_ids'])\n",
        "    attention_mask = np.array(f['attention_mask'])\n",
        "    labels = np.array(f['labels'])\n",
        "\n",
        "# Convert labels to torch tensors\n",
        "labels = torch.tensor(labels, dtype=torch.long)\n",
        "\n",
        "# Split data\n",
        "X_train_ids, X_test_ids, X_train_mask, X_test_mask, y_train, y_test = train_test_split(\n",
        "    input_ids, attention_mask, labels, test_size=0.2, random_state=42\n",
        ")\n",
        "\n",
        "# Convert to torch tensors (BERT expects Long type for input_ids and attention_mask)\n",
        "X_train_ids = torch.tensor(X_train_ids, dtype=torch.long)\n",
        "X_test_ids = torch.tensor(X_test_ids, dtype=torch.long)\n",
        "X_train_mask = torch.tensor(X_train_mask, dtype=torch.long)\n",
        "X_test_mask = torch.tensor(X_test_mask, dtype=torch.long)\n",
        "y_train = torch.tensor(y_train, dtype=torch.long)\n",
        "y_test = torch.tensor(y_test, dtype=torch.long)\n",
        "\n",
        "# Load BERT model for embedding extraction\n",
        "bert_model = BertModel.from_pretrained('bert-base-uncased')\n",
        "bert_model.eval()\n",
        "\n",
        "with torch.no_grad():\n",
        "    train_outputs = bert_model(X_train_ids, attention_mask=X_train_mask)\n",
        "    X_train_embeddings = train_outputs.pooler_output\n",
        "\n",
        "with torch.no_grad():\n",
        "    test_outputs = bert_model(X_test_ids, attention_mask=X_test_mask)\n",
        "    X_test_embeddings = test_outputs.pooler_output\n",
        "\n",
        "train_dataset = TensorDataset(X_train_embeddings, y_train)\n",
        "test_dataset = TensorDataset(X_test_embeddings, y_test)\n",
        "\n",
        "train_loader = DataLoader(train_dataset, batch_size=64, shuffle=True)\n",
        "test_loader = DataLoader(test_dataset, batch_size=64, shuffle=False)\n"
      ],
      "metadata": {
        "id": "7dCdObjUfBZv",
        "colab": {
          "base_uri": "https://localhost:8080/"
        },
        "outputId": "44627b11-9dbe-4049-e6cb-4a96e11de542"
      },
      "execution_count": null,
      "outputs": [
        {
          "output_type": "stream",
          "name": "stderr",
          "text": [
            "<ipython-input-5-01814afb2e28>:21: UserWarning: To copy construct from a tensor, it is recommended to use sourceTensor.clone().detach() or sourceTensor.clone().detach().requires_grad_(True), rather than torch.tensor(sourceTensor).\n",
            "  y_train = torch.tensor(y_train, dtype=torch.long)\n",
            "<ipython-input-5-01814afb2e28>:22: UserWarning: To copy construct from a tensor, it is recommended to use sourceTensor.clone().detach() or sourceTensor.clone().detach().requires_grad_(True), rather than torch.tensor(sourceTensor).\n",
            "  y_test = torch.tensor(y_test, dtype=torch.long)\n",
            "/usr/local/lib/python3.10/dist-packages/huggingface_hub/utils/_auth.py:94: UserWarning: \n",
            "The secret `HF_TOKEN` does not exist in your Colab secrets.\n",
            "To authenticate with the Hugging Face Hub, create a token in your settings tab (https://huggingface.co/settings/tokens), set it as secret in your Google Colab and restart your session.\n",
            "You will be able to reuse this secret in all of your notebooks.\n",
            "Please note that authentication is recommended but still optional to access public models or datasets.\n",
            "  warnings.warn(\n"
          ]
        }
      ]
    },
    {
      "cell_type": "code",
      "source": [
        "# FCNN\n",
        "class FullyConnectedModel(nn.Module):\n",
        "    def __init__(self, input_size, hidden_size, num_classes):\n",
        "        super(FullyConnectedModel, self).__init__()\n",
        "        self.fc1 = nn.Linear(input_size, hidden_size)\n",
        "        self.relu = nn.ReLU()\n",
        "        self.fc2 = nn.Linear(hidden_size, num_classes)\n",
        "\n",
        "    def forward(self, x):\n",
        "        out = self.fc1(x)\n",
        "        out = self.relu(out)\n",
        "        out = self.fc2(out)\n",
        "        return out\n",
        "\n",
        "\n",
        "# Model\n",
        "input_size = X_train_embeddings.shape[1]\n",
        "hidden_size = 100\n",
        "num_classes = 2\n",
        "\n",
        "model = FullyConnectedModel(input_size, hidden_size, num_classes)\n",
        "\n",
        "criterion = nn.CrossEntropyLoss()\n",
        "optimizer = optim.Adam(model.parameters(), lr=0.001)\n",
        "\n",
        "# Train the model\n",
        "num_epochs = 5\n",
        "for epoch in range(num_epochs):\n",
        "    model.train()\n",
        "    total_loss = 0\n",
        "    for inputs, targets in train_loader:\n",
        "        outputs = model(inputs)\n",
        "        loss = criterion(outputs, targets)\n",
        "        optimizer.zero_grad()\n",
        "        loss.backward()\n",
        "        optimizer.step()\n",
        "\n",
        "    print(f'Epoch [{epoch+1}/{num_epochs}], Loss: {loss.item():.4f}')"
      ],
      "metadata": {
        "id": "9gR1WxH3fqgi",
        "colab": {
          "base_uri": "https://localhost:8080/",
          "height": 216
        },
        "outputId": "88b51104-12f2-4167-924f-5d949deb0ba0"
      },
      "execution_count": 29,
      "outputs": [
        {
          "output_type": "error",
          "ename": "NameError",
          "evalue": "name 'X_train_embeddings' is not defined",
          "traceback": [
            "\u001b[0;31m---------------------------------------------------------------------------\u001b[0m",
            "\u001b[0;31mNameError\u001b[0m                                 Traceback (most recent call last)",
            "\u001b[0;32m<ipython-input-29-8910079f890a>\u001b[0m in \u001b[0;36m<cell line: 17>\u001b[0;34m()\u001b[0m\n\u001b[1;32m     15\u001b[0m \u001b[0;34m\u001b[0m\u001b[0m\n\u001b[1;32m     16\u001b[0m \u001b[0;31m# Model\u001b[0m\u001b[0;34m\u001b[0m\u001b[0;34m\u001b[0m\u001b[0m\n\u001b[0;32m---> 17\u001b[0;31m \u001b[0minput_size\u001b[0m \u001b[0;34m=\u001b[0m \u001b[0mX_train_embeddings\u001b[0m\u001b[0;34m.\u001b[0m\u001b[0mshape\u001b[0m\u001b[0;34m[\u001b[0m\u001b[0;36m1\u001b[0m\u001b[0;34m]\u001b[0m\u001b[0;34m\u001b[0m\u001b[0;34m\u001b[0m\u001b[0m\n\u001b[0m\u001b[1;32m     18\u001b[0m \u001b[0mhidden_size\u001b[0m \u001b[0;34m=\u001b[0m \u001b[0;36m100\u001b[0m\u001b[0;34m\u001b[0m\u001b[0;34m\u001b[0m\u001b[0m\n\u001b[1;32m     19\u001b[0m \u001b[0mnum_classes\u001b[0m \u001b[0;34m=\u001b[0m \u001b[0;36m2\u001b[0m\u001b[0;34m\u001b[0m\u001b[0;34m\u001b[0m\u001b[0m\n",
            "\u001b[0;31mNameError\u001b[0m: name 'X_train_embeddings' is not defined"
          ]
        }
      ]
    },
    {
      "cell_type": "code",
      "source": [
        "model.eval()\n",
        "all_preds = []\n",
        "all_targets = []\n",
        "\n",
        "with torch.no_grad():\n",
        "    for inputs, targets in test_loader:\n",
        "        outputs = model(inputs)\n",
        "        _, predicted = torch.max(outputs.data, 1)\n",
        "        all_preds.extend(predicted.tolist())\n",
        "        all_targets.extend(targets.tolist())\n",
        "\n",
        "accuracy = accuracy_score(all_targets, all_preds)\n",
        "print(f'Accuracy of the classifier on the test data: {accuracy:.2f}')\n",
        "\n",
        "# Classification report\n",
        "print(\"\\nClassification Report:\")\n",
        "print(classification_report(all_targets, all_preds, target_names=[\"False\", \"True\"]))\n",
        "\n",
        "# Confusion matrix\n",
        "conf_matrix = confusion_matrix(all_targets, all_preds, labels=[0, 1])\n",
        "disp = ConfusionMatrixDisplay(conf_matrix, display_labels=['False', 'True'])\n",
        "disp.plot(cmap='Blues')\n",
        "plt.title('Confusion Matrix')\n",
        "plt.show()"
      ],
      "metadata": {
        "colab": {
          "base_uri": "https://localhost:8080/",
          "height": 490
        },
        "id": "BQAITXFsjOgE",
        "outputId": "59fd87e6-f491-482d-cc22-aabbaddda7aa"
      },
      "execution_count": 28,
      "outputs": [
        {
          "output_type": "display_data",
          "data": {
            "text/plain": [
              "<Figure size 640x480 with 2 Axes>"
            ],
            "image/png": "[encoded data removed]"
          },
          "metadata": {}
        },
        {
          "output_type": "stream",
          "name": "stdout",
          "text": [
            "Accuracy of the model on the test data: 0.67\n"
          ]
        }
      ]
    },
    {
      "cell_type": "code",
      "source": [],
      "metadata": {
        "id": "XyfpHesKloqJ"
      },
      "execution_count": null,
      "outputs": []
    }
  ]
}
