{
  "cells": [
    {
      "cell_type": "markdown",
      "metadata": {
        "id": "view-in-github",
        "colab_type": "text"
      },
      "source": [
        "<a href=\"https://colab.research.google.com/github/AnastasiaKazanas/ANN-Final-Project/blob/main/BOW_FCNN_TwitterDataset.ipynb\" target=\"_parent\"><img src=\"https://colab.research.google.com/assets/colab-badge.svg\" alt=\"Open In Colab\"/></a>"
      ]
    },
    {
      "cell_type": "code",
      "execution_count": null,
      "metadata": {
        "collapsed": true,
        "id": "bFKXKDfArPNO"
      },
      "outputs": [],
      "source": [
        "import random\n",
        "import pandas as pd\n",
        "import re\n",
        "import nltk\n",
        "import torch\n",
        "import torch.nn as nn\n",
        "import torch.optim as optim\n",
        "from transformers import BertTokenizer, BertModel, BertForSequenceClassification\n",
        "from sklearn.metrics.pairwise import cosine_similarity\n",
        "from sklearn.model_selection import train_test_split, GridSearchCV\n",
        "from sklearn.feature_extraction.text import TfidfVectorizer\n",
        "from sklearn.linear_model import LogisticRegression\n",
        "from sklearn.metrics import classification_report, accuracy_score, confusion_matrix, ConfusionMatrixDisplay\n",
        "from nltk.corpus import stopwords\n",
        "from nltk.stem import WordNetLemmatizer\n",
        "from torch.utils.data import DataLoader, TensorDataset\n",
        "import matplotlib.pyplot as plt\n",
        "import kagglehub\n",
        "import os"
      ]
    },
    {
      "cell_type": "code",
      "execution_count": null,
      "metadata": {
        "id": "uiAvJ6yEr4dR",
        "colab": {
          "base_uri": "https://localhost:8080/"
        },
        "outputId": "2dc7ff8c-b2cd-4137-9ac2-5ead52439ea2"
      },
      "outputs": [
        {
          "output_type": "stream",
          "name": "stdout",
          "text": [
            "Dataset preview:\n",
            "   Unnamed: 0      author                                          statement  \\\n",
            "0           0  D.L. Davis  End of eviction moratorium means millions of A...   \n",
            "1           1  D.L. Davis  End of eviction moratorium means millions of A...   \n",
            "2           2  D.L. Davis  End of eviction moratorium means millions of A...   \n",
            "3           3  D.L. Davis  End of eviction moratorium means millions of A...   \n",
            "4           4  D.L. Davis  End of eviction moratorium means millions of A...   \n",
            "\n",
            "   target  BinaryNumTarget                 manual_keywords  \\\n",
            "0    True              1.0  Americans, eviction moratorium   \n",
            "1    True              1.0  Americans, eviction moratorium   \n",
            "2    True              1.0  Americans, eviction moratorium   \n",
            "3    True              1.0  Americans, eviction moratorium   \n",
            "4    True              1.0  Americans, eviction moratorium   \n",
            "\n",
            "                                               tweet 5_label_majority_answer  \\\n",
            "0  @POTUS Biden Blunders - 6 Month Update\\n\\nInfl...            Mostly Agree   \n",
            "1  @S0SickRick @Stairmaster_ @6d6f636869 Not as m...             NO MAJORITY   \n",
            "2  THE SUPREME COURT is siding with super rich pr...                   Agree   \n",
            "3  @POTUS Biden Blunders\\n\\nBroken campaign promi...            Mostly Agree   \n",
            "4  @OhComfy I agree. The confluence of events rig...                   Agree   \n",
            "\n",
            "  3_label_majority_answer  \n",
            "0                   Agree  \n",
            "1                   Agree  \n",
            "2                   Agree  \n",
            "3                   Agree  \n",
            "4                   Agree  \n",
            "\n",
            "Dataset statistics:\n",
            "         Unnamed: 0  BinaryNumTarget\n",
            "count  134198.00000    134198.000000\n",
            "mean    67098.50000         0.513644\n",
            "std     38739.77005         0.499816\n",
            "min         0.00000         0.000000\n",
            "25%     33549.25000         0.000000\n",
            "50%     67098.50000         1.000000\n",
            "75%    100647.75000         1.000000\n",
            "max    134197.00000         1.000000\n",
            "\n",
            "Missing values per column:\n",
            "Unnamed: 0                 0\n",
            "author                     0\n",
            "statement                  0\n",
            "target                     0\n",
            "BinaryNumTarget            0\n",
            "manual_keywords            0\n",
            "tweet                      0\n",
            "5_label_majority_answer    0\n",
            "3_label_majority_answer    0\n",
            "dtype: int64\n",
            "\n",
            "Renamed dataset preview:\n",
            "   Unnamed: 0      author                                          statement  \\\n",
            "0           0  D.L. Davis  End of eviction moratorium means millions of A...   \n",
            "1           1  D.L. Davis  End of eviction moratorium means millions of A...   \n",
            "2           2  D.L. Davis  End of eviction moratorium means millions of A...   \n",
            "3           3  D.L. Davis  End of eviction moratorium means millions of A...   \n",
            "4           4  D.L. Davis  End of eviction moratorium means millions of A...   \n",
            "\n",
            "   target  label                 manual_keywords  \\\n",
            "0    True    1.0  Americans, eviction moratorium   \n",
            "1    True    1.0  Americans, eviction moratorium   \n",
            "2    True    1.0  Americans, eviction moratorium   \n",
            "3    True    1.0  Americans, eviction moratorium   \n",
            "4    True    1.0  Americans, eviction moratorium   \n",
            "\n",
            "                                                text 5_label_majority_answer  \\\n",
            "0  @POTUS Biden Blunders - 6 Month Update\\n\\nInfl...            Mostly Agree   \n",
            "1  @S0SickRick @Stairmaster_ @6d6f636869 Not as m...             NO MAJORITY   \n",
            "2  THE SUPREME COURT is siding with super rich pr...                   Agree   \n",
            "3  @POTUS Biden Blunders\\n\\nBroken campaign promi...            Mostly Agree   \n",
            "4  @OhComfy I agree. The confluence of events rig...                   Agree   \n",
            "\n",
            "  3_label_majority_answer  \n",
            "0                   Agree  \n",
            "1                   Agree  \n",
            "2                   Agree  \n",
            "3                   Agree  \n",
            "4                   Agree  \n"
          ]
        }
      ],
      "source": [
        "\n",
        "# Kaggle dataset download\n",
        "path = kagglehub.dataset_download(\"sudishbasnet/truthseekertwitterdataset2023\")\n",
        "dataset_dir = \"/root/.cache/kagglehub/datasets/sudishbasnet/truthseekertwitterdataset2023/\"\n",
        "\n",
        "# Dynamically locate the CSV file\n",
        "file_name = None\n",
        "for root, dirs, files in os.walk(dataset_dir):\n",
        "    for file in files:\n",
        "        if \"Truth_Seeker_Model_Dataset\" in file and file.endswith(\".csv\"):\n",
        "            file_name = os.path.join(root, file)\n",
        "            break\n",
        "\n",
        "# Ensure the file is found\n",
        "if not file_name:\n",
        "    raise FileNotFoundError(\"Truth_Seeker_Model_Dataset.csv not found in the extracted dataset.\")\n",
        "\n",
        "# Load the dataset\n",
        "df = pd.read_csv(file_name)\n",
        "\n",
        "# Display dataset preview and statistics\n",
        "print(\"Dataset preview:\")\n",
        "print(df.head())\n",
        "\n",
        "print(\"\\nDataset statistics:\")\n",
        "print(df.describe())\n",
        "\n",
        "# Handle missing values\n",
        "missing_values = df.isnull().sum()\n",
        "print(\"\\nMissing values per column:\")\n",
        "print(missing_values)\n",
        "df.dropna(subset=['tweet', 'BinaryNumTarget'], inplace=True)\n",
        "\n",
        "# Rename columns for consistency\n",
        "df.rename(columns={'tweet': 'text', 'BinaryNumTarget': 'label'}, inplace=True)\n",
        "\n",
        "# Display dataset after renaming columns\n",
        "print(\"\\nRenamed dataset preview:\")\n",
        "print(df.head())"
      ]
    },
    {
      "cell_type": "code",
      "source": [
        "def preprocess_text(text):\n",
        "    text = re.sub(r'[^\\w\\s]', '', text)  # Remove special characters\n",
        "    text = text.lower()  # Convert to lowercase\n",
        "    return text\n",
        "\n",
        "df['processed_text'] = df['text'].apply(preprocess_text)\n",
        "\n",
        "# Add filtering for texts with len < 50\n",
        "new_data = []\n",
        "new_labels = []\n",
        "for text, label in zip(df['processed_text'], df['label']):\n",
        "    if len(text) >= 50:  # Filter out texts shorter than 50 characters\n",
        "        new_data.append(text)\n",
        "        new_labels.append(label)\n",
        "\n",
        "filtered_df = pd.DataFrame({'text': new_data, 'label': new_labels})\n",
        "\n",
        "# Split the dataset\n",
        "train_texts, test_texts, train_labels, test_labels = train_test_split(\n",
        "    filtered_df['text'], filtered_df['label'], test_size=0.2, random_state=42\n",
        ")\n"
      ],
      "metadata": {
        "id": "eRQdv5sq2kZt"
      },
      "execution_count": null,
      "outputs": []
    },
    {
      "cell_type": "code",
      "execution_count": null,
      "metadata": {
        "id": "z8msfX1EtEXY"
      },
      "outputs": [],
      "source": [
        "# Tfidf Vectorization\n",
        "vectorizer = TfidfVectorizer(max_features=5000, ngram_range=(1, 2))\n",
        "X_train = vectorizer.fit_transform(train_texts).toarray()\n",
        "X_test = vectorizer.transform(test_texts).toarray()\n",
        "\n",
        "# Convert labels to tensors\n",
        "train_labels = torch.tensor(train_labels.values, dtype=torch.long)\n",
        "test_labels = torch.tensor(test_labels.values, dtype=torch.long)\n",
        "\n",
        "# Create DataLoader\n",
        "train_dataset = TensorDataset(torch.tensor(X_train, dtype=torch.float32), train_labels)\n",
        "test_dataset = TensorDataset(torch.tensor(X_test, dtype=torch.float32), test_labels)\n",
        "\n",
        "train_loader = DataLoader(train_dataset, batch_size=32, shuffle=True)\n",
        "test_loader = DataLoader(test_dataset, batch_size=32, shuffle=False)\n",
        "\n"
      ]
    },
    {
      "cell_type": "code",
      "source": [
        "# Define the Neural Network\n",
        "class TextClassifier(nn.Module):\n",
        "    def __init__(self, input_dim, hidden_dim, output_dim):\n",
        "        super(TextClassifier, self).__init__()\n",
        "        self.fc1 = nn.Linear(input_dim, hidden_dim)\n",
        "        self.relu = nn.ReLU()\n",
        "        self.fc2 = nn.Linear(hidden_dim, output_dim)\n",
        "        self.softmax = nn.Softmax(dim=1)\n",
        "\n",
        "    def forward(self, x):\n",
        "        x = self.fc1(x)\n",
        "        x = self.relu(x)\n",
        "        x = self.fc2(x)\n",
        "        return x\n",
        "\n",
        "input_dim = X_train.shape[1]\n",
        "hidden_dim = 128\n",
        "output_dim = 2\n",
        "\n",
        "model = TextClassifier(input_dim, hidden_dim, output_dim)\n",
        "criterion = nn.CrossEntropyLoss()\n",
        "optimizer = optim.Adam(model.parameters(), lr=0.001)\n",
        "\n",
        "# Training Loop\n",
        "epochs = 10\n",
        "for epoch in range(epochs):\n",
        "    model.train()\n",
        "    total_loss = 0\n",
        "    for X_batch, y_batch in train_loader:\n",
        "        optimizer.zero_grad()\n",
        "        outputs = model(X_batch)\n",
        "        loss = criterion(outputs, y_batch)\n",
        "        loss.backward()\n",
        "        optimizer.step()\n",
        "        total_loss += loss.item()\n",
        "    print(f\"Epoch {epoch+1}/{epochs}, Loss: {total_loss:.4f}\")\n",
        "\n",
        "# Evaluation\n",
        "model.eval()\n",
        "y_pred = []\n",
        "y_true = []\n",
        "\n",
        "with torch.no_grad():\n",
        "    for X_batch, y_batch in test_loader:\n",
        "        outputs = model(X_batch)\n",
        "        _, preds = torch.max(outputs, 1)\n",
        "        y_pred.extend(preds.numpy())\n",
        "        y_true.extend(y_batch.numpy())\n"
      ],
      "metadata": {
        "id": "TH8Ve8fUMkgr",
        "colab": {
          "base_uri": "https://localhost:8080/"
        },
        "outputId": "d6670ba1-13cd-417d-9411-dcb8d7baf5ed"
      },
      "execution_count": null,
      "outputs": [
        {
          "output_type": "stream",
          "name": "stdout",
          "text": [
            "Epoch 1/10, Loss: 362.4594\n",
            "Epoch 2/10, Loss: 201.5270\n",
            "Epoch 3/10, Loss: 150.6724\n",
            "Epoch 4/10, Loss: 95.3270\n",
            "Epoch 5/10, Loss: 46.4673\n",
            "Epoch 6/10, Loss: 18.4839\n",
            "Epoch 7/10, Loss: 7.0793\n",
            "Epoch 8/10, Loss: 3.7693\n",
            "Epoch 9/10, Loss: 2.5512\n",
            "Epoch 10/10, Loss: 2.3117\n"
          ]
        }
      ]
    },
    {
      "cell_type": "code",
      "source": [
        "accuracy = accuracy_score(y_true, y_pred)\n",
        "print(f\"\\nModel Accuracy: {accuracy:.2f}\")\n",
        "\n",
        "print(\"\\nClassification Report:\")\n",
        "print(classification_report(y_true, y_pred, target_names=['False', 'True']))\n",
        "\n",
        "# Confusion Matrix\n",
        "conf_matrix = confusion_matrix(y_true, y_pred)\n",
        "disp = ConfusionMatrixDisplay(conf_matrix, display_labels=['False', 'True'])\n",
        "disp.plot(cmap='Blues')\n",
        "plt.title('Confusion Matrix')\n",
        "plt.show()\n",
        "\n",
        "# Display a few predictions\n",
        "print(\"\\nSample Predictions:\")\n",
        "for i, (text, pred, true_label) in enumerate(zip(test_texts[:5], y_pred[:5], test_labels[:5])):\n",
        "    print(f\"\\nSample {i+1}\")\n",
        "    print(f\"Text: {text}\")\n",
        "    print(f\"Predicted: {'True' if pred else 'False'}, Actual: {'True' if true_label else 'False'}\")"
      ],
      "metadata": {
        "colab": {
          "base_uri": "https://localhost:8080/",
          "height": 1000
        },
        "id": "jUgXCN1sz-Pp",
        "outputId": "da158b06-8ae9-434e-fd96-7dce8fe7fc6c"
      },
      "execution_count": null,
      "outputs": [
        {
          "output_type": "stream",
          "name": "stdout",
          "text": [
            "\n",
            "Model Accuracy: 0.98\n",
            "\n",
            "Classification Report:\n",
            "              precision    recall  f1-score   support\n",
            "\n",
            "       False       0.98      0.98      0.98     12951\n",
            "        True       0.98      0.98      0.98     13675\n",
            "\n",
            "    accuracy                           0.98     26626\n",
            "   macro avg       0.98      0.98      0.98     26626\n",
            "weighted avg       0.98      0.98      0.98     26626\n",
            "\n"
          ]
        },
        {
          "output_type": "display_data",
          "data": {
            "text/plain": [
              "<Figure size 640x480 with 2 Axes>"
            ],
            "image/png": "[encoded data removed]"
          },
          "metadata": {}
        },
        {
          "output_type": "stream",
          "name": "stdout",
          "text": [
            "\n",
            "Sample Predictions:\n",
            "\n",
            "Sample 1\n",
            "Text: irvleavitt davechappelle its not entirely clear that marriage equality will survive the trump court and its important to remember that in most of america it is still perfectly legal to fire someone for being a gay lesbian bisexual or transgendered person\n",
            "Predicted: True, Actual: True\n",
            "\n",
            "Sample 2\n",
            "Text: the good news about rand paul  plagiarizing gattaca is that at least hes found an idea not copied from his father\n",
            "Predicted: True, Actual: True\n",
            "\n",
            "Sample 3\n",
            "Text: ones vaccination status is considered medical information and should fall the hipaa as private wishing a quick recovery\n",
            "Predicted: False, Actual: False\n",
            "\n",
            "Sample 4\n",
            "Text: tianamen1989 153dontdoxmepls natsecjeff really this one taliban fighter is enough for your 100 soldiers wasted your your billion of dollars for nothing you can come  to afghanistan by your will but cant go without the afghans will afghanistan is the hell of invaders\n",
            "Predicted: False, Actual: True\n",
            "\n",
            "Sample 5\n",
            "Text: us population growth is the lowest its been since 1918 heres why thats terrible news for the economy\n",
            "\n",
            "this\n",
            "is\n",
            "so\n",
            "beautiful\n",
            "that\n",
            "i\n",
            "am\n",
            "sated speechless\n",
            "Predicted: True, Actual: True\n"
          ]
        }
      ]
    },
    {
      "cell_type": "code",
      "source": [],
      "metadata": {
        "id": "F1DdVKJX1LIh"
      },
      "execution_count": null,
      "outputs": []
    }
  ],
  "metadata": {
    "colab": {
      "provenance": [],
      "include_colab_link": true
    },
    "kernelspec": {
      "display_name": "Python 3",
      "name": "python3"
    },
    "language_info": {
      "name": "python"
    }
  },
  "nbformat": 4,
  "nbformat_minor": 0
}
