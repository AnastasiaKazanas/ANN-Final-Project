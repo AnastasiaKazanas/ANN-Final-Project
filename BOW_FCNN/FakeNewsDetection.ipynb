{
  "cells": [
    {
      "cell_type": "markdown",
      "metadata": {
        "id": "view-in-github",
        "colab_type": "text"
      },
      "source": [
        "<a href=\"https://colab.research.google.com/github/AnastasiaKazanas/ANN-Final-Project/blob/main/BOW%E2%80%94FCNN_FakeNewsDetection.ipynb\" target=\"_parent\"><img src=\"https://colab.research.google.com/assets/colab-badge.svg\" alt=\"Open In Colab\"/></a>"
      ]
    },
    {
      "cell_type": "code",
      "execution_count": null,
      "metadata": {
        "collapsed": true,
        "id": "bFKXKDfArPNO"
      },
      "outputs": [],
      "source": [
        "import random\n",
        "import pandas as pd\n",
        "import re\n",
        "import nltk\n",
        "import torch\n",
        "import torch.nn as nn\n",
        "import torch.optim as optim\n",
        "from transformers import BertTokenizer, BertModel, BertForSequenceClassification\n",
        "from sklearn.metrics.pairwise import cosine_similarity\n",
        "from sklearn.model_selection import train_test_split, GridSearchCV\n",
        "from sklearn.feature_extraction.text import TfidfVectorizer\n",
        "from sklearn.linear_model import LogisticRegression\n",
        "from sklearn.metrics import classification_report, accuracy_score, confusion_matrix, ConfusionMatrixDisplay\n",
        "from nltk.corpus import stopwords\n",
        "from nltk.stem import WordNetLemmatizer\n",
        "from torch.utils.data import DataLoader, TensorDataset\n",
        "import matplotlib.pyplot as plt\n",
        "import kagglehub\n",
        "import os\n",
        "import zipfile"
      ]
    },
    {
      "cell_type": "code",
      "execution_count": null,
      "metadata": {
        "id": "uiAvJ6yEr4dR",
        "colab": {
          "base_uri": "https://localhost:8080/"
        },
        "outputId": "699345b8-0512-4193-d3be-1428da086064"
      },
      "outputs": [
        {
          "output_type": "stream",
          "name": "stdout",
          "text": [
            "Downloading dataset: emineyetm/fake-news-detection-datasets\n",
            "Extracting ./fake_news_dataset/fake-news-detection-datasets.zip...\n",
            "Combined Dataset Preview:\n",
            "                                               title  \\\n",
            "0   Donald Trump Sends Out Embarrassing New Year’...   \n",
            "1   Drunk Bragging Trump Staffer Started Russian ...   \n",
            "2   Sheriff David Clarke Becomes An Internet Joke...   \n",
            "3   Trump Is So Obsessed He Even Has Obama’s Name...   \n",
            "4   Pope Francis Just Called Out Donald Trump Dur...   \n",
            "\n",
            "                                                text subject  \\\n",
            "0  Donald Trump just couldn t wish all Americans ...    News   \n",
            "1  House Intelligence Committee Chairman Devin Nu...    News   \n",
            "2  On Friday, it was revealed that former Milwauk...    News   \n",
            "3  On Christmas day, Donald Trump announced that ...    News   \n",
            "4  Pope Francis used his annual Christmas Day mes...    News   \n",
            "\n",
            "                date  label  \n",
            "0  December 31, 2017      0  \n",
            "1  December 31, 2017      0  \n",
            "2  December 30, 2017      0  \n",
            "3  December 29, 2017      0  \n",
            "4  December 25, 2017      0  \n",
            "\n",
            "Dataset statistics:\n",
            "              label\n",
            "count  44898.000000\n",
            "mean       0.477015\n",
            "std        0.499477\n",
            "min        0.000000\n",
            "25%        0.000000\n",
            "50%        0.000000\n",
            "75%        1.000000\n",
            "max        1.000000\n"
          ]
        }
      ],
      "source": [
        "# Define the dataset directory\n",
        "dataset_dir = \"./fake_news_dataset\"\n",
        "\n",
        "# Create the dataset directory if it doesn't exist\n",
        "if not os.path.exists(dataset_dir):\n",
        "    os.makedirs(dataset_dir)\n",
        "\n",
        "# Use Kaggle API to download the dataset\n",
        "dataset_name = \"emineyetm/fake-news-detection-datasets\"\n",
        "print(f\"Downloading dataset: {dataset_name}\")\n",
        "os.system(f\"kaggle datasets download -d {dataset_name} -p {dataset_dir}\")\n",
        "\n",
        "# Extract the dataset\n",
        "zip_file = None\n",
        "for file in os.listdir(dataset_dir):\n",
        "    if file.endswith(\".zip\"):\n",
        "        zip_file = os.path.join(dataset_dir, file)\n",
        "        break\n",
        "\n",
        "if not zip_file:\n",
        "    raise FileNotFoundError(\"No zip file found in the dataset directory.\")\n",
        "\n",
        "print(f\"Extracting {zip_file}...\")\n",
        "with zipfile.ZipFile(zip_file, \"r\") as zip_ref:\n",
        "    zip_ref.extractall(dataset_dir)\n",
        "\n",
        "# Dynamically locate Fake.csv and True.csv\n",
        "fake_path, true_path = None, None\n",
        "for root, dirs, files in os.walk(dataset_dir):\n",
        "    for file in files:\n",
        "        if \"Fake.csv\" in file:\n",
        "            fake_path = os.path.join(root, file)\n",
        "        if \"True.csv\" in file:\n",
        "            true_path = os.path.join(root, file)\n",
        "\n",
        "# Ensure the files are found\n",
        "if not fake_path or not true_path:\n",
        "    raise FileNotFoundError(\"Could not find Fake.csv or True.csv in the dataset directory.\")\n",
        "\n",
        "# Load datasets\n",
        "fake_df = pd.read_csv(fake_path)\n",
        "true_df = pd.read_csv(true_path)\n",
        "\n",
        "# Add labels and combine datasets\n",
        "fake_df['label'] = 0  # Fake news labeled as 0\n",
        "true_df['label'] = 1  # True news labeled as 1\n",
        "df = pd.concat([fake_df, true_df]).reset_index(drop=True)\n",
        "\n",
        "# Display preview and statistics\n",
        "print(\"Combined Dataset Preview:\")\n",
        "print(df.head())\n",
        "print(\"\\nDataset statistics:\")\n",
        "print(df.describe())"
      ]
    },
    {
      "cell_type": "code",
      "source": [
        "def preprocess_text(text):\n",
        "    text = re.sub(r'[^\\w\\s]', '', text)  # Remove special characters\n",
        "    text = text.lower()  # Convert to lowercase\n",
        "    return text\n",
        "\n",
        "df['processed_text'] = df['text'].apply(preprocess_text)\n",
        "\n",
        "# Add filtering for texts with len < 50\n",
        "new_data = []\n",
        "new_labels = []\n",
        "for text, label in zip(df['processed_text'], df['label']):\n",
        "    if len(text) >= 50:  # Filter out texts shorter than 50 characters\n",
        "        new_data.append(text)\n",
        "        new_labels.append(label)\n",
        "\n",
        "filtered_df = pd.DataFrame({'text': new_data, 'label': new_labels})\n",
        "\n",
        "# Split the dataset\n",
        "train_texts, test_texts, train_labels, test_labels = train_test_split(\n",
        "    filtered_df['text'], filtered_df['label'], test_size=0.2, random_state=42\n",
        ")\n"
      ],
      "metadata": {
        "id": "eRQdv5sq2kZt"
      },
      "execution_count": null,
      "outputs": []
    },
    {
      "cell_type": "code",
      "execution_count": null,
      "metadata": {
        "id": "z8msfX1EtEXY"
      },
      "outputs": [],
      "source": [
        "# Tfidf Vectorization\n",
        "vectorizer = TfidfVectorizer(max_features=5000, ngram_range=(1, 2))\n",
        "X_train = vectorizer.fit_transform(train_texts).toarray()\n",
        "X_test = vectorizer.transform(test_texts).toarray()\n",
        "\n",
        "# Convert labels to tensors\n",
        "train_labels = torch.tensor(train_labels.values, dtype=torch.long)\n",
        "test_labels = torch.tensor(test_labels.values, dtype=torch.long)\n",
        "\n",
        "# Create DataLoader\n",
        "train_dataset = TensorDataset(torch.tensor(X_train, dtype=torch.float32), train_labels)\n",
        "test_dataset = TensorDataset(torch.tensor(X_test, dtype=torch.float32), test_labels)\n",
        "\n",
        "train_loader = DataLoader(train_dataset, batch_size=32, shuffle=True)\n",
        "test_loader = DataLoader(test_dataset, batch_size=32, shuffle=False)\n",
        "\n"
      ]
    },
    {
      "cell_type": "code",
      "source": [
        "# Define the Neural Network\n",
        "class TextClassifier(nn.Module):\n",
        "    def __init__(self, input_dim, hidden_dim, output_dim):\n",
        "        super(TextClassifier, self).__init__()\n",
        "        self.fc1 = nn.Linear(input_dim, hidden_dim)\n",
        "        self.relu = nn.ReLU()\n",
        "        self.fc2 = nn.Linear(hidden_dim, output_dim)\n",
        "        self.softmax = nn.Softmax(dim=1)\n",
        "\n",
        "    def forward(self, x):\n",
        "        x = self.fc1(x)\n",
        "        x = self.relu(x)\n",
        "        x = self.fc2(x)\n",
        "        return x\n",
        "\n",
        "input_dim = X_train.shape[1]\n",
        "hidden_dim = 128\n",
        "output_dim = 2\n",
        "\n",
        "model = TextClassifier(input_dim, hidden_dim, output_dim)\n",
        "criterion = nn.CrossEntropyLoss()\n",
        "optimizer = optim.Adam(model.parameters(), lr=0.001)\n",
        "\n",
        "# Training Loop\n",
        "epochs = 10\n",
        "for epoch in range(epochs):\n",
        "    model.train()\n",
        "    total_loss = 0\n",
        "    for X_batch, y_batch in train_loader:\n",
        "        optimizer.zero_grad()\n",
        "        outputs = model(X_batch)\n",
        "        loss = criterion(outputs, y_batch)\n",
        "        loss.backward()\n",
        "        optimizer.step()\n",
        "        total_loss += loss.item()\n",
        "    print(f\"Epoch {epoch+1}/{epochs}, Loss: {total_loss:.4f}\")\n",
        "\n",
        "# Evaluation\n",
        "model.eval()\n",
        "y_pred = []\n",
        "y_true = []\n",
        "\n",
        "with torch.no_grad():\n",
        "    for X_batch, y_batch in test_loader:\n",
        "        outputs = model(X_batch)\n",
        "        _, preds = torch.max(outputs, 1)\n",
        "        y_pred.extend(preds.numpy())\n",
        "        y_true.extend(y_batch.numpy())\n"
      ],
      "metadata": {
        "id": "TH8Ve8fUMkgr",
        "colab": {
          "base_uri": "https://localhost:8080/"
        },
        "outputId": "6c735fdd-37c1-4397-9451-5963a1a42822"
      },
      "execution_count": null,
      "outputs": [
        {
          "output_type": "stream",
          "name": "stdout",
          "text": [
            "Epoch 1/10, Loss: 74.5921\n",
            "Epoch 2/10, Loss: 8.1147\n",
            "Epoch 3/10, Loss: 2.0748\n",
            "Epoch 4/10, Loss: 0.7896\n",
            "Epoch 5/10, Loss: 0.2392\n",
            "Epoch 6/10, Loss: 0.1020\n",
            "Epoch 7/10, Loss: 0.0510\n",
            "Epoch 8/10, Loss: 0.0279\n",
            "Epoch 9/10, Loss: 0.0149\n",
            "Epoch 10/10, Loss: 0.0079\n"
          ]
        }
      ]
    },
    {
      "cell_type": "code",
      "source": [
        "accuracy = accuracy_score(y_true, y_pred)\n",
        "print(f\"\\nModel Accuracy: {accuracy:.2f}\")\n",
        "\n",
        "print(\"\\nClassification Report:\")\n",
        "print(classification_report(y_true, y_pred, target_names=['False', 'True']))\n",
        "\n",
        "# Confusion Matrix\n",
        "conf_matrix = confusion_matrix(y_true, y_pred)\n",
        "disp = ConfusionMatrixDisplay(conf_matrix, display_labels=['False', 'True'])\n",
        "disp.plot(cmap='Blues')\n",
        "plt.title('Confusion Matrix')\n",
        "plt.show()\n",
        "\n",
        "# Display a few predictions\n",
        "print(\"\\nSample Predictions:\")\n",
        "for i, (text, pred, true_label) in enumerate(zip(test_texts[:5], y_pred[:5], test_labels[:5])):\n",
        "    print(f\"\\nSample {i+1}\")\n",
        "    print(f\"Text: {text}\")\n",
        "    print(f\"Predicted: {'True' if pred else 'False'}, Actual: {'True' if true_label else 'False'}\")"
      ],
      "metadata": {
        "colab": {
          "base_uri": "https://localhost:8080/",
          "height": 1000
        },
        "id": "jUgXCN1sz-Pp",
        "outputId": "7bda1144-67bb-4c92-897b-222de549341c"
      },
      "execution_count": null,
      "outputs": [
        {
          "output_type": "stream",
          "name": "stdout",
          "text": [
            "\n",
            "Model Accuracy: 1.00\n",
            "\n",
            "Classification Report:\n",
            "              precision    recall  f1-score   support\n",
            "\n",
            "       False       1.00      0.99      1.00      4510\n",
            "        True       0.99      1.00      1.00      4300\n",
            "\n",
            "    accuracy                           1.00      8810\n",
            "   macro avg       1.00      1.00      1.00      8810\n",
            "weighted avg       1.00      1.00      1.00      8810\n",
            "\n"
          ]
        },
        {
          "output_type": "display_data",
          "data": {
            "text/plain": [
              "<Figure size 640x480 with 2 Axes>"
            ],
            "image/png": "[encoded data removed]"
          },
          "metadata": {}
        },
        {
          "output_type": "stream",
          "name": "stdout",
          "text": [
            "\n",
            "Sample Predictions:\n",
            "\n",
            "Sample 1\n",
            "Text: 21st century wire says after 12 months of perpetrating one of the greatest political hoaxes in history   blaming russia for the presidential victory of donald trump   the washington establishment is now wanting to take the lie to the next level by sanctioning not only russian international media outlets but any media outlet see one of their guide lists here who dare to violate the mainstream party line on the us war agenda by broadcasting to an america audience  forcing them the register as  foreign agents  under the fara act of 1934 crosstalk says  the television station you are watching now and the russian news agency sputnik may find themselves in legal jeopardy in the united states the drive to designate both as foreign agents under the  foreign agents registration act  is disturbing and dangerous it would seem those in power decide who can freely speak host peter lavelle is crosstalking with guests scott rickard neil clark and alexander nekrassovwatch this incredible discussion on how washington is degenerating into a paranoid neomccarthyist den of political scapegoatists   whose chief aim is to shut down any dissenting voices against america s policy of endless war around the globe read more russiagate news at 21st century wire russiagate filessupport 21wire  subscribe  become a member  21wiretv\n",
            "Predicted: False, Actual: False\n",
            "\n",
            "Sample 2\n",
            "Text: brussels reuters  the eu executive urged spain to talk to catalan separatists on monday condemning violence but also calling for unity a day after spanish police beat people trying to vote in an independence referendum in catalonia edging into a minefield it has tried hard to avoid despite a danger for stability in spain and the euro zone the european commission issued a cautiously balanced statement it voiced trust in spanish prime minister mariano rajoy s ability to manage this  internal matter  but also called for dialogue and reminded madrid of a need to respect citizens  basic rights  we call on all relevant players to now move very swiftly from confrontation to dialogue violence can never be an instrument in politics  the commission said in a statement read out by chief spokesman margaritis schinas just before catalan leader carles puigdemont asked for eu mediation pressed by reporters schinas declined to say specifically that the eu was condemning spanish police tactics though it was their actions at polling stations on sunday which mostly shocked fellow europeans and generated public pressure that saw other governments including germany and france call for more dialogue commission president jeanclaude juncker spoke to rajoy later on monday after being in contact over the weekend though the eu spokesman declined to say whether the union would mediate an unusual step for brussels to take within one of the bloc s own member states aides said juncker spelled out the commission position and was also  in a listening mode  donald tusk the former polish prime minister who chairs summits of eu national leaders said after his own conversation with rajoy that he shared the spanish premier s constitutional arguments but also appealed to him to find ways to prevent a further escalation and the use of force the commission statement also supported madrid s line that the vote which catalan leaders said recorded a huge result for independence was  not legal  under spain s constitution brussels has in the past given little or no encouragement to separatist movements inside the european union whether those of the catalans scots flemings or others  these are times for unity and stability not divisiveness and fragmentation  it said any breakaway state would have to leave the eu and reapply to join the statement also noted even that could only happen if the split were amicable this distinguishes scotland which held a referendum agreed with london in 2014 from catalonia where spain s constitutional court has said the 1978 constitution forbids secession for all the reluctance of other europeans to be drawn into the dispute in public there has been growing unease in brussels about the way the conservative government in madrid has handled the confrontation with barcelona reviving emotions rooted in 20thcentury civil war and dictatorship as pictures of heavily armoured spanish police clubbing women on the ground stunned europe on sunday the few governments that spoke out included those of scotland slovenia which emerged from the bloody collapse of yugoslavia and belgium where repeated rounds of devolution have averted a final split between french and dutchspeakers on monday berlin joined the calls for dialogue warning against a  spiral of escalation  germany s bdi industrial federation warned that splitting the highly industrialised region from spain would be very damaging for both sides \n",
            "Predicted: True, Actual: True\n",
            "\n",
            "Sample 3\n",
            "Text: 21st century wire says  b acting president obama and former house speaker john boehner getting their kicks making saturday night live videos on taxpayer timehost patrick henningsen opens episode 133 of the sunday wire with a skewering rant about last weekend s annual white house correspondents  dinner and takes a hard look at the decaying state of america s near nonexistent  fourth estate  which has devolved into  team america  mediathis is your brave new world soundcloud url httpsapisoundcloudcomtracks262463038  params auto_playfalsehide_relatedfalseshow_commentstrueshow_usertrueshow_repostsfalsevisualtrue  width 100  height 450  iframe true    listen to the sunday wire live  via the archive here\n",
            "Predicted: False, Actual: False\n",
            "\n",
            "Sample 4\n",
            "Text: washington reuters  us president donald trump does not like the border adjustment tax cooked up by us house speaker paul ryan and other republicans in the house of representatives at least he does not like the term i dont like the word adjustment because our country gets taken advantage of to use a nice term by every other country in the world trump told fox business news in an interview that aired on wednesday adjustment means we lose we lose lets call it an import tax lets call it a reciprocal tax he added nobody gets angry when you say reciprocal tax trump was talking about a provision in ryans house republican tax blueprint that has polarized the tax reform debate as the white house tries to score a muchneeded legislative victory by overhauling the us tax code for the first time since the reagan era the proposal would exempt us corporate export revenues from federal taxes while requiring us companies to shoulder the same flat 20 percent tax rate on supplies and other purchased products whether produced overseas or domestically but the president appeared to favor an import tax that could be adjusted to reflect the country of origins tax rate for us products he said such an approach could take the form of trade policy rather than tax policy there has to be a certain reciprocal nature to it the president said the other countries if theyre charging you a 50 percent tax you say ok whatever you charge were charging the house border adjustment tax or bat would help trump keep his campaign pledge to create manufacturing jobs advocates say by exempting us export revenue from tax while subjecting imports to the same 20 percent corporate tax imposed on domestic products but the measure has been angrily denounced by importdependent industries and rejected by enough senate republicans to call its political viability into question in his fox interview trump lamented the inequalities of the international tax system saying us products face high tax rates overseas while foreignmade goods enter the us market tax free treasury secretary steven mnuchin floated the idea of a reciprocal tax in february but administration officials have offered few details and lobbyists have suggested that it could strongly resemble the house bat proposal i love the idea of reciprocal trump said you can call it a reciprocal or a matching tax or a mirror tax there are numerous terms but the reciprocal tax is very important \n",
            "Predicted: True, Actual: True\n",
            "\n",
            "Sample 5\n",
            "Text: 21st century wire says after last friday night s clash between democratic party students and republican trump supporters in chicago mainstream media outlets republican and democratic candidates are all taking aim at donald trump going into the pivotal super tuesday primary contestwatch as cnn s jake tapper and donald trump tossel onair as the cnn presenter accuses the republican front runner of causing violence at his rallies  \n",
            "Predicted: False, Actual: False\n"
          ]
        }
      ]
    },
    {
      "cell_type": "code",
      "source": [],
      "metadata": {
        "id": "F1DdVKJX1LIh"
      },
      "execution_count": null,
      "outputs": []
    }
  ],
  "metadata": {
    "colab": {
      "provenance": [],
      "include_colab_link": true
    },
    "kernelspec": {
      "display_name": "Python 3",
      "name": "python3"
    },
    "language_info": {
      "name": "python"
    }
  },
  "nbformat": 4,
  "nbformat_minor": 0
}
