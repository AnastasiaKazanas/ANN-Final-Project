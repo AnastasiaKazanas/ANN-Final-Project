{
  "cells": [
    {
      "cell_type": "code",
      "execution_count": null,
      "metadata": {
        "collapsed": true,
        "id": "bFKXKDfArPNO"
      },
      "outputs": [],
      "source": [
        "import random\n",
        "import torch\n",
        "import random\n",
        "import torch\n",
        "from transformers import BertTokenizer, BertModel, BertForSequenceClassification\n",
        "from sklearn.metrics.pairwise import cosine_similarity\n",
        "# !pip install tensorflow"
      ]
    },
    {
      "cell_type": "code",
      "execution_count": null,
      "metadata": {
        "id": "uiAvJ6yEr4dR",
        "colab": {
          "base_uri": "https://localhost:8080/"
        },
        "outputId": "ece7f24f-046b-4697-ae2b-218a501a10fe"
      },
      "outputs": [
        {
          "output_type": "stream",
          "name": "stderr",
          "text": [
            "[nltk_data] Downloading package stopwords to /root/nltk_data...\n",
            "[nltk_data]   Unzipping corpora/stopwords.zip.\n",
            "[nltk_data] Downloading package wordnet to /root/nltk_data...\n"
          ]
        },
        {
          "output_type": "stream",
          "name": "stdout",
          "text": [
            "Dataset preview:\n",
            "   Unnamed: 0                                              title  \\\n",
            "0           0  LAW ENFORCEMENT ON HIGH ALERT Following Threat...   \n",
            "1           1                                                NaN   \n",
            "2           2  UNBELIEVABLE! OBAMA’S ATTORNEY GENERAL SAYS MO...   \n",
            "3           3  Bobby Jindal, raised Hindu, uses story of Chri...   \n",
            "4           4  SATAN 2: Russia unvelis an image of its terrif...   \n",
            "\n",
            "                                                text  label  \n",
            "0  No comment is expected from Barack Obama Membe...      1  \n",
            "1     Did they post their votes for Hillary already?      1  \n",
            "2   Now, most of the demonstrators gathered last ...      1  \n",
            "3  A dozen politically active pastors came here f...      0  \n",
            "4  The RS-28 Sarmat missile, dubbed Satan 2, will...      1  \n",
            "\n",
            "Dataset statistics:\n",
            "         Unnamed: 0         label\n",
            "count  72134.000000  72134.000000\n",
            "mean   36066.500000      0.514404\n",
            "std    20823.436496      0.499796\n",
            "min        0.000000      0.000000\n",
            "25%    18033.250000      0.000000\n",
            "50%    36066.500000      1.000000\n",
            "75%    54099.750000      1.000000\n",
            "max    72133.000000      1.000000\n",
            "\n",
            "Missing values per column:\n",
            "Unnamed: 0      0\n",
            "title         558\n",
            "text           39\n",
            "label           0\n",
            "dtype: int64\n"
          ]
        }
      ],
      "source": [
        "#load data from kaggle\n",
        "\n",
        "import kagglehub\n",
        "import pandas as pd\n",
        "import re\n",
        "import nltk\n",
        "from sklearn.model_selection import train_test_split, GridSearchCV\n",
        "from sklearn.feature_extraction.text import TfidfVectorizer\n",
        "from sklearn.linear_model import LogisticRegression\n",
        "from sklearn.metrics import classification_report, accuracy_score, confusion_matrix, ConfusionMatrixDisplay\n",
        "from nltk.corpus import stopwords\n",
        "from nltk.stem import WordNetLemmatizer\n",
        "import matplotlib.pyplot as plt\n",
        "nltk.download('stopwords')\n",
        "nltk.download('wordnet')\n",
        "\n",
        "# Download latest version\n",
        "path = kagglehub.dataset_download(\"saurabhshahane/fake-news-classification\")\n",
        "\n",
        "# Load the dataset\n",
        "df = pd.read_csv(\"/root/.cache/kagglehub/datasets/saurabhshahane/fake-news-classification/versions/77/WELFake_Dataset.csv\")\n",
        "\n",
        "print(\"Dataset preview:\")\n",
        "print(df.head())\n",
        "\n",
        "print(\"\\nDataset statistics:\")\n",
        "print(df.describe())\n",
        "\n",
        "missing_values = df.isnull().sum()\n",
        "print(\"\\nMissing values per column:\")\n",
        "print(missing_values)\n",
        "\n",
        "# Check for missing values and drop them\n",
        "df.dropna(subset=['text', 'label'], inplace=True)"
      ]
    },
    {
      "cell_type": "code",
      "source": [
        "def preprocess_text(text):\n",
        "    text = re.sub(r'[^\\w\\s]', '', text)  # Remove special characters\n",
        "    text = text.lower()  # Convert to lowercase\n",
        "    return text\n",
        "\n",
        "df['processed_text'] = df['text'].apply(preprocess_text)\n",
        "\n",
        "# Split the dataset\n",
        "train_texts, test_texts, train_labels, test_labels = train_test_split(\n",
        "    df['text'], df['label'], test_size=0.2, random_state=42\n",
        ")"
      ],
      "metadata": {
        "id": "eRQdv5sq2kZt"
      },
      "execution_count": null,
      "outputs": []
    },
    {
      "cell_type": "code",
      "source": [
        "df['label']"
      ],
      "metadata": {
        "colab": {
          "base_uri": "https://localhost:8080/",
          "height": 453
        },
        "id": "fQViov-v1gat",
        "outputId": "45091a89-82c7-430d-8cfe-7de4b74c0120"
      },
      "execution_count": null,
      "outputs": [
        {
          "output_type": "execute_result",
          "data": {
            "text/plain": [
              "0        1\n",
              "1        1\n",
              "2        1\n",
              "3        0\n",
              "4        1\n",
              "        ..\n",
              "72129    0\n",
              "72130    1\n",
              "72131    0\n",
              "72132    0\n",
              "72133    1\n",
              "Name: label, Length: 72095, dtype: int64"
            ],
            "text/html": [
              "<div>\n",
              "<style scoped>\n",
              "    .dataframe tbody tr th:only-of-type {\n",
              "        vertical-align: middle;\n",
              "    }\n",
              "\n",
              "    .dataframe tbody tr th {\n",
              "        vertical-align: top;\n",
              "    }\n",
              "\n",
              "    .dataframe thead th {\n",
              "        text-align: right;\n",
              "    }\n",
              "</style>\n",
              "<table border=\"1\" class=\"dataframe\">\n",
              "  <thead>\n",
              "    <tr style=\"text-align: right;\">\n",
              "      <th></th>\n",
              "      <th>label</th>\n",
              "    </tr>\n",
              "  </thead>\n",
              "  <tbody>\n",
              "    <tr>\n",
              "      <th>0</th>\n",
              "      <td>1</td>\n",
              "    </tr>\n",
              "    <tr>\n",
              "      <th>1</th>\n",
              "      <td>1</td>\n",
              "    </tr>\n",
              "    <tr>\n",
              "      <th>2</th>\n",
              "      <td>1</td>\n",
              "    </tr>\n",
              "    <tr>\n",
              "      <th>3</th>\n",
              "      <td>0</td>\n",
              "    </tr>\n",
              "    <tr>\n",
              "      <th>4</th>\n",
              "      <td>1</td>\n",
              "    </tr>\n",
              "    <tr>\n",
              "      <th>...</th>\n",
              "      <td>...</td>\n",
              "    </tr>\n",
              "    <tr>\n",
              "      <th>72129</th>\n",
              "      <td>0</td>\n",
              "    </tr>\n",
              "    <tr>\n",
              "      <th>72130</th>\n",
              "      <td>1</td>\n",
              "    </tr>\n",
              "    <tr>\n",
              "      <th>72131</th>\n",
              "      <td>0</td>\n",
              "    </tr>\n",
              "    <tr>\n",
              "      <th>72132</th>\n",
              "      <td>0</td>\n",
              "    </tr>\n",
              "    <tr>\n",
              "      <th>72133</th>\n",
              "      <td>1</td>\n",
              "    </tr>\n",
              "  </tbody>\n",
              "</table>\n",
              "<p>72095 rows × 1 columns</p>\n",
              "</div><br><label><b>dtype:</b> int64</label>"
            ]
          },
          "metadata": {},
          "execution_count": 21
        }
      ]
    },
    {
      "cell_type": "code",
      "execution_count": null,
      "metadata": {
        "colab": {
          "base_uri": "https://localhost:8080/",
          "height": 1000
        },
        "id": "z8msfX1EtEXY",
        "outputId": "03986c44-0dd7-4af7-b707-4365cc34ef4c"
      },
      "outputs": [
        {
          "output_type": "stream",
          "name": "stdout",
          "text": [
            "\n",
            "Model Accuracy: 0.95\n",
            "\n",
            "Classification Report:\n",
            "              precision    recall  f1-score   support\n",
            "\n",
            "       False       0.95      0.94      0.94      7010\n",
            "        True       0.94      0.95      0.95      7409\n",
            "\n",
            "    accuracy                           0.95     14419\n",
            "   macro avg       0.95      0.95      0.95     14419\n",
            "weighted avg       0.95      0.95      0.95     14419\n",
            "\n"
          ]
        },
        {
          "output_type": "display_data",
          "data": {
            "text/plain": [
              "<Figure size 640x480 with 2 Axes>"
            ],
            "image/png": "[encoded data removed]"
          },
          "metadata": {}
        },
        {
          "output_type": "stream",
          "name": "stdout",
          "text": [
            "\n",
            "Sample Predictions:\n",
            "\n",
            "Sample 1\n",
            "Text: Trump s ongoing meltdown over  fake news  (the rest of us call it  reporting) organizations entered what seems like its eighteenth year on Wednesday after NBC correctly reported on the  Today  show that companies like Wal-Mart and General Motors are pulling a fast one on Trump by saying that job creation that was going to happen anyway was because of him in an effort to trick him into liking them.But don t take NBC s word for it.The CEOs of Fiat Chrysler and Ford said job announcements were business decisions and not a result of pressure from Trump https://t.co/lh8MhyoIAf  David Shepardson (@davidshepardson) January 18, 2017Nevertheless, Trump decried any reporting that does not place him as some kind of job creation wizard as  fake news,  the new right-wing term for  facts    in third person, nonetheless.Totally biased @NBCNews went out of its way to say that the big announcement from Ford, G.M., Lockheed & others that jobs are coming back  Donald J. Trump (@realDonaldTrump) January 18, 2017to the U.S., but had nothing to do with TRUMP, is more FAKE NEWS. Ask top CEO's of those companies for real facts. Came back because of me!  Donald J. Trump (@realDonaldTrump) January 18, 2017Reuters reporter David Shepardson did ask the CEOs of Fiat Chrysler and Ford, both of whom confirmed that Trump has nothing to do with anything their companies do.The CEOs of Fiat Chrysler and Ford said job announcements were business decisions and not a result of pressure from Trump https://t.co/lh8MhyoIAf  David Shepardson (@davidshepardson) January 18, 2017Trump s rant continued:\"Bayer AG has pledged to add U.S. jobs and investments after meeting with President-elect Donald Trump, the latest in a string \" @WSJ  Donald J. Trump (@realDonaldTrump) January 18, 2017No wonder the Today Show on biased @NBC is doing so badly compared to its glorious past. Little credibility!  Donald J. Trump (@realDonaldTrump) January 18, 2017[Fun Fact: The  Today Show  celebrated a record-setting month in December]This massive outpouring of dumbf*ckery, of course, did not go unchecked for long. The Internet swept in and was nice enough to remind Trump   as they do as part of the ritual surrounding his moronic Twitter musings daily   that he is an utter failure of a human being in every way..@realDonaldTrump No, they reported the truth. pic.twitter.com/IMdM4PPFYS  Jordan Uhl (@JordanUhl) January 18, 2017.@realDonaldTrump Just because the reporting doesn't fit your false narrative doesn't make it \"fake.\" You're setting a dangerous precedent. pic.twitter.com/OhBCsh1lQA  Jordan Uhl (@JordanUhl) January 18, 2017@realDonaldTrump Don't let your Twitter minions lull you into a false sense of security  this is why the world thinks you're a joke.  Kris Sanchez (@KrisSanchez) January 18, 2017@realDonaldTrump so the only media we can trust are Golf Digest, Infowars, Breitbart, and your Twitter feed. Got it.  Matt Haig (@matthaig1) January 18, 2017.@realDonaldTrump Honey you're about to be sworn in as President of the United States and you're frantically trashing a TV show.  Bess Kalb (@bessbell) January 18, 2017@realDonaldTrump @nbc Jesus, are you just going to try to smear and discredit all mainstream media as President? Total embarrassment. Sad!  Mike P Williams (@Mike_P_Williams) January 18, 2017@realDonaldTrump @nbc just like The Apprentice, with Executive Producer DJT?  That's you! Tanking   just like your approval rating. Sad!  Andy Sternberg (@andysternberg) January 18, 2017Can he just go back to his morning shower? @BenSRachinger @realDonaldTrump @nbc pic.twitter.com/2yzepUTDmS  No Filter Alexa ? (@realAlexaPark) January 18, 2017@realDonaldTrump Well, if anyone knows about having little credibility, it's the guy who refuses to pay people who perform services for him.  Jordan Brenner (@JordanBrenner) January 18, 2017@realDonaldTrump @nbc President Putin showered praise on you yesterday. Your thoughts?   pic.twitter.com/rSZxP5dcQz  Jean-Pierre Boutros (@BoutrosTO) January 18, 2017Donald Trump will be our President on Friday and his primary focus is attacking news organizations who report unflattering but true things about him. If this is the sort of behavior we can expect from him as POTUS, we are totally f*cked.Featured image via Getty Images/Win McNamee\n",
            "Predicted: True, Actual: True\n",
            "\n",
            "Sample 2\n",
            "Text: Women’s   Breaststroke: In the days leading up to this race, the American Lilly King criticized her Russian opponent, reigning world champion Yulia Efimova, for her “drug cheating,” a reference to Efimova’s   doping suspension which ended in early 2015. During qualifying the two rivals exchanged   taunts, which led to a tense final. In the end, King had the last word, breaking an Olympic record in the process. Her time of 1:04. 93 beat the 1:05. 17 swam by Australia’s Leisel Jones in 2008. Efimova took the silver at 1:05. 50. Follow us here for the latest updates on our Olympics coverage. In a   interview with NBC, King said, “You wave your finger No. 1 and you’ve been caught drug cheating?” “I’m not a fan,” she added. Read Karen Crouse’s story on the race and the rivalry here. Men’s 100 Backstroke: The United States has claimed every gold medal in the men’s   backstroke since Canada’s Mark Tewksbury touched the wall   of a second before the American Jeff Rouse in 1992. Ryan Murphy, a   Olympian, kept the streak intact Monday and set an Olympic record in the process. He was timed in 51. 97, missing the world record, set by Aaron Peirsol in 2009, by   of a second. Xu Jiayu of China won the silver, barely, over Murphy’s teammate, David Plummer. Xu was timed in 52. 31 to Plummer’s 52. 40.  —   KAREN CROUSE On paper, Tuesday looks like one of those days destined for Olympic magic and neverending highlight reels. Gymnastics: Simone Biles and the U. S. women’s gymnastics team are the heavy favorites in the team competition. The Americans dominated in individual qualifying and would have to fall hard to miss gold. Swimming: Katie Ledecky made her   freestyle debut in an   competition at last summer’s world championships and won. If she wins the gold against a strong field that includes Sarah Sjostrom of Sweden, Ledecky will be   of the way to becoming the first swimmer since Debbie Meyer in 1968 to win the 200, 400 and 800 at the same Olympics. One of the most anticipated showdowns of the Rio Games takes place when Michael Phelps tries to avenge his 2012 Olympic loss to South Africa’s Chad Le Clos in the   butterfly. Katinka Hosszu shattered the world record in the 400 individual medley on Saturday, and she will look to do the same to her world mark in the 200 I. M. How to Watch: NBC broadcasts on a tape delay, but you can stream all the events here. Japan returned to the top of the men’s gymnastics world, beating Russia and China in the team event. The event was a renewal of the longtime gymnastics rivalry between Japan and China. China had won the last two gold medals, in 2008 and 2012. But Japan had Kohei Uchimura, the world’s best gymnast  —   and perhaps the best of all time  —   anchoring their team. In the final rotation, Japan took on Russia    in the floor exercise, holding a slim lead of 0. 208 points. Japan went first. After an outstanding score from Kenzo Shirai and a good one from Ryohei Kato, Uchimura locked down the win with a 15. 6. Combined, it was the best team floor exercise score of the night. Russia finished second, and China took the bronze. A second Olympic boxer has been arrested and jailed on charges of sexual assault, a Brazilian police official said Monday, raising concerns over safety at the athletes’ village for the locals who work there. The arrest of the boxer, Jonas Junius of Namibia, came on Sunday after a judicial order requesting it. The authorities transferred Junius from a police precinct to a   prison in Rio de Janeiro on Monday, said a police official, Rodrigo Moreira. The accuser was Brazilian, Moreira said. The boxer “attempted to grab and kiss the cleaning lady” in the hallway of the 11th floor of a building in the Olympic Village on Sunday, the Rio de Janeiro state civil police said in a statement. The woman immediately contacted the police, Moreira said. The arrest came just two days after the Moroccan boxer Hassan Saada was arrested on similar charges, which led to his missing an Olympic bout Saturday and being disqualified for the rest of the Rio Games. He has been transferred to the same prison Junius was sent to on Monday and is serving a   preliminary prison sentence. Junius, who carried his country’s flag in Friday’s opening ceremony, was scheduled to fight Hassan Amzile of France on Thursday in a   bout in the round of 32. —   VINOD SREEHARSHA Swimming: Conor Dwyer won the bronze medal in the men’s   freestyle, missing a silver by 0. 03 seconds when Chad le Clos of South Africa edged him at the wall with a 1:45. 20. Sun Yang of China won the gold in 1:44. 65. Fencing: Ibtihaj Muhammad became the first United States Olympian in any sport to compete at a Games while wearing a hijab. Muhammad won her first match before losing in the round of 16. Tennis: Caroline Wozniacki, Denmark’s   at the opening ceremony, lost to Petra Kvitova of the Czech Republic,    . Field Hockey: Having already defeated Argentina, the No.   team in the world, the United States women’s field hockey team did it again on Monday, beating Australia, which is ranked No. 3. Both victories came by a   score. Swimming: The   Olympian Lilly King heads into the   breaststroke as one of only two American women  —   Katie Ledecky is the other  —   to enter the Games with the world’s top time in an event this year. Rugby: Women will receive Olympic medals in rugby for the first time ever when the rugby sevens bronze and gold medal matches are decided.\n",
            "Predicted: False, Actual: False\n",
            "\n",
            "Sample 3\n",
            "Text: It was only a matter of time We can t keep our borders open to anyone who cares to cross over, offer them immunity from the law in sanctuary cities that basically give criminals the ability to move around freely and expect a positive result. We asked for it when most American citizens sat back and allowed Obama to bully our border agents into submission, while shaming our government officials and law enforcement agencies for daring to demand stricter immigration controls. There s a good reason Donald J. Trump rose to the top of the packed GOP Presidential field when he mentioned building a wall on our southern border and clamping down on the insane flow of unvetted immigrants and refugees into the United States.Hillary is on the same team as Obama when it comes to unchecked illegal immigration. BRENTWOOD, N.Y.   Four dead teenagers. Two weeks. One town. And a ruthless gang, the authorities say, was most likely responsible for the toll. Again.On Sept. 13, Nisa Mickens, 15, and her best friend, Kayla Cuevas, 16, were murdered, their battered bodies found near an elementary school here. A week later and just two miles away, the skeletal remains of two more teenagers   identified as Oscar Acosta, 19, and Miguel Garcia-Moran, 15   were found in the woods near a psychiatric hospital. Oscar had been missing since May, Miguel since February. Their deaths have been ruled homicides.Brentwood, a hardscrabble town of nearly 60,000 on Long Island, 40 miles east of Manhattan, has reached another crisis point. For nearly two decades, MS-13, a gang with roots in Los Angeles and El Salvador, has been terrorizing the town, the authorities say, especially its young people. Since 2009, its members have been accused of at least 14 murders, court and police records show.School officials are scrambling. Police officers are searching. Students are frightened. Parents are anguished. It s so hard, I m hurting,  Eveylyn Rodriguez, the mother of Kayla, said last week.  I wish I could hold my daughter again. In her first interview since Kayla s funeral, Ms. Rodriguez spoke measuredly about how her daughter had been bullied by gang members inside and outside of her high school. To me, it s worse than it was before; it s everywhere,  said Ms. Rodriguez, a 1987 graduate of Brentwood Ross High School, where her daughter was a student.  This is ridiculous,  she added.  We need some type of assistance to help our police officers here and see if they can come together to figure out a plan to make things better for the kids now. The path to such a plan, however, runs through a fractured Suffolk County. Its former police chief is headed to jail, its district attorney is under federal investigation and a Justice Department settlement mandated changes in the police department in 2013 after findings of bias against Latino residents.Tensions simmer here because some residents say they believe an increase in Central American migrants to town has led to the increase in gang violence. According to 2014 census figures compiled by Queens College, Brentwood s population is 68 percent Latino or Hispanic, with more than 17,000 residents claiming to be from El Salvador.Brentwood has 4,400 high school students divided into two schools, and administrators say the environment is safe. Gang members rarely present themselves in the schools,  Richard Loeschner, the principal of Brentwood Ross High School, said.  If they do, we take care of that pretty quickly. But ultimately, he said, after acknowledging that the administration knew of about 20 to 25 students in the district with possible gang affiliations, there is only so much they can do. We can t exclude a kid because we suspect they are in a gang,  Mr. Loeschner said.  That s state and federal law that they are entitled to an education. Even before the girls  murders, students were subject to random screenings with metal detectors, which have increased over the past few weeks, he added. There are no detectors at the entrances of either high school, however.Some parents were concerned that the school s response to the violence was not proactive enough. Dr. Levi McIntyre, the school superintendent, sent an email to parents warning their children not to wear royal blue, the color identified with MS-13, or clothes displaying the Salvadoran flag. A student on the way to school, he wrote, recently had his blue shirt torn off by gang members and burned.MS-13 formed in Los Angeles in the 1980s by immigrants from El Salvador escaping civil war. The abbreviation stands for Mara Salvatrucha, which roughly translates to  Salvadoran street posse. Authorities say it has been in Suffolk County since around 1998, and is organized in cliques bearing names like the Brentwood Locos Salvatruchas. Leaders gather to discuss their lines of business   extortion, prostitution, robbery, drug dealing   and to authorize the killings of chavalas, or members of rival gangs like the Bloods and Crips, court papers say.The recent murders have exacerbated disputes in the town over immigration policy, which Donald J. Trump, the Republican candidate for president, fueled during last week s debate by saying that the gangs roaming the streets were made up of illegal immigrants. There s been a huge influx, to be honest with you,  said Ray Mayo, the president of the Brentwood Association of Concerned Citizens, who added that he was upset over undocumented immigrants crowding rental properties.  It seems like a whole new set of gang members who have stirred the pot up. Two law enforcement authorities, who spoke on the condition of anonymity because of the continuing murder investigation, said that over the last several years the gang has sought to enlist recent immigrants from Central America because they are often more vulnerable to recruitment. For entire story: NYT s \n",
            "Predicted: False, Actual: True\n",
            "\n",
            "Sample 4\n",
            "Text: A male colleague grabbing her leg. Another one suggestively rubbing her back. Others at work dinners discussing who they’d want to sleep with. Jane Park talked about experiencing all of this behavior in her career in business consulting and strategy. Never has she reported any of it to human resources or management. “It’s made into such a big deal that you have to make a decision: Do you want to ruin your career? Do you want this to be everything that you end up being about?” said Ms. Park, who is now chief executive of Julep, a beauty company she founded. “What you really want to happen is that it doesn’t happen again. ” Her choice is more common than not, social science research shows. Employers, judges and juries often use women’s failure to report harassment as evidence that it was not a problem or that plaintiffs had other motives. But only a quarter to a third of people who have been harassed at work report it to a supervisor or union representative, and 2 percent to 13 percent file a formal complaint, according to a   of studies by Lilia Cortina of the University of Michigan and Jennifer Berdahl of the University of British Columbia Sauder School of Business. Mostly they fear retaliation, and with good reason, research shows. In response to a New York Times report this month of payouts to women who had accused the Fox news host Bill O’Reilly of sexual harassment, 21st Century Fox, Fox News’s parent company, said: “No current or former Fox News employee ever took advantage of the 21st Century Fox hotline to raise a concern about Bill O’Reilly, even anonymously. ” In interviews, women who worked at Fox said they didn’t complain to human resources because they feared they would be fired. Some women who experience harassment confront the perpetrator or confide in friends or family, the   found. But the most common response is to avoid the person, play down what happened or ignore the behavior. Some don’t report a problem because they don’t think their experience qualifies as illegal harassment. An analysis of 55 representative surveys found that about 25 percent of women report having experienced sexual harassment, but when they are asked about specific behaviors, like inappropriate touching or pressure for sexual favors, the share roughly doubles. Those numbers are broadly consistent with other survey findings. Many victims, who are most often women, fear they will face disbelief, inaction, blame or societal and professional retaliation. That could be hostility from supervisors, a bad reference to future employers or the loss of job opportunities. Their fears are grounded in reality, researchers have concluded. In one study of   employees,   of workers who had complained about mistreatment described some form of retaliation in a   survey. “They become troublemakers  —   nobody wants to hire them or work with them anymore,” Ms. Berdahl said. Paradoxically, official harassment policies and grievance procedures often end up creating obstacles to women’s ability to assert their rights, according to research by   Marshall, a sociologist at the University of Illinois. “That is in part because companies put them into place as mini litigation defense centers,” Ms. Marshall said. “The way employers deal with it is to prepare to show a court or jury that they did everything they could, rather than to protect women in the workplace. ” There are many ways that company cultures discourage people who are harassed from reporting it. Sometimes the harasser is a superstar  —   someone who makes the company so much money that he feels powerful and uninhibited in his behavior because the company has considerable incentive to look the other way. The more someone has a reputation for harassing, the less likely a woman is to complain, Ms. Berdahl said: “It’s natural to conclude that if he’s been getting away with this for a long time, then the organization tolerates it, so why become the problem yourself by going to H. R.?” Other times the human resources department has no interest in helping the employee  —   or there is no such department at all. This is common in Silicon Valley, where companies grow so fast  —   and where disdain for   bureaucracy runs so deep  —   that human resources officials often serve only to recruit employees. In February, a former Uber engineer, Susan Fowler, wrote that when she reported to the Uber human resources department that her manager had tried persuading her to have sex with him on her first official day on her new team, the department declined to take action. It said she could change teams or accept what would probably be a poor performance review from the manager. Uber has a new human resources executive and is doing an internal investigation. Ellen Pao, a former partner at Kleiner Perkins Caufield  Byers, described an atmosphere of sexism and harassment at the venture capital firm  —   with little recourse. In fact, it had no human resources department. She sued and lost a   trial. Organizations that are very hierarchical or masculine can breed more harassment, and less reporting of it, according to studies, because gendered power dynamics are a big driver. That’s one reason that harassment has been rampant  —   and underreported  —   in the military. Most sizable companies have policies banning sexual harassment and require some sort of training in what it is and how to report it. But much of the training has been shown to be ineffective, and at worst can backfire. The best way to avoid sexual harassment and ensure that it’s reported when it happens is to bake it into company culture, from the top leaders on down, executives and researchers say. “When you have an effective H. R. department that is supported by leadership, people feel safe about reporting harassment,” said Bettina Deynes, vice president for H. R. at the Society for Human Resource Management, a professional association. “It has a lot to do with the type of H. R. department: The motive is not the legal liability, but the culture you want. ” Culture is a squishy concept, but companies can do concrete things. One counterintuitive idea is to reward managers when complaints of harassment increase in their department, because it means they’re creating an environment where people are comfortable reporting it, according to a frank report published in June by the Equal Employment Opportunity Commission. Here are some other ideas from the commission and researchers in the field: ■ Authorize dozens of employees throughout the organization to receive complaints, so that people can report to someone they’re comfortable with. ■ Hire an ombudsman. ■ Promote more women to positions of power. ■ Train people not in what not to do, but in how to be civil to colleagues, and how to speak up as a bystander  —   and have senior leaders attend the training sessions. ■ Put in proportional consequences, so that   instances can be handled with conversations instead of firings or legal action. Ms. Pao, now the chief diversity and inclusion partner at the Kapor Center, a research, advisory and investment group that tries to make the tech industry more diverse, says she is pessimistic that company cultures will change unless it starts at the very top. “If you could fix the problem, then everybody could move on and thrive,” she said. “But often it’s not just the one bad player, so you may want to get out of the culture. ”\n",
            "Predicted: False, Actual: False\n",
            "\n",
            "Sample 5\n",
            "Text: STRASBOURG (Reuters) - The European Parliament named its press room in Strasbourg after Daphne Caruana Galizia, the Maltese journalist killed last month in a car bomb after years of reporting allegations of deep-rooted corruption on the island. On a day when the EU legislature debated a broadly supported resolution questioning the rule of law in Malta and demanding answers on allegations of high-level money laundering made by Caruana Galizia, the ceremony underlined the pressure the Union s smallest state has found itself under since her Oct. 16 murder. In the auditorium used for news conferences in Parliament s Strasbourg seat, the new name above the door would, Parliament President Antonio Tajani said, ensure that from now on  we will not turn our eyes away from what happened in Malta . At the Parliament s other home, in Brussels, the press room is named after Anna Politkovskaya, the Russian investigative journalist shot dead in her apartment block in Moscow in 2006 in a killing opposition leaders blamed on the Kremlin. Maltese Prime Minister Joseph Muscat, who had sued Caruana Galizia and one of her sons for libel over allegations of graft, has vowed to track down her killers and insists that the Maltese state is fully compliant with EU standards. Peter Caruana Galizia, the dead journalist s husband, said during the naming ceremony in Strasbourg in the presence of other family members that Malta s political elite had  deep and wide  links to money laundering networks and the country had  slipped further and further away from European values . \n",
            "Predicted: False, Actual: False\n"
          ]
        }
      ],
      "source": [
        "# Tfidf\n",
        "vectorizer = TfidfVectorizer(max_features=5000, ngram_range=(1, 2))\n",
        "X_train = vectorizer.fit_transform(train_texts)\n",
        "X_test = vectorizer.transform(test_texts)\n",
        "\n",
        "# Model Training with Logistic Regression\n",
        "model = LogisticRegression(max_iter=200, solver='saga', penalty='l2', C=1.0)\n",
        "model.fit(X_train, train_labels)\n",
        "\n",
        "# Predict on the test set\n",
        "predictions = model.predict(X_test)\n",
        "\n",
        "accuracy = accuracy_score(test_labels, predictions)\n",
        "print(f\"\\nModel Accuracy: {accuracy:.2f}\")\n",
        "\n",
        "print(\"\\nClassification Report:\")\n",
        "print(classification_report(test_labels, predictions, target_names=['False', 'True']))\n",
        "\n",
        "# Confusion Matrix\n",
        "conf_matrix = confusion_matrix(test_labels, predictions)\n",
        "disp = ConfusionMatrixDisplay(conf_matrix, display_labels=['False', 'True'])\n",
        "disp.plot(cmap='Blues')\n",
        "plt.title('Confusion Matrix')\n",
        "plt.show()\n",
        "\n",
        "# Display a few predictions\n",
        "print(\"\\nSample Predictions:\")\n",
        "for i, (text, pred, true_label) in enumerate(zip(test_texts[:5], predictions[:5], test_labels[:5])):\n",
        "    print(f\"\\nSample {i+1}\")\n",
        "    print(f\"Text: {text}\")\n",
        "    print(f\"Predicted: {'True' if pred else 'False'}, Actual: {'True' if true_label else 'False'}\")"
      ]
    },
    {
      "cell_type": "code",
      "source": [],
      "metadata": {
        "id": "TH8Ve8fUMkgr"
      },
      "execution_count": null,
      "outputs": []
    }
  ],
  "metadata": {
    "colab": {
      "provenance": []
    },
    "kernelspec": {
      "display_name": "Python 3",
      "name": "python3"
    },
    "language_info": {
      "name": "python"
    }
  },
  "nbformat": 4,
  "nbformat_minor": 0
}