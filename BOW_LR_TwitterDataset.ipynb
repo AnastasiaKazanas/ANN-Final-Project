{
  "cells": [
    {
      "cell_type": "markdown",
      "metadata": {
        "id": "view-in-github",
        "colab_type": "text"
      },
      "source": [
        "<a href=\"https://colab.research.google.com/github/AnastasiaKazanas/ANN-Final-Project/blob/main/BOW_LR_TwitterDataset.ipynb\" target=\"_parent\"><img src=\"https://colab.research.google.com/assets/colab-badge.svg\" alt=\"Open In Colab\"/></a>"
      ]
    },
    {
      "cell_type": "code",
      "execution_count": null,
      "metadata": {
        "collapsed": true,
        "id": "bFKXKDfArPNO"
      },
      "outputs": [],
      "source": [
        "import random\n",
        "import torch\n",
        "import pandas as pd\n",
        "import re\n",
        "import os\n",
        "import nltk\n",
        "from sklearn.model_selection import train_test_split\n",
        "from sklearn.feature_extraction.text import TfidfVectorizer\n",
        "from sklearn.linear_model import LogisticRegression\n",
        "from sklearn.metrics import classification_report, accuracy_score, confusion_matrix, ConfusionMatrixDisplay\n",
        "import matplotlib.pyplot as plt\n",
        "import kagglehub"
      ]
    },
    {
      "cell_type": "code",
      "execution_count": null,
      "metadata": {
        "colab": {
          "base_uri": "https://localhost:8080/"
        },
        "id": "uiAvJ6yEr4dR",
        "outputId": "c17c973c-9f92-4046-eb9c-edea70816f38"
      },
      "outputs": [
        {
          "output_type": "stream",
          "name": "stdout",
          "text": [
            "Dataset preview:\n",
            "   Unnamed: 0      author                                          statement  \\\n",
            "0           0  D.L. Davis  End of eviction moratorium means millions of A...   \n",
            "1           1  D.L. Davis  End of eviction moratorium means millions of A...   \n",
            "2           2  D.L. Davis  End of eviction moratorium means millions of A...   \n",
            "3           3  D.L. Davis  End of eviction moratorium means millions of A...   \n",
            "4           4  D.L. Davis  End of eviction moratorium means millions of A...   \n",
            "\n",
            "   target  BinaryNumTarget                 manual_keywords  \\\n",
            "0    True              1.0  Americans, eviction moratorium   \n",
            "1    True              1.0  Americans, eviction moratorium   \n",
            "2    True              1.0  Americans, eviction moratorium   \n",
            "3    True              1.0  Americans, eviction moratorium   \n",
            "4    True              1.0  Americans, eviction moratorium   \n",
            "\n",
            "                                               tweet 5_label_majority_answer  \\\n",
            "0  @POTUS Biden Blunders - 6 Month Update\\n\\nInfl...            Mostly Agree   \n",
            "1  @S0SickRick @Stairmaster_ @6d6f636869 Not as m...             NO MAJORITY   \n",
            "2  THE SUPREME COURT is siding with super rich pr...                   Agree   \n",
            "3  @POTUS Biden Blunders\\n\\nBroken campaign promi...            Mostly Agree   \n",
            "4  @OhComfy I agree. The confluence of events rig...                   Agree   \n",
            "\n",
            "  3_label_majority_answer  \n",
            "0                   Agree  \n",
            "1                   Agree  \n",
            "2                   Agree  \n",
            "3                   Agree  \n",
            "4                   Agree  \n",
            "\n",
            "Dataset statistics:\n",
            "         Unnamed: 0  BinaryNumTarget\n",
            "count  134198.00000    134198.000000\n",
            "mean    67098.50000         0.513644\n",
            "std     38739.77005         0.499816\n",
            "min         0.00000         0.000000\n",
            "25%     33549.25000         0.000000\n",
            "50%     67098.50000         1.000000\n",
            "75%    100647.75000         1.000000\n",
            "max    134197.00000         1.000000\n",
            "\n",
            "Missing values per column:\n",
            "Unnamed: 0                 0\n",
            "author                     0\n",
            "statement                  0\n",
            "target                     0\n",
            "BinaryNumTarget            0\n",
            "manual_keywords            0\n",
            "tweet                      0\n",
            "5_label_majority_answer    0\n",
            "3_label_majority_answer    0\n",
            "dtype: int64\n"
          ]
        }
      ],
      "source": [
        "# Define dataset directory\n",
        "dataset_dir = \"/root/.cache/kagglehub/datasets/sudishbasnet/truthseekertwitterdataset2023/\"\n",
        "\n",
        "# Recursively find the dataset file\n",
        "file_name = None\n",
        "for root, dirs, files in os.walk(dataset_dir):\n",
        "    for f in files:\n",
        "        if \"Truth_Seeker_Model_Dataset\" in f and f.endswith(\".csv\"):\n",
        "            file_name = os.path.join(root, f)\n",
        "            break\n",
        "    if file_name:\n",
        "        break\n",
        "\n",
        "# Raise an error if the file is not found\n",
        "if not file_name:\n",
        "    raise FileNotFoundError(\"Dataset file not found in the directory or its subdirectories.\")\n",
        "\n",
        "# Load the dataset\n",
        "df = pd.read_csv(file_name)\n",
        "print(\"Dataset preview:\")\n",
        "print(df.head())\n",
        "\n",
        "print(\"\\nDataset statistics:\")\n",
        "print(df.describe())\n",
        "\n",
        "# Check and handle missing values\n",
        "missing_values = df.isnull().sum()\n",
        "print(\"\\nMissing values per column:\")\n",
        "print(missing_values)\n",
        "df.dropna(subset=['tweet', 'BinaryNumTarget'], inplace=True)\n",
        "\n",
        "# Rename columns for consistency\n",
        "df.rename(columns={'statement': 'text', 'BinaryNumTarget': 'label'}, inplace=True)\n",
        "\n",
        "# Filter the data to include only texts with length < 50 and remove duplicates\n",
        "filtered_texts = []\n",
        "filtered_labels = []\n",
        "for text, label in zip(df['text'], df['label']):\n",
        "    if len(text) > 50 and text not in filtered_texts:\n",
        "        filtered_texts.append(text)\n",
        "        filtered_labels.append(label)\n",
        "\n",
        "# Create a new filtered DataFrame\n",
        "filtered_df = pd.DataFrame({'text': filtered_texts, 'label': filtered_labels})\n"
      ]
    },
    {
      "cell_type": "code",
      "execution_count": null,
      "metadata": {
        "id": "eRQdv5sq2kZt"
      },
      "outputs": [],
      "source": [
        "def preprocess_text(text):\n",
        "    text = re.sub(r'[^\\w\\s]', '', text)  # Remove special characters\n",
        "    text = text.lower()  # Convert to lowercase\n",
        "    return text\n",
        "\n",
        "# Apply text preprocessing\n",
        "filtered_df['processed_text'] = filtered_df['text'].apply(preprocess_text)\n",
        "\n",
        "# Split the dataset\n",
        "train_texts, test_texts, train_labels, test_labels = train_test_split(\n",
        "    filtered_df['processed_text'], filtered_df['label'], test_size=0.2, random_state=42\n",
        ")"
      ]
    },
    {
      "cell_type": "code",
      "execution_count": null,
      "metadata": {
        "colab": {
          "base_uri": "https://localhost:8080/",
          "height": 1000
        },
        "id": "z8msfX1EtEXY",
        "outputId": "3e252181-2782-4e5d-91f6-c3745bab5ecf"
      },
      "outputs": [
        {
          "output_type": "stream",
          "name": "stdout",
          "text": [
            "\n",
            "Model Accuracy: 0.79\n",
            "Unique classes in test labels: [0.0, 1.0]\n",
            "\n",
            "Classification Report:\n",
            "              precision    recall  f1-score   support\n",
            "\n",
            "       False       0.90      0.56      0.69        79\n",
            "        True       0.76      0.96      0.84       113\n",
            "\n",
            "    accuracy                           0.79       192\n",
            "   macro avg       0.83      0.76      0.77       192\n",
            "weighted avg       0.81      0.79      0.78       192\n",
            "\n"
          ]
        },
        {
          "output_type": "display_data",
          "data": {
            "text/plain": [
              "<Figure size 640x480 with 2 Axes>"
            ],
            "image/png": "[encoded data removed]"
          },
          "metadata": {}
        },
        {
          "output_type": "stream",
          "name": "stdout",
          "text": [
            "\n",
            "Sample Predictions:\n",
            "\n",
            "Sample 1\n",
            "Text: a photo shows women who gathered to scream at trump through their vaginas\n",
            "Predicted: False, Actual: False\n",
            "\n",
            "Sample 2\n",
            "Text: says dan patrick has called immigration into texas an invasion and said immigrants coming into texas bring thirdworld diseases\n",
            "Predicted: True, Actual: True\n",
            "\n",
            "Sample 3\n",
            "Text: if you want to vote in texas you can use a concealedweapon permit as a valid form of identification but a valid student id isnt good enough\n",
            "Predicted: True, Actual: True\n",
            "\n",
            "Sample 4\n",
            "Text:  in 2013 obama determined social security would not send checks through the usps because it was not secure\n",
            "Predicted: True, Actual: False\n",
            "\n",
            "Sample 5\n",
            "Text: the white house doctored a photo of a donald trump event to make the crowd look bigger\n",
            "Predicted: True, Actual: False\n"
          ]
        }
      ],
      "source": [
        "# Tfidf\n",
        "vectorizer = TfidfVectorizer(max_features=5000, ngram_range=(1, 2))\n",
        "X_train = vectorizer.fit_transform(train_texts)\n",
        "X_test = vectorizer.transform(test_texts)\n",
        "\n",
        "# Model Training with Logistic Regression\n",
        "model = LogisticRegression(max_iter=200, solver='saga', penalty='l2', C=1.0)\n",
        "model.fit(X_train, train_labels)\n",
        "\n",
        "# Predict on the test set\n",
        "predictions = model.predict(X_test)\n",
        "\n",
        "accuracy = accuracy_score(test_labels, predictions)\n",
        "print(f\"\\nModel Accuracy: {accuracy:.2f}\")\n",
        "\n",
        "# Handle single-class cases for classification report and confusion matrix\n",
        "unique_classes = sorted(test_labels.unique())\n",
        "print(\"Unique classes in test labels:\", unique_classes)\n",
        "\n",
        "# Adjust target names dynamically based on unique classes\n",
        "target_names = ['False', 'True'][:len(unique_classes)]\n",
        "\n",
        "# Classification Report\n",
        "print(\"\\nClassification Report:\")\n",
        "print(classification_report(test_labels, predictions, labels=unique_classes, target_names=target_names))\n",
        "\n",
        "# Confusion Matrix\n",
        "if len(unique_classes) > 1:  # Plot confusion matrix only if there are at least two classes\n",
        "    conf_matrix = confusion_matrix(test_labels, predictions)\n",
        "    disp = ConfusionMatrixDisplay(conf_matrix, display_labels=target_names)\n",
        "    disp.plot(cmap='Blues')\n",
        "    plt.title('Confusion Matrix')\n",
        "    plt.show()\n",
        "else:\n",
        "    print(\"\\nConfusion Matrix not displayed due to single class in the test set.\")\n",
        "\n",
        "# Display a few predictions\n",
        "print(\"\\nSample Predictions:\")\n",
        "for i, (text, pred, true_label) in enumerate(zip(test_texts[:5], predictions[:5], test_labels[:5])):\n",
        "    print(f\"\\nSample {i+1}\")\n",
        "    print(f\"Text: {text}\")\n",
        "    print(f\"Predicted: {'True' if pred else 'False'}, Actual: {'True' if true_label else 'False'}\")"
      ]
    },
    {
      "cell_type": "code",
      "execution_count": null,
      "metadata": {
        "id": "tKgrfDeOgAUu"
      },
      "outputs": [],
      "source": []
    }
  ],
  "metadata": {
    "colab": {
      "provenance": [],
      "include_colab_link": true
    },
    "kernelspec": {
      "display_name": "Python 3",
      "name": "python3"
    },
    "language_info": {
      "name": "python"
    }
  },
  "nbformat": 4,
  "nbformat_minor": 0
}