{
  "nbformat": 4,
  "nbformat_minor": 0,
  "metadata": {
    "colab": {
      "provenance": [],
      "authorship_tag": "ABX9TyOWrsrDLMNAOroz1CNTuxBZ",
      "include_colab_link": true
    },
    "kernelspec": {
      "name": "python3",
      "display_name": "Python 3"
    },
    "language_info": {
      "name": "python"
    }
  },
  "cells": [
    {
      "cell_type": "markdown",
      "metadata": {
        "id": "view-in-github",
        "colab_type": "text"
      },
      "source": [
        "<a href=\"https://colab.research.google.com/github/AnastasiaKazanas/ANN-Final-Project/blob/main/Bert_embedding_update.ipynb\" target=\"_parent\"><img src=\"https://colab.research.google.com/assets/colab-badge.svg\" alt=\"Open In Colab\"/></a>"
      ]
    },
    {
      "cell_type": "code",
      "execution_count": null,
      "metadata": {
        "id": "J3_3Dpuvb9UZ"
      },
      "outputs": [],
      "source": [
        "import torch\n",
        "import h5py\n",
        "from transformers import BertModel\n",
        "from torch.utils.data import DataLoader, TensorDataset\n",
        "from sklearn.model_selection import train_test_split\n",
        "import numpy as np\n"
      ]
    },
    {
      "cell_type": "code",
      "source": [
        "file_path = '/content/ANN-Final-Project/Bert_embeding_datasets/Covid19FakeNews.h5'\n",
        "\n",
        "# Load input_ids, attention_mask, and labels\n",
        "with h5py.File(file_path, 'r') as f:\n",
        "    input_ids = np.array(f['input_ids'])\n",
        "    attention_mask = np.array(f['attention_mask'])\n",
        "    labels = np.array(f['labels'])\n",
        "\n",
        "# Split data\n",
        "X_train_ids, X_test_ids, X_train_mask, X_test_mask, y_train, y_test = train_test_split(\n",
        "    input_ids, attention_mask, labels, test_size=0.2, random_state=42\n",
        ")\n",
        "\n",
        "# Convert to torch tensors\n",
        "X_train_ids = torch.tensor(X_train_ids, dtype=torch.long)\n",
        "X_test_ids = torch.tensor(X_test_ids, dtype=torch.long)\n",
        "X_train_mask = torch.tensor(X_train_mask, dtype=torch.long)\n",
        "X_test_mask = torch.tensor(X_test_mask, dtype=torch.long)\n",
        "y_train = torch.tensor(y_train, dtype=torch.long)\n",
        "y_test = torch.tensor(y_test, dtype=torch.long)\n",
        "\n",
        "# Create DataLoaders for batch processing\n",
        "train_dataset = TensorDataset(X_train_ids, X_train_mask)\n",
        "train_loader = DataLoader(train_dataset, batch_size=64, shuffle=False)\n",
        "\n",
        "test_dataset = TensorDataset(X_test_ids, X_test_mask)\n",
        "test_loader = DataLoader(test_dataset, batch_size=64, shuffle=False)\n",
        "\n"
      ],
      "metadata": {
        "id": "69Z4yZ9kcD0P"
      },
      "execution_count": null,
      "outputs": []
    },
    {
      "cell_type": "code",
      "source": [
        "bert_model = BertModel.from_pretrained('bert-base-uncased')\n",
        "bert_model.eval()\n",
        "\n",
        "# Function to extract embeddings in batches\n",
        "def extract_embeddings(data_loader, bert_model):\n",
        "    embeddings = []\n",
        "    with torch.no_grad():\n",
        "        for batch in data_loader:\n",
        "            input_ids, attention_mask = batch\n",
        "            output = bert_model(input_ids, attention_mask=attention_mask)\n",
        "            embeddings.append(output.pooler_output.cpu().numpy())\n",
        "    return np.vstack(embeddings)\n",
        "\n",
        "# Extract embeddings in batches\n",
        "X_train_embeddings = extract_embeddings(train_loader, bert_model)\n",
        "X_test_embeddings = extract_embeddings(test_loader, bert_model)\n",
        "\n",
        "# Save embeddings and labels to HDF5\n",
        "output_file = '/content/ANN-Final-Project/Bert_embeding_datasets/Covid19FakeNewsEmbeddings.h5'\n",
        "with h5py.File(output_file, 'w') as hf:\n",
        "    hf.create_dataset('train_embeddings', data=X_train_embeddings, compression=\"gzip\")\n",
        "    hf.create_dataset('test_embeddings', data=X_test_embeddings, compression=\"gzip\")\n",
        "    hf.create_dataset('y_train', data=y_train.numpy(), compression=\"gzip\")\n",
        "    hf.create_dataset('y_test', data=y_test.numpy(), compression=\"gzip\")"
      ],
      "metadata": {
        "id": "nzsr2MwdcIxa"
      },
      "execution_count": null,
      "outputs": []
    }
  ]
}
