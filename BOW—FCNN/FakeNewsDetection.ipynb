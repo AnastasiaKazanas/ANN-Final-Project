{
  "cells": [
    {
      "cell_type": "markdown",
      "metadata": {
        "id": "view-in-github",
        "colab_type": "text"
      },
      "source": [
        "<a href=\"https://colab.research.google.com/github/AnastasiaKazanas/ANN-Final-Project/blob/main/BOW%E2%80%94FCNN/FakeNewsDetection.ipynb\" target=\"_parent\"><img src=\"https://colab.research.google.com/assets/colab-badge.svg\" alt=\"Open In Colab\"/></a>"
      ]
    },
    {
      "cell_type": "code",
      "execution_count": 1,
      "metadata": {
        "collapsed": true,
        "id": "bFKXKDfArPNO"
      },
      "outputs": [],
      "source": [
        "import random\n",
        "import pandas as pd\n",
        "import re\n",
        "import nltk\n",
        "import torch\n",
        "import torch.nn as nn\n",
        "import torch.optim as optim\n",
        "from transformers import BertTokenizer, BertModel, BertForSequenceClassification\n",
        "from sklearn.metrics.pairwise import cosine_similarity\n",
        "from sklearn.model_selection import train_test_split, GridSearchCV\n",
        "from sklearn.feature_extraction.text import TfidfVectorizer\n",
        "from sklearn.linear_model import LogisticRegression\n",
        "from sklearn.metrics import classification_report, accuracy_score, confusion_matrix, ConfusionMatrixDisplay\n",
        "from nltk.corpus import stopwords\n",
        "from nltk.stem import WordNetLemmatizer\n",
        "from torch.utils.data import DataLoader, TensorDataset\n",
        "import matplotlib.pyplot as plt\n",
        "import kagglehub\n",
        "import os\n",
        "import zipfile"
      ]
    },
    {
      "cell_type": "code",
      "execution_count": 2,
      "metadata": {
        "id": "uiAvJ6yEr4dR",
        "colab": {
          "base_uri": "https://localhost:8080/"
        },
        "outputId": "113cda09-5f50-4c54-d4f6-8a1c504d3b36"
      },
      "outputs": [
        {
          "output_type": "stream",
          "name": "stdout",
          "text": [
            "Downloading dataset: emineyetm/fake-news-detection-datasets\n",
            "Extracting ./fake_news_dataset/fake-news-detection-datasets.zip...\n",
            "Combined Dataset Preview:\n",
            "                                               title  \\\n",
            "0   Donald Trump Sends Out Embarrassing New Year’...   \n",
            "1   Drunk Bragging Trump Staffer Started Russian ...   \n",
            "2   Sheriff David Clarke Becomes An Internet Joke...   \n",
            "3   Trump Is So Obsessed He Even Has Obama’s Name...   \n",
            "4   Pope Francis Just Called Out Donald Trump Dur...   \n",
            "\n",
            "                                                text subject  \\\n",
            "0  Donald Trump just couldn t wish all Americans ...    News   \n",
            "1  House Intelligence Committee Chairman Devin Nu...    News   \n",
            "2  On Friday, it was revealed that former Milwauk...    News   \n",
            "3  On Christmas day, Donald Trump announced that ...    News   \n",
            "4  Pope Francis used his annual Christmas Day mes...    News   \n",
            "\n",
            "                date  label  \n",
            "0  December 31, 2017      0  \n",
            "1  December 31, 2017      0  \n",
            "2  December 30, 2017      0  \n",
            "3  December 29, 2017      0  \n",
            "4  December 25, 2017      0  \n",
            "\n",
            "Dataset statistics:\n",
            "              label\n",
            "count  44898.000000\n",
            "mean       0.477015\n",
            "std        0.499477\n",
            "min        0.000000\n",
            "25%        0.000000\n",
            "50%        0.000000\n",
            "75%        1.000000\n",
            "max        1.000000\n"
          ]
        }
      ],
      "source": [
        "dataset_dir = \"./fake_news_dataset\"\n",
        "\n",
        "if not os.path.exists(dataset_dir):\n",
        "    os.makedirs(dataset_dir)\n",
        "\n",
        "# download the dataset\n",
        "dataset_name = \"emineyetm/fake-news-detection-datasets\"\n",
        "print(f\"Downloading dataset: {dataset_name}\")\n",
        "os.system(f\"kaggle datasets download -d {dataset_name} -p {dataset_dir}\")\n",
        "\n",
        "# Extract the dataset\n",
        "zip_file = None\n",
        "for file in os.listdir(dataset_dir):\n",
        "    if file.endswith(\".zip\"):\n",
        "        zip_file = os.path.join(dataset_dir, file)\n",
        "        break\n",
        "\n",
        "if not zip_file:\n",
        "    raise FileNotFoundError(\"No zip file found in the dataset directory.\")\n",
        "\n",
        "print(f\"Extracting {zip_file}...\")\n",
        "with zipfile.ZipFile(zip_file, \"r\") as zip_ref:\n",
        "    zip_ref.extractall(dataset_dir)\n",
        "\n",
        "# Dynamically locate CSVs\n",
        "fake_path, true_path = None, None\n",
        "for root, dirs, files in os.walk(dataset_dir):\n",
        "    for file in files:\n",
        "        if \"Fake.csv\" in file:\n",
        "            fake_path = os.path.join(root, file)\n",
        "        if \"True.csv\" in file:\n",
        "            true_path = os.path.join(root, file)\n",
        "\n",
        "# Load datasets\n",
        "fake_df = pd.read_csv(fake_path)\n",
        "true_df = pd.read_csv(true_path)\n",
        "\n",
        "# Add labels and combine datasets\n",
        "fake_df['label'] = 0\n",
        "true_df['label'] = 1\n",
        "df = pd.concat([fake_df, true_df]).reset_index(drop=True)\n",
        "\n",
        "print(\"Combined Dataset Preview:\")\n",
        "print(df.head())\n",
        "print(\"\\nDataset statistics:\")\n",
        "print(df.describe())"
      ]
    },
    {
      "cell_type": "code",
      "source": [
        "def preprocess_text(text):\n",
        "    text = re.sub(r'[^\\w\\s]', '', text)\n",
        "    text = text.lower()\n",
        "    return text\n",
        "\n",
        "df['processed_text'] = df['text'].apply(preprocess_text)\n",
        "\n",
        "# Add filtering\n",
        "new_data = []\n",
        "new_labels = []\n",
        "for text, label in zip(df['processed_text'], df['label']):\n",
        "    if len(text) > 50 and text not in new_data:\n",
        "        new_data.append(text)\n",
        "        new_labels.append(label)\n",
        "\n",
        "filtered_df = pd.DataFrame({'text': new_data, 'label': new_labels})\n",
        "\n",
        "# Split the dataset\n",
        "train_texts, test_texts, train_labels, test_labels = train_test_split(\n",
        "    filtered_df['text'], filtered_df['label'], test_size=0.2, random_state=42\n",
        ")\n"
      ],
      "metadata": {
        "id": "eRQdv5sq2kZt"
      },
      "execution_count": 3,
      "outputs": []
    },
    {
      "cell_type": "code",
      "execution_count": 4,
      "metadata": {
        "id": "z8msfX1EtEXY"
      },
      "outputs": [],
      "source": [
        "# Tfidf Vectorization\n",
        "vectorizer = TfidfVectorizer(max_features=5000, ngram_range=(1, 2))\n",
        "X_train = vectorizer.fit_transform(train_texts).toarray()\n",
        "X_test = vectorizer.transform(test_texts).toarray()\n",
        "\n",
        "# Convert labels to tensors\n",
        "train_labels = torch.tensor(train_labels.values, dtype=torch.long)\n",
        "test_labels = torch.tensor(test_labels.values, dtype=torch.long)\n",
        "\n",
        "# Create DataLoader\n",
        "train_dataset = TensorDataset(torch.tensor(X_train, dtype=torch.float32), train_labels)\n",
        "test_dataset = TensorDataset(torch.tensor(X_test, dtype=torch.float32), test_labels)\n",
        "\n",
        "train_loader = DataLoader(train_dataset, batch_size=32, shuffle=True)\n",
        "test_loader = DataLoader(test_dataset, batch_size=32, shuffle=False)\n",
        "\n"
      ]
    },
    {
      "cell_type": "code",
      "source": [
        "# Define NN\n",
        "class TextClassifier(nn.Module):\n",
        "    def __init__(self, input_dim, hidden_dim, output_dim):\n",
        "        super(TextClassifier, self).__init__()\n",
        "        self.fc1 = nn.Linear(input_dim, hidden_dim)\n",
        "        self.relu = nn.ReLU()\n",
        "        self.fc2 = nn.Linear(hidden_dim, output_dim)\n",
        "        self.softmax = nn.Softmax(dim=1)\n",
        "\n",
        "    def forward(self, x):\n",
        "        x = self.fc1(x)\n",
        "        x = self.relu(x)\n",
        "        x = self.fc2(x)\n",
        "        return x\n",
        "\n",
        "input_dim = X_train.shape[1]\n",
        "hidden_dim = 128\n",
        "output_dim = 2\n",
        "\n",
        "model = TextClassifier(input_dim, hidden_dim, output_dim)\n",
        "criterion = nn.CrossEntropyLoss()\n",
        "optimizer = optim.Adam(model.parameters(), lr=0.001)\n",
        "\n",
        "# Training Loop\n",
        "epochs = 10\n",
        "for epoch in range(epochs):\n",
        "    model.train()\n",
        "    total_loss = 0\n",
        "    for X_batch, y_batch in train_loader:\n",
        "        optimizer.zero_grad()\n",
        "        outputs = model(X_batch)\n",
        "        loss = criterion(outputs, y_batch)\n",
        "        loss.backward()\n",
        "        optimizer.step()\n",
        "        total_loss += loss.item()\n",
        "    print(f\"Epoch {epoch+1}/{epochs}, Loss: {total_loss:.4f}\")\n",
        "\n",
        "# Evaluation\n",
        "model.eval()\n",
        "y_pred = []\n",
        "y_true = []\n",
        "\n",
        "with torch.no_grad():\n",
        "    for X_batch, y_batch in test_loader:\n",
        "        outputs = model(X_batch)\n",
        "        _, preds = torch.max(outputs, 1)\n",
        "        y_pred.extend(preds.numpy())\n",
        "        y_true.extend(y_batch.numpy())\n"
      ],
      "metadata": {
        "id": "TH8Ve8fUMkgr",
        "colab": {
          "base_uri": "https://localhost:8080/"
        },
        "outputId": "426666bf-483a-438b-8488-9d04d024e936"
      },
      "execution_count": 5,
      "outputs": [
        {
          "output_type": "stream",
          "name": "stdout",
          "text": [
            "Epoch 1/10, Loss: 68.8717\n",
            "Epoch 2/10, Loss: 8.6904\n",
            "Epoch 3/10, Loss: 2.2698\n",
            "Epoch 4/10, Loss: 0.6958\n",
            "Epoch 5/10, Loss: 0.3747\n",
            "Epoch 6/10, Loss: 0.2972\n",
            "Epoch 7/10, Loss: 0.7089\n",
            "Epoch 8/10, Loss: 1.2710\n",
            "Epoch 9/10, Loss: 0.1339\n",
            "Epoch 10/10, Loss: 0.0454\n"
          ]
        }
      ]
    },
    {
      "cell_type": "code",
      "source": [
        "accuracy = accuracy_score(y_true, y_pred)\n",
        "print(f\"\\nModel Accuracy: {accuracy:.2f}\")\n",
        "\n",
        "print(\"\\nClassification Report:\")\n",
        "print(classification_report(y_true, y_pred, target_names=['False', 'True']))\n",
        "\n",
        "# Confusion Matrix\n",
        "conf_matrix = confusion_matrix(y_true, y_pred)\n",
        "disp = ConfusionMatrixDisplay(conf_matrix, display_labels=['False', 'True'])\n",
        "disp.plot(cmap='Blues')\n",
        "plt.title('Confusion Matrix')\n",
        "plt.show()\n",
        "\n",
        "# Display a few predictions\n",
        "print(\"\\nSample Predictions:\")\n",
        "for i, (text, pred, true_label) in enumerate(zip(test_texts[:5], y_pred[:5], test_labels[:5])):\n",
        "    print(f\"\\nSample {i+1}\")\n",
        "    print(f\"Text: {text}\")\n",
        "    print(f\"Predicted: {'True' if pred else 'False'}, Actual: {'True' if true_label else 'False'}\")"
      ],
      "metadata": {
        "colab": {
          "base_uri": "https://localhost:8080/",
          "height": 1000
        },
        "id": "jUgXCN1sz-Pp",
        "outputId": "a01f8075-712e-4a85-a842-04ca95fa4c7e"
      },
      "execution_count": 6,
      "outputs": [
        {
          "output_type": "stream",
          "name": "stdout",
          "text": [
            "\n",
            "Model Accuracy: 0.99\n",
            "\n",
            "Classification Report:\n",
            "              precision    recall  f1-score   support\n",
            "\n",
            "       False       0.99      0.99      0.99      3422\n",
            "        True       0.99      1.00      0.99      4277\n",
            "\n",
            "    accuracy                           0.99      7699\n",
            "   macro avg       0.99      0.99      0.99      7699\n",
            "weighted avg       0.99      0.99      0.99      7699\n",
            "\n"
          ]
        },
        {
          "output_type": "display_data",
          "data": {
            "text/plain": [
              "<Figure size 640x480 with 2 Axes>"
            ],
            "image/png": "[encoded data removed]"
          },
          "metadata": {}
        },
        {
          "output_type": "stream",
          "name": "stdout",
          "text": [
            "\n",
            "Sample Predictions:\n",
            "\n",
            "Sample 1\n",
            "Text: washington reuters  president barack obama did not specify a candidate preference in the race for the democratic presidential nomination at a democratic national committee fundraising event white house spokesman josh earnest told reporters on thursday earnest was asked about a new york times report that said obama told democratic donors to rally behind candidate hillary clinton during the fundraiser in austin texas last weekend  \n",
            "Predicted: True, Actual: True\n",
            "\n",
            "Sample 2\n",
            "Text: sen john mccain is fed up with donald trump and his big mouth following trump s illadvised decision to challenge north korea with  fire and fury  the arizona republican let him know it in no uncertain termsspeaking about trump s latest bluster and bravado regarding nuclear war mccain told an arizona radio station that he  takes exception to the president s words because you got to be sure you can do what you say you re going to do  he then added that he doesn t even know what the hell trump is talking about anymore i don t know what he s saying and i ve long ago given up trying to interpret what he says  mccain said that kind of rhetoric i m not sure how it helps mccain explained that trump and his ego are going to spark a  serious confrontation  with north korea he advised trump to familiarize himself with former president teddy roosevelt s  big stick  policy in other words the old walk softly but carry a big stick teddy roosevelt s saying which i think is something that should ve applied because all it s going to do is bring us closer to a serious confrontation  mccain warned  i think this is very very very serious new sen mccain reacts to trumps north korea threat on local arizona radio pictwittercomcgvygpshlr  marianna sotomayor mariannanbcnews august 8 2017trump seems intent on playing a dangerous game with north korean dictator kim jong un after news broke that north korea is believed to have weapons capable of reaching the united states trump decided to double dog dare kim jong un to keep provoking him north korea best not make any more threats to the united states  trump declared tuesday he has been very threatening beyond a normal state and as i said they will be met with fire fury and frankly power the likes of which this world has never seen before this is terrifying when you take into account the type of  fire and fury  that we have seen here s a little reminder in case you have forgotten just what nuclear war actually looks likethe world has seen fire and fury pictwittercomvvsorkkufg  schooley rschooley august 8 2017 fire and fury  are the last things we need when discussing a nuclear warread morefeatured image via justin sullivangetty images\n",
            "Predicted: False, Actual: False\n",
            "\n",
            "Sample 3\n",
            "Text: hell begins freeze over did we ever think that donald trump would be the voice of reason so which candidate makes you feel more safe hillary or trump \n",
            "Predicted: False, Actual: False\n",
            "\n",
            "Sample 4\n",
            "Text: beirut reuters  shelling killed around ten people including five children at a school gate in a besieged rebel enclave near syria s capital damascus on tuesday a day after a un aid delivery to the area a war monitor said the shelling also injured 30 other people in the eastern ghouta area the syrian observatory for human rights said  the britainbased monitor said the ongoing shelling which began tuesday morning hit the towns of jisreen douma saqba mesraba harasta ain terma hazza and kafr batna  on monday a united nations and syrian arab red crescent sarc convoy delivered aid to the towns of kafr batna and saqba     a tightening siege by government forces has pushed people to the verge of famine in the eastern suburbs residents and aid workers said last week bringing desperation to the only major rebel enclave near the syrian capital  syrian state television on tuesday said shells had also hit parts of governmentheld damascus injuring at least five people      in july moscow and rebels in eastern ghouta signed a deal to make the area a  deescalation zone  the agreement raised hopes of open crossings and aid flows     the aid organisation international rescue committee said on monday the deescalation zone agreements with rebel areas across syria were failing to protect civilians   the safety of civilians has not improved with the establishment of these socalled deescalation areas with so many armed groups not covered by ceasefire agreements we have even seen periods of increased aerial bombardment  irc s middle east director of public affairs tom garofalo said \n",
            "Predicted: True, Actual: True\n",
            "\n",
            "Sample 5\n",
            "Text: beirut reuters  a saudi official has visited northern syria with a us envoy to discuss reconstruction of raqqa which kurdish and arab militias backed by a usled coalition captured from islamic state on tuesday an adviser to the militias said  saudi gulf affairs minister thamer alsabhan visited the area with brett mcgurk the us special envoy to the coalition against islamic state and met the raqqa civil council said amed sido an adviser to the syrian democratic forces sdf alliance  the saudi okaz newspaper also reported on thursday that sabhan had visited northern syria and that riyadh and washington had discussed the reconstruction of raqqa  saudi arabia is a member of the usled international coalition against islamic state set up in 2014 but no senior officials from riyadh are known to have visited areas held by coalition allies in syria saudi arabia s foreign ministry was not immediately available for comment  the sdf s fourmonth battle against islamic state in raqqa aided by coalition air strikes left much of the city in ruins and forced much of its population to flee to camps nearby international charity mercy corps said on thursday that most of the city was uninhabitable  the sdf and its allies set up the raqqa civil council to run the city after the fighting was over  the international coalition s 73 members also include european countries other arab countries and turkey its work includes supporting stabilization and restoration of public services to areas taken from islamic state militants the saudi officials who visited raqqa to check the area were there to listen to discussions rather than take part sido said adding that they met a reconstruction committee set up by the council  they promised that they would contribute in construction in raqqa in the future  sido said sido is also an sdf coordinator with the coalition  the main priority for the city s reconstruction now is clearing landmines and bodies and working on water and electricity projects sido said while no concrete plans were set in motion sido continued  we consider it a first visit a first step that could be the beginning of future relations  \n",
            "Predicted: True, Actual: True\n"
          ]
        }
      ]
    },
    {
      "cell_type": "code",
      "source": [],
      "metadata": {
        "id": "F1DdVKJX1LIh"
      },
      "execution_count": null,
      "outputs": []
    }
  ],
  "metadata": {
    "colab": {
      "provenance": [],
      "include_colab_link": true
    },
    "kernelspec": {
      "display_name": "Python 3",
      "name": "python3"
    },
    "language_info": {
      "name": "python"
    }
  },
  "nbformat": 4,
  "nbformat_minor": 0
}