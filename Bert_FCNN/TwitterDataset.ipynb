{
  "nbformat": 4,
  "nbformat_minor": 0,
  "metadata": {
    "colab": {
      "provenance": [],
      "authorship_tag": "ABX9TyNPHMI3EXje9B+D0VG0QBsp",
      "include_colab_link": true
    },
    "kernelspec": {
      "name": "python3",
      "display_name": "Python 3"
    },
    "language_info": {
      "name": "python"
    }
  },
  "cells": [
    {
      "cell_type": "markdown",
      "metadata": {
        "id": "view-in-github",
        "colab_type": "text"
      },
      "source": [
        "<a href=\"https://colab.research.google.com/github/AnastasiaKazanas/ANN-Final-Project/blob/main/Bert_FCNN/TwitterDataset.ipynb\" target=\"_parent\"><img src=\"https://colab.research.google.com/assets/colab-badge.svg\" alt=\"Open In Colab\"/></a>"
      ]
    },
    {
      "cell_type": "code",
      "execution_count": 5,
      "metadata": {
        "id": "du4fVcJyeqdy"
      },
      "outputs": [],
      "source": [
        "import random\n",
        "import torch\n",
        "import torch.nn as nn\n",
        "import torch.optim as optim\n",
        "import numpy as np\n",
        "from transformers import BertTokenizer, BertModel, BertForSequenceClassification\n",
        "from sklearn.metrics.pairwise import cosine_similarity\n",
        "import kagglehub\n",
        "import pandas as pd\n",
        "import re\n",
        "import os\n",
        "import nltk\n",
        "from sklearn.model_selection import train_test_split, GridSearchCV\n",
        "from sklearn.feature_extraction.text import TfidfVectorizer\n",
        "from sklearn.linear_model import LogisticRegression\n",
        "from sklearn.metrics import classification_report, accuracy_score, confusion_matrix, ConfusionMatrixDisplay\n",
        "from nltk.corpus import stopwords\n",
        "from nltk.stem import WordNetLemmatizer\n",
        "import matplotlib.pyplot as plt\n",
        "import h5py\n",
        "from torch.utils.data import TensorDataset, DataLoader"
      ]
    },
    {
      "cell_type": "code",
      "source": [
        "nltk.download('stopwords')\n",
        "nltk.download('wordnet')\n",
        "\n",
        "ppath = kagglehub.dataset_download(\"sudishbasnet/truthseekertwitterdataset2023\")\n",
        "dataset_dir = \"/root/.cache/kagglehub/datasets/sudishbasnet/truthseekertwitterdataset2023/\"\n",
        "\n",
        "# Dynamically locate CSV\n",
        "file_name = None\n",
        "for root, dirs, files in os.walk(dataset_dir):\n",
        "    for file in files:\n",
        "        if \"Truth_Seeker_Model_Dataset\" in file and file.endswith(\".csv\"):\n",
        "            file_name = os.path.join(root, file)\n",
        "            break\n",
        "\n",
        "# Load the dataset\n",
        "df = pd.read_csv(file_name)\n",
        "\n",
        "print(\"Dataset preview:\")\n",
        "print(df.head())\n",
        "\n",
        "print(\"\\nDataset statistics:\")\n",
        "print(df.describe())\n",
        "\n",
        "missing_values = df.isnull().sum()\n",
        "print(\"\\nMissing values per column:\")\n",
        "print(missing_values)\n",
        "\n",
        "# Check for missing values and drop them\n",
        "df.dropna(subset=['tweet', 'BinaryNumTarget'], inplace=True)\n",
        "\n",
        "# Rename columns\n",
        "df.rename(columns={'tweet': 'text', 'BinaryNumTarget': 'label'}, inplace=True)\n"
      ],
      "metadata": {
        "colab": {
          "base_uri": "https://localhost:8080/"
        },
        "id": "SfPw3b2te4J7",
        "outputId": "cab24aa9-a3aa-4a64-90c5-01320f2bd835"
      },
      "execution_count": 7,
      "outputs": [
        {
          "output_type": "stream",
          "name": "stderr",
          "text": [
            "[nltk_data] Downloading package stopwords to /root/nltk_data...\n",
            "[nltk_data]   Package stopwords is already up-to-date!\n",
            "[nltk_data] Downloading package wordnet to /root/nltk_data...\n",
            "[nltk_data]   Package wordnet is already up-to-date!\n"
          ]
        },
        {
          "output_type": "stream",
          "name": "stdout",
          "text": [
            "Dataset preview:\n",
            "   Unnamed: 0      author                                          statement  \\\n",
            "0           0  D.L. Davis  End of eviction moratorium means millions of A...   \n",
            "1           1  D.L. Davis  End of eviction moratorium means millions of A...   \n",
            "2           2  D.L. Davis  End of eviction moratorium means millions of A...   \n",
            "3           3  D.L. Davis  End of eviction moratorium means millions of A...   \n",
            "4           4  D.L. Davis  End of eviction moratorium means millions of A...   \n",
            "\n",
            "   target  BinaryNumTarget                 manual_keywords  \\\n",
            "0    True              1.0  Americans, eviction moratorium   \n",
            "1    True              1.0  Americans, eviction moratorium   \n",
            "2    True              1.0  Americans, eviction moratorium   \n",
            "3    True              1.0  Americans, eviction moratorium   \n",
            "4    True              1.0  Americans, eviction moratorium   \n",
            "\n",
            "                                               tweet 5_label_majority_answer  \\\n",
            "0  @POTUS Biden Blunders - 6 Month Update\\n\\nInfl...            Mostly Agree   \n",
            "1  @S0SickRick @Stairmaster_ @6d6f636869 Not as m...             NO MAJORITY   \n",
            "2  THE SUPREME COURT is siding with super rich pr...                   Agree   \n",
            "3  @POTUS Biden Blunders\\n\\nBroken campaign promi...            Mostly Agree   \n",
            "4  @OhComfy I agree. The confluence of events rig...                   Agree   \n",
            "\n",
            "  3_label_majority_answer  \n",
            "0                   Agree  \n",
            "1                   Agree  \n",
            "2                   Agree  \n",
            "3                   Agree  \n",
            "4                   Agree  \n",
            "\n",
            "Dataset statistics:\n",
            "         Unnamed: 0  BinaryNumTarget\n",
            "count  134198.00000    134198.000000\n",
            "mean    67098.50000         0.513644\n",
            "std     38739.77005         0.499816\n",
            "min         0.00000         0.000000\n",
            "25%     33549.25000         0.000000\n",
            "50%     67098.50000         1.000000\n",
            "75%    100647.75000         1.000000\n",
            "max    134197.00000         1.000000\n",
            "\n",
            "Missing values per column:\n",
            "Unnamed: 0                 0\n",
            "author                     0\n",
            "statement                  0\n",
            "target                     0\n",
            "BinaryNumTarget            0\n",
            "manual_keywords            0\n",
            "tweet                      0\n",
            "5_label_majority_answer    0\n",
            "3_label_majority_answer    0\n",
            "dtype: int64\n"
          ]
        }
      ]
    },
    {
      "cell_type": "code",
      "source": [
        "def preprocess_text(text):\n",
        "    text = re.sub(r'[^\\w\\s]', '', text)\n",
        "    text = text.lower()\n",
        "    return text\n",
        "\n",
        "df['processed_text'] = df['text'].apply(preprocess_text)"
      ],
      "metadata": {
        "id": "s9fNavu1e4ZZ"
      },
      "execution_count": 8,
      "outputs": []
    },
    {
      "cell_type": "code",
      "source": [
        "!git clone https://github.com/AnastasiaKazanas/ANN-Final-Project.git"
      ],
      "metadata": {
        "colab": {
          "base_uri": "https://localhost:8080/"
        },
        "id": "vI36VL1spyrW",
        "outputId": "a01a4bce-f4ed-4428-f49b-7c9db5d96001"
      },
      "execution_count": 10,
      "outputs": [
        {
          "output_type": "stream",
          "name": "stdout",
          "text": [
            "Cloning into 'ANN-Final-Project'...\n",
            "remote: Enumerating objects: 311, done.\u001b[K\n",
            "remote: Counting objects: 100% (226/226), done.\u001b[K\n",
            "remote: Compressing objects: 100% (198/198), done.\u001b[K\n",
            "remote: Total 311 (delta 95), reused 37 (delta 27), pack-reused 85 (from 1)\u001b[K\n",
            "Receiving objects: 100% (311/311), 61.38 MiB | 33.20 MiB/s, done.\n",
            "Resolving deltas: 100% (142/142), done.\n",
            "Filtering content: 100% (4/4), 435.84 MiB | 57.81 MiB/s, done.\n"
          ]
        }
      ]
    },
    {
      "cell_type": "code",
      "source": [
        "file_path = '/content/ANN-Final-Project/Bert_embeding_datasets/Fake_News_Classification.h5'\n",
        "\n",
        "with h5py.File(file_path, 'r') as f:\n",
        "    input_ids = np.array(f['input_ids'])\n",
        "    labels = np.array(f['labels'])\n",
        "\n",
        "# Convert to PyTorch tensors\n",
        "input_ids = torch.tensor(input_ids, dtype=torch.float32)\n",
        "labels = torch.tensor(labels, dtype=torch.long)\n",
        "\n",
        "# Split data\n",
        "X_train, X_test, y_train, y_test = train_test_split(input_ids, labels, test_size=0.2, random_state=42)\n",
        "\n",
        "# Create Tensor datasets\n",
        "train_dataset = TensorDataset(X_train, y_train)\n",
        "test_dataset = TensorDataset(X_test, y_test)\n",
        "\n",
        "# Data loaders\n",
        "train_loader = DataLoader(train_dataset, batch_size=64, shuffle=True)\n",
        "test_loader = DataLoader(test_dataset, batch_size=64, shuffle=False)"
      ],
      "metadata": {
        "id": "7dCdObjUfBZv"
      },
      "execution_count": 11,
      "outputs": []
    },
    {
      "cell_type": "code",
      "source": [
        "# FCNN\n",
        "class FullyConnectedModel(nn.Module):\n",
        "    def __init__(self, input_size, hidden_size, num_classes):\n",
        "        super(FullyConnectedModel, self).__init__()\n",
        "        self.fc1 = nn.Linear(input_size, hidden_size)\n",
        "        self.relu = nn.ReLU()\n",
        "        self.fc2 = nn.Linear(hidden_size, num_classes)\n",
        "\n",
        "    def forward(self, x):\n",
        "        out = self.fc1(x)\n",
        "        out = self.relu(out)\n",
        "        out = self.fc2(out)\n",
        "        return out\n",
        "\n",
        "# Model\n",
        "input_size = input_ids.shape[1]\n",
        "hidden_size = 100\n",
        "num_classes = 2\n",
        "\n",
        "model = FullyConnectedModel(input_size, hidden_size, num_classes)\n",
        "\n",
        "criterion = nn.CrossEntropyLoss()\n",
        "optimizer = optim.Adam(model.parameters(), lr=0.001)\n",
        "\n",
        "# Train the model\n",
        "num_epochs = 5\n",
        "for epoch in range(num_epochs):\n",
        "    for inputs, targets in train_loader:\n",
        "        outputs = model(inputs)\n",
        "        loss = criterion(outputs, targets)\n",
        "\n",
        "        optimizer.zero_grad()\n",
        "        loss.backward()\n",
        "        optimizer.step()\n",
        "\n",
        "    print(f'Epoch [{epoch+1}/{num_epochs}], Loss: {loss.item():.4f}')"
      ],
      "metadata": {
        "id": "9gR1WxH3fqgi",
        "colab": {
          "base_uri": "https://localhost:8080/"
        },
        "outputId": "0ad1e660-6f56-4bb1-ce1b-07dcb35e4736"
      },
      "execution_count": 12,
      "outputs": [
        {
          "output_type": "stream",
          "name": "stdout",
          "text": [
            "Epoch [1/5], Loss: 0.5966\n",
            "Epoch [2/5], Loss: 0.5671\n",
            "Epoch [3/5], Loss: 0.7453\n",
            "Epoch [4/5], Loss: 0.5771\n",
            "Epoch [5/5], Loss: 0.6288\n"
          ]
        }
      ]
    },
    {
      "cell_type": "code",
      "source": [
        "model.eval()\n",
        "all_preds = []\n",
        "all_targets = []\n",
        "\n",
        "correct = 0\n",
        "total = 0\n",
        "\n",
        "with torch.no_grad():\n",
        "    for inputs, targets in test_loader:\n",
        "        outputs = model(inputs)\n",
        "        _, predicted = torch.max(outputs.data, 1)\n",
        "        all_preds.extend(predicted.tolist())\n",
        "        all_targets.extend(targets.tolist())\n",
        "\n",
        "        total += targets.size(0)\n",
        "        correct += (predicted == targets).sum().item()\n",
        "\n",
        "accuracy = correct / total\n",
        "\n",
        "# Confusion matrix\n",
        "conf_matrix = confusion_matrix(all_targets, all_preds)\n",
        "disp = ConfusionMatrixDisplay(conf_matrix, display_labels=['False', 'True'])\n",
        "disp.plot(cmap='Blues')\n",
        "plt.title('Confusion Matrix')\n",
        "plt.show()\n",
        "\n",
        "print(f'Accuracy of the model on the test data: {accuracy:.2f}')\n"
      ],
      "metadata": {
        "colab": {
          "base_uri": "https://localhost:8080/",
          "height": 489
        },
        "id": "BQAITXFsjOgE",
        "outputId": "68884dd5-4f48-4e04-ff46-b373405c7c4a"
      },
      "execution_count": 13,
      "outputs": [
        {
          "output_type": "display_data",
          "data": {
            "text/plain": [
              "<Figure size 640x480 with 2 Axes>"
            ],
            "image/png": "[encoded data removed]"
          },
          "metadata": {}
        },
        {
          "output_type": "stream",
          "name": "stdout",
          "text": [
            "Accuracy of the model on the test data: 0.67\n"
          ]
        }
      ]
    },
    {
      "cell_type": "code",
      "source": [],
      "metadata": {
        "id": "XyfpHesKloqJ"
      },
      "execution_count": null,
      "outputs": []
    }
  ]
}