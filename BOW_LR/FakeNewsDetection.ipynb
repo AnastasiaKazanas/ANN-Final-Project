{
  "cells": [
    {
      "cell_type": "markdown",
      "metadata": {
        "id": "view-in-github",
        "colab_type": "text"
      },
      "source": [
        "<a href=\"https://colab.research.google.com/github/AnastasiaKazanas/ANN-Final-Project/blob/main/BOW_LR/FakeNewsDetection.ipynb\" target=\"_parent\"><img src=\"https://colab.research.google.com/assets/colab-badge.svg\" alt=\"Open In Colab\"/></a>"
      ]
    },
    {
      "cell_type": "code",
      "execution_count": 3,
      "metadata": {
        "collapsed": true,
        "id": "bFKXKDfArPNO"
      },
      "outputs": [],
      "source": [
        "import random\n",
        "import pandas as pd\n",
        "import re\n",
        "import nltk\n",
        "import os\n",
        "from sklearn.model_selection import train_test_split\n",
        "from sklearn.feature_extraction.text import TfidfVectorizer\n",
        "from sklearn.linear_model import LogisticRegression\n",
        "from sklearn.metrics import classification_report, accuracy_score, confusion_matrix, ConfusionMatrixDisplay\n",
        "import matplotlib.pyplot as plt\n",
        "import kagglehub"
      ]
    },
    {
      "cell_type": "code",
      "source": [
        "dataset_dir = \"./fake_news_dataset\"\n",
        "\n",
        "if not os.path.exists(dataset_dir):\n",
        "    os.makedirs(dataset_dir)\n",
        "\n",
        "# download the dataset\n",
        "dataset_name = \"emineyetm/fake-news-detection-datasets\"\n",
        "print(f\"Downloading dataset: {dataset_name}\")\n",
        "os.system(f\"kaggle datasets download -d {dataset_name} -p {dataset_dir}\")\n",
        "\n",
        "# Extract the dataset\n",
        "zip_file = None\n",
        "for file in os.listdir(dataset_dir):\n",
        "    if file.endswith(\".zip\"):\n",
        "        zip_file = os.path.join(dataset_dir, file)\n",
        "        break\n",
        "\n",
        "if not zip_file:\n",
        "    raise FileNotFoundError(\"No zip file found in the dataset directory.\")\n",
        "\n",
        "print(f\"Extracting {zip_file}...\")\n",
        "with zipfile.ZipFile(zip_file, \"r\") as zip_ref:\n",
        "    zip_ref.extractall(dataset_dir)\n",
        "\n",
        "# Dynamically locate CVSs\n",
        "fake_path, true_path = None, None\n",
        "for root, dirs, files in os.walk(dataset_dir):\n",
        "    for file in files:\n",
        "        if \"Fake.csv\" in file:\n",
        "            fake_path = os.path.join(root, file)\n",
        "        if \"True.csv\" in file:\n",
        "            true_path = os.path.join(root, file)"
      ],
      "metadata": {
        "colab": {
          "base_uri": "https://localhost:8080/"
        },
        "id": "Ve8vCB-txrMj",
        "outputId": "7c6fdcf9-8c05-4a1f-99e5-bc44cb06cfb4"
      },
      "execution_count": 4,
      "outputs": [
        {
          "output_type": "stream",
          "name": "stdout",
          "text": [
            "Downloading dataset: emineyetm/fake-news-detection-datasets\n",
            "Extracting ./fake_news_dataset/fake-news-detection-datasets.zip...\n"
          ]
        }
      ]
    },
    {
      "cell_type": "code",
      "execution_count": 5,
      "metadata": {
        "colab": {
          "base_uri": "https://localhost:8080/"
        },
        "id": "uiAvJ6yEr4dR",
        "outputId": "0d1673cc-5c50-4a12-f517-f809161ab6a1"
      },
      "outputs": [
        {
          "output_type": "stream",
          "name": "stdout",
          "text": [
            "Combined Dataset Preview:\n",
            "                                               title  \\\n",
            "0   Donald Trump Sends Out Embarrassing New Year’...   \n",
            "1   Drunk Bragging Trump Staffer Started Russian ...   \n",
            "2   Sheriff David Clarke Becomes An Internet Joke...   \n",
            "3   Trump Is So Obsessed He Even Has Obama’s Name...   \n",
            "4   Pope Francis Just Called Out Donald Trump Dur...   \n",
            "\n",
            "                                                text subject  \\\n",
            "0  Donald Trump just couldn t wish all Americans ...    News   \n",
            "1  House Intelligence Committee Chairman Devin Nu...    News   \n",
            "2  On Friday, it was revealed that former Milwauk...    News   \n",
            "3  On Christmas day, Donald Trump announced that ...    News   \n",
            "4  Pope Francis used his annual Christmas Day mes...    News   \n",
            "\n",
            "                date  label  \n",
            "0  December 31, 2017      0  \n",
            "1  December 31, 2017      0  \n",
            "2  December 30, 2017      0  \n",
            "3  December 29, 2017      0  \n",
            "4  December 25, 2017      0  \n",
            "\n",
            "Dataset statistics:\n",
            "              label\n",
            "count  44898.000000\n",
            "mean       0.477015\n",
            "std        0.499477\n",
            "min        0.000000\n",
            "25%        0.000000\n",
            "50%        0.000000\n",
            "75%        1.000000\n",
            "max        1.000000\n",
            "\n",
            "Missing values per column:\n",
            "title      0\n",
            "text       0\n",
            "subject    0\n",
            "date       0\n",
            "label      0\n",
            "dtype: int64\n"
          ]
        }
      ],
      "source": [
        "\n",
        "# Load datasets\n",
        "fake_df = pd.read_csv(fake_path)\n",
        "true_df = pd.read_csv(true_path)\n",
        "\n",
        "# Add labels and combine datasets\n",
        "fake_df['label'] = 0  # Fake news labeled as 0\n",
        "true_df['label'] = 1  # True news labeled as 1\n",
        "df = pd.concat([fake_df, true_df]).reset_index(drop=True)\n",
        "\n",
        "print(\"Combined Dataset Preview:\")\n",
        "print(df.head())\n",
        "\n",
        "print(\"\\nDataset statistics:\")\n",
        "print(df.describe())\n",
        "\n",
        "# missing values\n",
        "missing_values = df.isnull().sum()\n",
        "print(\"\\nMissing values per column:\")\n",
        "print(missing_values)\n",
        "df.dropna(subset=['text', 'label'], inplace=True)\n",
        "\n",
        "# Filter the data\n",
        "filtered_texts = []\n",
        "filtered_labels = []\n",
        "for text, label in zip(df['text'], df['label']):\n",
        "    if len(text) > 50 and text not in filtered_texts:\n",
        "        filtered_texts.append(text)\n",
        "        filtered_labels.append(label)\n",
        "\n",
        "# Create new filtered DataFrame\n",
        "filtered_df = pd.DataFrame({'text': filtered_texts, 'label': filtered_labels})\n"
      ]
    },
    {
      "cell_type": "code",
      "execution_count": 6,
      "metadata": {
        "id": "eRQdv5sq2kZt"
      },
      "outputs": [],
      "source": [
        "def preprocess_text(text):\n",
        "    text = re.sub(r'[^\\w\\s]', '', text)\n",
        "    text = text.lower()\n",
        "    return text\n",
        "\n",
        "# text preprocessing\n",
        "filtered_df['processed_text'] = filtered_df['text'].apply(preprocess_text)\n",
        "\n",
        "# Split the dataset\n",
        "train_texts, test_texts, train_labels, test_labels = train_test_split(\n",
        "    filtered_df['processed_text'], filtered_df['label'], test_size=0.2, random_state=42\n",
        ")"
      ]
    },
    {
      "cell_type": "code",
      "execution_count": 7,
      "metadata": {
        "colab": {
          "base_uri": "https://localhost:8080/",
          "height": 1000
        },
        "id": "z8msfX1EtEXY",
        "outputId": "ea8e7d27-248b-4dc6-a3ad-53ab749d3f47"
      },
      "outputs": [
        {
          "output_type": "stream",
          "name": "stdout",
          "text": [
            "\n",
            "Model Accuracy: 0.99\n",
            "Unique classes in test labels: [0, 1]\n",
            "\n",
            "Classification Report:\n",
            "              precision    recall  f1-score   support\n",
            "\n",
            "       False       0.99      0.98      0.99      3466\n",
            "        True       0.99      0.99      0.99      4235\n",
            "\n",
            "    accuracy                           0.99      7701\n",
            "   macro avg       0.99      0.99      0.99      7701\n",
            "weighted avg       0.99      0.99      0.99      7701\n",
            "\n"
          ]
        },
        {
          "output_type": "display_data",
          "data": {
            "text/plain": [
              "<Figure size 640x480 with 2 Axes>"
            ],
            "image/png": "[encoded data removed]"
          },
          "metadata": {}
        },
        {
          "output_type": "stream",
          "name": "stdout",
          "text": [
            "\n",
            "Sample Predictions:\n",
            "\n",
            "Sample 1\n",
            "Text: a woman was raped by a football player at the university of north carolina and she says that when she reported the attack to campus police they laughed in her facedelaney robinson decided to go public with her horrific ordeal because she felt it would be the only way to get justice since the school would obviously rather protect a sports star than prosecute a sexual assault speaking at a press conference robinson said that on the night of feb 14 tar heels junior linebacker allen artis brutally raped her in a dorm room while she was  incapacitated denise branch robinson s attorney said that her client went to the hospital following the assault where they examined her and collected evidence with a rape kit according to hospital records robinson suffered  vaginal injuries consistent with bluntforce trauma and bruising consistent with a physical assault but when she reported the sexual assault to campus police they simply laughed in her face and asked her a litany of offensive victimblaming questions i was treated like a suspect  she said  what was i wearing what was i drinking how much did i drink how much did i eat that day did i lead him on have i hooked up with him before do i often have onenight stands did i even say no what is my sexual history how many men have i slept with robinson added that she was allowed to listen to an audio recording her attacker s interrogation and it was much different than what she had been forced to endure rather than accusing him of anything the investigators spoke to him with a tone of camaraderie  robinson said  they provided reassurances to him when he became upset they even laughed with him when he told them how many girls  phone numbers he had managed to get on the same night he raped me robinson freely admits that she had been drinking on the night in question but according to the  assistant district attorney for orange county  unconsciousness is rape blackout drunk is not rape after police and prosecutors convinced robinson that there was no way she had enough evidence to pursue felony charges she filed two misdemeanor charges artis was arrested for the assault on tuesday and according to district attorney jim woodall the case is still pendingthis case is just the latest incident of rape that has been brushed off thanks to america s rape culture brock turner was released after serving only three months in jail for raping an unconscious woman behind a dumpster but hey he had a promising swimming career and athletes get a free pass when it comes to raperobinson said her  life has changed forever while the person who assaulted me continues as a student and a football player on this campus as of tuesday evening unc had not yet released a statement regarding the allegationsfeatured image via  streeter leckagetty images\n",
            "Predicted: False, Actual: False\n",
            "\n",
            "Sample 2\n",
            "Text: tune in to the alternate current radio network acr for another live broadcast of  the boiler room  starting at 6 pm pst  9 pm est every wednesday join us for uncensored uninterruptible talk radio custommade for barfly philosophers misguided moralists masochists street corner evangelists mediamaniacs savants political animals and otherwise lovable rascalsjoin acr hosts hesher  spore along with randy j of 21wire daniel spaulding from soul of the east and jay dyer of jaysanalysiscom tonight the boiler gang discusses the clinton fbi results ca legislature s war against the people on behalf of a tyrannical government gone mad and whatever else floats into our air space during the showboiler room is not a polictally correct zone listen to the show in the player below   enjoy reference links\n",
            "Predicted: False, Actual: False\n",
            "\n",
            "Sample 3\n",
            "Text: caracashouston reuters  venezuela s powerful former oil czar rafael ramirez said on tuesday he resigned from his job as un envoy on orders of the president a sign of growing rifts in the socialist party once firmly united under late leader hugo chavez sources told reuters last week that leftist president nicolas maduro fired ramirez a political rival who was thought to have presidential ambitions and summoned him back to caracas from new york several close allies of ramirez as well as a relative have been arrested in venezuela in recent weeks as part of a purge in the oil sector over graft allegations sparking questions about whether ramirez would dare return to caracas  insiders say maduro is feeling empowered after surviving major political protests this year he is now moving to strengthen his control of the opec member s crucial energy industry and sideline political rivals ahead of presidential elections in 2018  i have been removed for my opinions  said ramirez via twitter where he posted a fourpage resignation letter  he has for weeks been writing editorials on a leftwing news site that are harshly critical of maduro and the state of the oil industry   by attacking me personally you are affecting the unity of the revolutionary forces and the legacy of comandante chavez  he added in the letter addressed to foreign minister jorge arreaza referring to chavez who governed venezuela for 14 years before dying of cancer in 2013 ramirez a 54yearold engineer did not discuss his next moves in the resignation letter but a source close to him told reuters on tuesday that had left the united states his press representative did not immediately respond to request for comment the sacking caps a remarkable downfall for ramirez who led state oil company pdvsa and the oil ministry for a decade and was one of chavez  closest confidants he oversaw vast oil nationalizations and urged workers to wear red shirts in support of chavez s socialist movement  ramirez was disappointed when chavez picked maduro a former bus driver and union leader as his successor according to sources familiar with his thinking maduro then narrowly won an election to become president in 2013 and swiftly demoted ramirez the following year first to the foreign ministry and then to the united nations  since then a protracted rivalry between the two men has increased insiders said  ramirez has in recent months openly criticized venezuela s economy which has the world s highest inflation and shortages of basic goods he wrote an article that was perceived as an attack on maduro himself one source said  the information ministry did not immediately respond to an email seeking comment the government said it had appointed samuel moncada a former foreign minister as un envoy  separately state prosecutor tarek saab on tuesday said venezuela had ordered the arrests of six oil executives for their alleged role in a 2010 drilling contract with inflated prices  the announcement comes amid a monthslong crackdown on alleged graft in the energy industry that has led to the arrest of some 65 former executives including two prominent officials who used to lead both the oil ministry and pdvsa corruption has long plagued venezuela home to the world s biggest crude reserves but the socialist government usually blamed smear campaigns for accusations of widespread graft maduro has recently changed his tack blaming  thieves  and  traitors  for the country s crisis pdvsa has already started an arbitration procedure against petrosaudi the company that leased the offshore rig in the 2010 contract to seek damages for what it says was  poor performance  petrosaudi declined to comment \n",
            "Predicted: True, Actual: True\n",
            "\n",
            "Sample 4\n",
            "Text: a huge number of federal employees wouldn t be able to stand their jobs if republican presidential frontrunner donald trump won the next presidential election according to a survey done by the government business council a quarter of government employees find trump so unbearably repulsive that they would actually quitthe breakdown revealed that 14 of workers surveyed would definitely jump ship and 11 stated that they d consider leaving their jobs   resulting in a potential 25 of federal employees terminating their positions it could be disastrous when you imagine all the government agencies   such as the post office and our va system   which are normally understaffed to begin with   trying to function with 25 fewer people the results of trump s presidency could be damaging on every levelwhen broken down by party 42 of democrats said they d consider leaving compared to just 8 of republicans the survey also revealed that regardless of their political party almost 60 of federal employees admitted they d be  embarrassed  to call trump their boss this was much higher than any of the democratic candidates such as hillary clinton 49 and bernie sanders 37to make matters even more embarrassing for the gop survey participants were also asked how they felt about their current boss president barack obama   and the majority 56 of democratic employees said they would be honored to support him for a third term if he was permitted oneso while donald trump might continue to be popular in the polls this study reveals that many americans are still levelheaded and quite humiliated by the idea that he might be given the chance to lead this country you can t get a much clearer sign than 1 in 4 people quitting their jobs to demonstrate just how vile the idea of trump in the white house isthis poll was conducted at the end of january and used data from 688 federal employees with a margin of error give or take four percentage points of those surveyed 42 called themselves republicans 31 identified as democrats while 8 said they did not know and 19 wouldn t state their partyfeatured image via gage skidmore\n",
            "Predicted: False, Actual: False\n",
            "\n",
            "Sample 5\n",
            "Text: for years liberals have maintained that evangelicals have only been using religion as a means to achieve absolute power and now one of their leaders has confirmed iton monday ethics  religious liberty commission of the southern baptist convention president russell moore wrote a column for the washington post blasting evangelical christians for proving liberals rightdonald trump despite his more than fleeting flirtation with fascism and his campaign of hate and intolerance has gained massive support from evangelical christians who are willing to overlook the republican frontrunner s lack of christian morals as long it means they get a president who will give them more power the problem is the behavior of some evangelical leaders  moore wrote i have watched as some of these who gave stemwinding speeches about  character  in office during the clinton administration now minimize the spewing of profanities in campaign speeches racebaiting and courting white supremacists boasting of adulterous affairs debauching public morality and justice through the casino and pornography industries moore wasn t finished though he also slammed evangelicals a term he is too embarrassed to use to describe himself any longer because they are flocking to candidates who pretend to be christians i watched one evangelical leader pronounce a candidate a christian though he explicitly states that he has never repented of sin because he displays the fruit of the spirit in job creation that s not a political problem it s a gospel problemwhy are many evangelical leaders including some who pontificate on nearly everything else scared silent as evangelicalism is associated with everything from authoritarianism and bigotry to violations of religious freedom how can they look the other way in silence when politicians praise planned parenthood and demur about white supremacists and neonazis and then he admitted that liberals have been right about evangelicals for years and they have been vindicated by evangelicals who have flocked to trump s campaign for years secular progressives have said that evangelical social action in america is not about religious conviction but all about power they have implied that the goal of the religious right is to cynically use the  moral  to get to the  majority  not the other way aroundthis year a group of highprofile oldguard evangelicals has proven these critics right indeed evangelical christians have only sought power and they ve had no problem rewriting or flatout ignoring parts of the bible that do not fit with their agenda in order to achieve itit s been all about money and power and evangelical leaders have fleeced their congregations so they can keep trying to topple the government and establish religious tyranny but evangelicals have grown more and more desperate over the years as americans continually reject them and their radical agenda that would confine women to the home and sentence gay people to death as well as declare america a christian state governed by the bible instead of the constitutional principles we hold dearand donald trump may not be an evangelical christian but evangelicals are increasingly supporting his campaign because he is saying exactly what they want to hear and they see him as their last chance to take power it s never been about the gospel or morality to evangelicals it has always been about gaining power and using it to persecute and indoctrinate those they disagree with and by supporting trump evangelicals are telling the world that they are precisely the fake christians that liberals have been fighting against for decadesfeatured image via screen capture\n",
            "Predicted: False, Actual: False\n"
          ]
        }
      ],
      "source": [
        "# Tfidf\n",
        "vectorizer = TfidfVectorizer(max_features=5000, ngram_range=(1, 2))\n",
        "X_train = vectorizer.fit_transform(train_texts)\n",
        "X_test = vectorizer.transform(test_texts)\n",
        "\n",
        "# Model Training with Logistic Regression\n",
        "model = LogisticRegression(max_iter=200, solver='saga', penalty='l2', C=1.0)\n",
        "model.fit(X_train, train_labels)\n",
        "\n",
        "# Predict on the test set\n",
        "predictions = model.predict(X_test)\n",
        "\n",
        "accuracy = accuracy_score(test_labels, predictions)\n",
        "print(f\"\\nModel Accuracy: {accuracy:.2f}\")\n",
        "\n",
        "# single class cases\n",
        "unique_classes = sorted(test_labels.unique())\n",
        "print(\"Unique classes in test labels:\", unique_classes)\n",
        "\n",
        "target_names = ['False', 'True'][:len(unique_classes)]\n",
        "\n",
        "# Classification Report\n",
        "print(\"\\nClassification Report:\")\n",
        "print(classification_report(test_labels, predictions, labels=unique_classes, target_names=target_names))\n",
        "\n",
        "# Confusion Matrix\n",
        "if len(unique_classes) > 1:  # Plot confusion matrix only if there are at least two classes\n",
        "    conf_matrix = confusion_matrix(test_labels, predictions)\n",
        "    disp = ConfusionMatrixDisplay(conf_matrix, display_labels=target_names)\n",
        "    disp.plot(cmap='Blues')\n",
        "    plt.title('Confusion Matrix')\n",
        "    plt.show()\n",
        "else:\n",
        "    print(\"\\nConfusion Matrix not displayed due to single class in the test set.\")\n",
        "\n",
        "# Display a few predictions\n",
        "print(\"\\nSample Predictions:\")\n",
        "for i, (text, pred, true_label) in enumerate(zip(test_texts[:5], predictions[:5], test_labels[:5])):\n",
        "    print(f\"\\nSample {i+1}\")\n",
        "    print(f\"Text: {text}\")\n",
        "    print(f\"Predicted: {'True' if pred else 'False'}, Actual: {'True' if true_label else 'False'}\")"
      ]
    },
    {
      "cell_type": "code",
      "execution_count": null,
      "metadata": {
        "id": "tKgrfDeOgAUu"
      },
      "outputs": [],
      "source": []
    }
  ],
  "metadata": {
    "colab": {
      "provenance": [],
      "include_colab_link": true
    },
    "kernelspec": {
      "display_name": "Python 3",
      "name": "python3"
    },
    "language_info": {
      "name": "python"
    }
  },
  "nbformat": 4,
  "nbformat_minor": 0
}