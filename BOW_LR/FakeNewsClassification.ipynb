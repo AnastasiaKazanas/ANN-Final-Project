{
  "cells": [
    {
      "cell_type": "markdown",
      "metadata": {
        "id": "view-in-github",
        "colab_type": "text"
      },
      "source": [
        "<a href=\"https://colab.research.google.com/github/AnastasiaKazanas/ANN-Final-Project/blob/main/BOW_LR/FakeNewsClassification.ipynb\" target=\"_parent\"><img src=\"https://colab.research.google.com/assets/colab-badge.svg\" alt=\"Open In Colab\"/></a>"
      ]
    },
    {
      "cell_type": "code",
      "execution_count": null,
      "metadata": {
        "collapsed": true,
        "id": "bFKXKDfArPNO"
      },
      "outputs": [],
      "source": [
        "import random\n",
        "import torch\n",
        "import pandas as pd\n",
        "import re\n",
        "import nltk\n",
        "from sklearn.model_selection import train_test_split\n",
        "from sklearn.feature_extraction.text import TfidfVectorizer\n",
        "from sklearn.linear_model import LogisticRegression\n",
        "from sklearn.metrics import classification_report, accuracy_score, confusion_matrix, ConfusionMatrixDisplay\n",
        "import matplotlib.pyplot as plt\n",
        "import kagglehub"
      ]
    },
    {
      "cell_type": "code",
      "execution_count": null,
      "metadata": {
        "colab": {
          "base_uri": "https://localhost:8080/"
        },
        "id": "uiAvJ6yEr4dR",
        "outputId": "c6c1c6ac-3185-4358-8e97-c45cbb4a9bcc"
      },
      "outputs": [
        {
          "output_type": "stream",
          "name": "stderr",
          "text": [
            "[nltk_data] Downloading package stopwords to /root/nltk_data...\n",
            "[nltk_data]   Unzipping corpora/stopwords.zip.\n",
            "[nltk_data] Downloading package wordnet to /root/nltk_data...\n"
          ]
        },
        {
          "output_type": "stream",
          "name": "stdout",
          "text": [
            "Downloading from https://www.kaggle.com/api/v1/datasets/download/saurabhshahane/fake-news-classification?dataset_version_number=77...\n"
          ]
        },
        {
          "output_type": "stream",
          "name": "stderr",
          "text": [
            "100%|██████████| 92.1M/92.1M [00:01<00:00, 90.5MB/s]"
          ]
        },
        {
          "output_type": "stream",
          "name": "stdout",
          "text": [
            "Extracting files...\n"
          ]
        },
        {
          "output_type": "stream",
          "name": "stderr",
          "text": [
            "\n"
          ]
        },
        {
          "output_type": "stream",
          "name": "stdout",
          "text": [
            "Dataset preview:\n",
            "   Unnamed: 0                                              title  \\\n",
            "0           0  LAW ENFORCEMENT ON HIGH ALERT Following Threat...   \n",
            "1           1                                                NaN   \n",
            "2           2  UNBELIEVABLE! OBAMA’S ATTORNEY GENERAL SAYS MO...   \n",
            "3           3  Bobby Jindal, raised Hindu, uses story of Chri...   \n",
            "4           4  SATAN 2: Russia unvelis an image of its terrif...   \n",
            "\n",
            "                                                text  label  \n",
            "0  No comment is expected from Barack Obama Membe...      1  \n",
            "1     Did they post their votes for Hillary already?      1  \n",
            "2   Now, most of the demonstrators gathered last ...      1  \n",
            "3  A dozen politically active pastors came here f...      0  \n",
            "4  The RS-28 Sarmat missile, dubbed Satan 2, will...      1  \n",
            "\n",
            "Dataset statistics:\n",
            "         Unnamed: 0         label\n",
            "count  72134.000000  72134.000000\n",
            "mean   36066.500000      0.514404\n",
            "std    20823.436496      0.499796\n",
            "min        0.000000      0.000000\n",
            "25%    18033.250000      0.000000\n",
            "50%    36066.500000      1.000000\n",
            "75%    54099.750000      1.000000\n",
            "max    72133.000000      1.000000\n",
            "\n",
            "Missing values per column:\n",
            "Unnamed: 0      0\n",
            "title         558\n",
            "text           39\n",
            "label           0\n",
            "dtype: int64\n"
          ]
        }
      ],
      "source": [
        "nltk.download('stopwords')\n",
        "nltk.download('wordnet')\n",
        "\n",
        "path = kagglehub.dataset_download(\"saurabhshahane/fake-news-classification\")\n",
        "\n",
        "# Load the dataset\n",
        "df = pd.read_csv(\"/root/.cache/kagglehub/datasets/saurabhshahane/fake-news-classification/versions/77/WELFake_Dataset.csv\")\n",
        "\n",
        "print(\"Dataset preview:\")\n",
        "print(df.head())\n",
        "\n",
        "print(\"\\nDataset statistics:\")\n",
        "print(df.describe())\n",
        "\n",
        "# missing values\n",
        "missing_values = df.isnull().sum()\n",
        "print(\"\\nMissing values per column:\")\n",
        "print(missing_values)\n",
        "df.dropna(subset=['text', 'label'], inplace=True)\n",
        "\n",
        "# Filter the data\n",
        "filtered_texts = []\n",
        "filtered_labels = []\n",
        "for text, label in zip(df['text'], df['label']):\n",
        "    if len(text) > 50 and text not in filtered_texts:\n",
        "        filtered_texts.append(text)\n",
        "        filtered_labels.append(label)\n",
        "\n",
        "# Create a new filtered DataFrame\n",
        "filtered_df = pd.DataFrame({'text': filtered_texts, 'label': filtered_labels})\n"
      ]
    },
    {
      "cell_type": "code",
      "execution_count": null,
      "metadata": {
        "id": "eRQdv5sq2kZt"
      },
      "outputs": [],
      "source": [
        "def preprocess_text(text):\n",
        "    text = re.sub(r'[^\\w\\s]', '', text)\n",
        "    text = text.lower()\n",
        "    return text\n",
        "\n",
        "# Apply text preprocessing\n",
        "filtered_df['processed_text'] = filtered_df['text'].apply(preprocess_text)\n",
        "\n",
        "# Split the dataset\n",
        "train_texts, test_texts, train_labels, test_labels = train_test_split(\n",
        "    filtered_df['processed_text'], filtered_df['label'], test_size=0.2, random_state=42\n",
        ")"
      ]
    },
    {
      "cell_type": "code",
      "execution_count": null,
      "metadata": {
        "colab": {
          "base_uri": "https://localhost:8080/",
          "height": 1000
        },
        "id": "z8msfX1EtEXY",
        "outputId": "c616bb56-77f8-4a06-f6fd-d3d228ace54a"
      },
      "outputs": [
        {
          "output_type": "stream",
          "name": "stdout",
          "text": [
            "\n",
            "Model Accuracy: 0.96\n",
            "Unique classes in test labels: [0, 1]\n",
            "\n",
            "Classification Report:\n",
            "              precision    recall  f1-score   support\n",
            "\n",
            "       False       0.96      0.96      0.96      6968\n",
            "        True       0.95      0.95      0.95      5521\n",
            "\n",
            "    accuracy                           0.96     12489\n",
            "   macro avg       0.96      0.96      0.96     12489\n",
            "weighted avg       0.96      0.96      0.96     12489\n",
            "\n"
          ]
        },
        {
          "output_type": "display_data",
          "data": {
            "text/plain": [
              "<Figure size 640x480 with 2 Axes>"
            ],
            "image/png": "[encoded data removed]"
          },
          "metadata": {}
        },
        {
          "output_type": "stream",
          "name": "stdout",
          "text": [
            "\n",
            "Sample Predictions:\n",
            "\n",
            "Sample 1\n",
            "Text: berlin reuters  the united states informed germany shortly before it launched missile strikes on a syrian airbase from which washington said a deadly chemical weapons attack had been launched this week a german government spokesman said on friday the us government informed the chancellery and defense minister during the night german government spokesman steffen seibert told a regular news conference a spokesman for the defense ministry added the defense minister was informed about the strikes by her american colleague james mattis shortly beforehand a spokesman for germanys foreign ministry said the united states had given berlin the impression during the contact overnight that this was a targeted and limited attack  \n",
            "Predicted: False, Actual: False\n",
            "\n",
            "Sample 2\n",
            "Text: budapest reuters  hungary will not change its antiimmigration stance after the european union s top court dismissed a challenge against migrant quotas prime minister viktor orban said on friday the eu s highest court ruled on wednesday that member states must take in a share of refugees who reach europe dismissing the challenge by slovakia and hungary and reigniting an eastwest row that has shaken eu cohesion  we must take note of the ruling as we cannot erode the foundation of the eu  and respect of law is the foundation of the eu  but at the same time this court ruling is no reason for us to change our policy which rejects migrants  orban told state radio the mediterranean migrant crisis of 2015 flooded the balkans italy and greece with migrants which prompted the eu to impose mandatory quotas on its member countries for relocating asylum seekers the flow of migrants has receded easing pressure to force compliance on nationalist leaders like orban who is benefiting from his tough antiimmigrant policies as elections approach in 2018 now that the legal challenge has failed orban said he would pursue a political fight to force the eu to change its mandatory migrant quotas  the whole issue raises a very serious question of principles whether we are an alliance of european free nations with the commission representing our joint interests or a european empire which has its center in brussels and which can issue orders  orban said he said eu countries which let in migrants unlike hungary decided to do so of their own will and now they cannot ask hungary to take a part in correcting their mistake  it is not us hungarians who question the rules of the club but the commission had changed the rules and this is unacceptable  orban added he said that unlike some of the major member states of the eu whose colonial legacy has made them  immigrant countries  hungary did not have a colonial past  these countries with colonial legacy which have become immigrant countries by now want to impose on us central europeans their own logic  but hungary does not want to become an immigrant country  orban said at the same time he said hungary was committed to eu membership because hungarians had decided in a referendum to join the bloc in 2004  no government can lead hungary out of the eu as it was the hungarian people which decided to be inside and this is right  \n",
            "Predicted: False, Actual: False\n",
            "\n",
            "Sample 3\n",
            "Text: oct 26 2016 350 pm 0 \n",
            "submitted by claudio grass via actingmancom the us elections the latest crack in the system \n",
            "the 2016 us presidential elections are unprecedented i dont believe we have ever witnessed before a campaign year so toxic so dangerously divisive and full of ad hominem attacks both camps have vilified the opposition and their followers creating a schism in society there has been no rational dialogue on the issues that truly concern the american public \n",
            "the schism \n",
            "instead we have witnessed personal insults and petty attacks rumors and gossip at this point as a result of this catastrophic campaign the public will not vote in favor of the candidate they agree with the most or the one they like but against the one they hate \n",
            "in this article we do not focus on comparisons between clinton and trump enough has been said and written about the candidates themselves here we look at their supporters  the crowd behind the candidates those that will in fact shape american policy making in the coming four years \n",
            "hillary clinton the establishment remains in control \n",
            "the most important and formidable group within those backing clinton belong to the upper echelon of society wall streets movers and shakers big business the top of the political pyramid and the servants and profiteers of the public sector in one word the establishment \n",
            "clintons support base includes therefore practically everyone who profits from government regulations and government corruption  they have everything to lose if hillary doesnt win it is the same group that advocates and leads the political correctness movement  they are those statebred and fed intellectuals who poison the university campus and mass media circus with their belief that they can transform the us into a utopia \n",
            "the candidate anointed by the deep state \n",
            "in reality this utopia will be created through intense centralization endless wars and plundering only to create a totalitarian government where the political elite enforces its will and instructs the public on how to live a happy life which only benefits the top strata of society that designed it in the first place years ago jewish american philosopher hannah arendt summarized the toxic impact of political correctness as follows \n",
            "there is no thought process without freedom to deprive man of his liberty is to deprive him of his own ideas and if one is not allowed to think only subjugation and slavery remain \n",
            "this can only be achieved through a strong foothold on the centralized state and its propaganda engine the mass media operating under the doctrine of edward bernays the father of propaganda better known as public relations \n",
            "then theres the other extreme of clintons supporters the artificially created underprivileged minorities these groups have come to depend on the state for support and protection which has also made it easy for the state to indoctrinate them and reset their mindset to its advantage \n",
            "those are the people who have fallen in the trap of thinking that only the state can provide them with what they need for a good life when in reality it only disempowered them the globalist clinton herself accuses trump of populism casting nationalism in a negative light but she is actually the one promising free lunches for everyone lenient immigration laws higher minimum wages universal healthcare etc \n",
            "clinton also preaches against income inequality and condemns wall street greed in her speeches while her campaign cashes in from wall streets finest jp morgan morgan stanley citigroup and goldman sachs \n",
            "under those circumstances what can you possibly do ms clintons top five donors are citigroup goldman sachs dla piper jp morgan morgan stanley somehow we dont think wall street has reason to fear her much trump  the greatest politically incorrect shock in decades \n",
            "whenever people are forced by the government to accept and pay for things they do not want the outcome is discontent and opposition typically suppressed and downplayed by the mainstream media in accordance with the states agenda of political correctness this further escalates the situation and things often take unpleasant turns including the fostering of racist and bigoted subsections that we see within the trump voting base \n",
            "but they are not the majority not by long shot one might get this impression because the mainstream media tend to focus exclusively on this subset of supporters through footage and interviews at trump rallies because they are considered interesting material after all they say outrageously horrible things and are therefore great for tv sensationalism \n",
            "what does donald trump stand for from my perspective for anything and everything he stands for everyone who is sick and tired of the current system and the political elite who have grown out of touch with ordinary american citizens you will find them among the working class small business owners and the segment of society that used to be known as the middle class before the crisis they all harbor grievances against the establishment \n",
            "there have been a few halfhearted attempts to paint trump as part of the establishment because he is rich and has always hobnobbed with the elite as a result of his social status but they have generally failed for one thing he is not a politician for another thing his consistent political incorrectness and the list of his political enemies which includes many republican deep state zombies has simply made it impossible to lump him with the establishment \n",
            "\n",
            "these are people who understand that the slogan the union and the constitution forever has been under attack and downgraded to nothing more than an empty phrase by the power elite and the deep state we see first hand how the patriot act directly violates not only the first amendments guarantee of free speech but also the fourth and fifth amendments thereby tearing apart the very foundation of a country once based on respect for civil liberties \n",
            "there is no doubt that the second amendment will be crushed under clinton as well regulating to extinction the natural right to selfdefense and personal sovereignty we must never forget that we are born with inherent rights that can neither be granted nor taken away from us by the state as judge napolitano once put it \n",
            "natural law teaches that our freedoms are prepolitical and come from our humanity and not from the government as our humanity is ultimately divine in origin the government even by majority vote cannot morally take natural rights away from us \n",
            "\n",
            "a natural right is an area of individual human behavior  like thought speech worship travel selfdefense privacy ownership and use of property consensual personal intimacy  immune from government interference and for the exercise of which we dont need the governments permission \n",
            "hillary clinton and donald trump face to face in the last of three presidential debates under the banner of the union and the constitution forever \n",
            "\n",
            "even though polls suggest that trump is trailing nationally they probably underestimate exactly how big the trump wave is and it is significant between 74 and 83 of republicans said they will support him according to polls conducted between oct 9 th 11 th  but there is also the silent majority that has been present at his rallies this silent majority does not necessarily consist of trump fans but they do not want to see the country falling into the abyss of state centralization and political correctness a sign often seen at trump rallies these days  which continue to attract lots of people only recently 20000 deplorables came to see trump at a rally in tampa while hillary clintons running mate tim kaine motivated a grand total of 50 people to come and hear him speak in west palm beach reportedly they werent particularly enthusiastic we dont know how many of the 50 were from the press \n",
            "\n",
            "they want to discontinue the economic system that has taken them from bad to worse  they are the american version of the european antiestablishment movement they are well aware of trumps coarse character and crude remarks but feel they can overlook that for the sake of his main strategic advantage trumps promise that he does not want america to be controlled by the establishment anymore \n",
            "a tale of two hatreds \n",
            "politics is like sausage being made it is unsavory and it always has been that way but we usually end up where we need to be but if everybodys watching then people get a little nervous to say the least so you need both a public and a private position hillary clinton national multihousing council april 2013 \n",
            "one key reason behind the peoples hostility towards clinton is that she personally embodies the hypocrisy and the hubris of the us federal government itself a government that maims and kills millions with its war on terror it arms and supports murderous regimes and ideological fanatics and it is known to deploy chemical biological and nuclear weapons and yet it somehow pretends to hold the moral high ground and lectures others on human rights \n",
            "just as america is an exceptional country for which normal standards dont apply clinton is its exceptional candidate she accuses her opponent of populism when her own platform is entirely based on crowdpleasing promises \n",
            "she calls trumps policies fascistic while her own would put the final nail on the coffin of free speech she claims to stand up for the little guy while she funds her campaign with wall street money she positions herself as the defender of minorities and womens rights while her foundation accepts donations from the most oppressive regimes on the planet \n",
            "defending the rights of women isnt cheap so obviously one cant be too picky and choosy about ones donors \n",
            "\n",
            "at the same time the american electorate also feels hostility for trump that hate is not equivalent though as few would argue he is trying to hide who he is the reason why so many dislike him is very different and it has to do with the identity he projects he is the ultimate antiintellectual \n",
            "of course the term intellectual is quite broad these days and many intellectuals dislike trump solely because of what it would say about who they are in the eyes of their likeminded peers but these people share a common denominator they are educated beyond their intelligence and critically depend on repeating what other intellectual people say as they feel consciously or not their ignorance would be exposed if they dared to express an original idea \n",
            "trumps world according to a recent nyt cartoon the statist intelligentsia certainly feels threatened by trump \n",
            "the day after the legacy of a bitter campaign year \n",
            "unfortunately whoever wins the nation will pay a price for this divide and conquer rhetoric americans today are too polarized and the tensions that are brewing in the background will not just go away the day after the election racial and social divisions as well as the split caused by the choice between a planned vs a free market economy a big or a small government \n",
            "under trump we can only hope that america will be given time to heal and to overcome these divisions free speech is key society can only heal if it returns to a culture of debate with a willingness to agree to disagree \n",
            "from what we know from modern american history we shouldnt be surprised that the financial markets appear to prefer hillary over trump wall street the bankers and the military industrial complex are expected to continue to thrive under president clinton the establishment will live on right now the establishment is seemingly pushing for war against russia and clinton is undeniably on board with this aggressive narrative \n",
            "and then we have trump who is certainly far from perfect his objectification of women his comments about muslims and minorities his crass demeanor all these have made it very hard for him to find support for his genuine policy points will the silent majority be able to actually swing the election for trump although the mainstream media seem to be of one mind regarding the election outcome we certainly wouldnt rule it out if ever there was a candidate provoking the bradley effect in polls it is surely trump moreover thanks to wikileaks it is by now public knowledge that the polls are indeed rigged  readers may recall that we have expressed doubts about the accuracy of poll sampling methods already some time ago \n",
            "\n",
            "even if the actual net effect of his policies were to benefit women he wont get them on his side by calling them pigs  there is a difference between free speech and just being plain rude uncivil and vulgar we may disagree with his infamous wall with mexico and demands for a new budget to rebuild our depleted military which makes him no different from clinton but he is an outsider a businessman and most importantly a crack in system \n",
            "he challenges the status quo and thats why the status quo attacks him by trying to ridicule both him and his voters by painting them as extremists or as ignorant and racist the question is why dont we just let trump be trump \n",
            "as he himself said it is so nice that the shackles have been taken off me and i can now fight for america the way i want to  consider the boldness of this statement  regardless of whether one agrees with him he stands confidently for his principles and ideas even against his own partys leaders many of which have withdrawn their support this is a clear projection of power and independence it says that no one can dictate their demands to him it says that he is unafraid to speak his mind \n",
            "i say we should trust his followers it seems clear that most trump voters are striving to defend the essence of the constitution and its original intent  to be the basis of a free society and for me as a believer in civil rights and sovereignty this is enough to give him or let me rather say his voters the benefit of the doubt\n",
            "Predicted: True, Actual: True\n",
            "\n",
            "Sample 4\n",
            "Text: the latest results are in and things are looking pretty bleak for president trump   as of monday practically every single poll had donald trump plummeting in the ratings however the support of his impeachment was steadily rising and has now actually overtaken the president s approval ratingyes even when the margin of error is factored in more us voters are in support of trump s impeachment compared to those that simply support him as the president and it doesn t really come as much of a surprise when one considers the events of the past week first trump pulled the us out of the paris climate accord then there was the way he responded to the london terror attacks undermining london mayor sadiq khan with a twitter tirade that continually took one of khan s comments completely out of context add to these the ongoing probe into russia possibly having a hand in helping him win the us presidential election and trump is not a particularly popular man at the momentaccording to a gallup poll published on monday trump s approval rating dropped from almost 42 prior to the weekend down to 36 inching ever so closer back to his alltime low of 35 back in march on the other hand a politicomorning consult poll published the same day found that almost 43 of american voters are in favor of beginning the official procedure to have trump impeacheddespite there being no exact concrete number for where the president s approval rating stands every poll reflected the exact same pattern over the course of the weekend following trump s decision on the paris agreement that includes polling sites such as rasmussen reports ones that lean more than just a little to the right still showing that 54 disapprove of the president s tenurewhile trump might have achieved a personalhigh approval rating of 42 after his first official overseas trip as president he is now rapidly approaching the territory of the lowest approval rating in the history of modern american politicsfeatured image via win mcnameegetty images\n",
            "Predicted: True, Actual: True\n",
            "\n",
            "Sample 5\n",
            "Text: jerusalem reuters  israel rejected a un vote on thursday that called on the united states to withdraw its decision to recognize jerusalem as the capital of israel  israel rejects the un decision and at the same time is satisfied with the high number of countries that did not vote in its favour  said a statement from prime minister benjamin netanyahu s office  israel thanks us president trump for his unequivocal position in favour of jerusalem and thanks the countries that voted together with israel together with the truth  it said \n",
            "Predicted: False, Actual: False\n"
          ]
        }
      ],
      "source": [
        "# Tfidf\n",
        "vectorizer = TfidfVectorizer(max_features=5000, ngram_range=(1, 2))\n",
        "X_train = vectorizer.fit_transform(train_texts)\n",
        "X_test = vectorizer.transform(test_texts)\n",
        "\n",
        "# Model Training with Logistic Regression\n",
        "model = LogisticRegression(max_iter=200, solver='saga', penalty='l2', C=1.0)\n",
        "model.fit(X_train, train_labels)\n",
        "\n",
        "# Predict on the test set\n",
        "predictions = model.predict(X_test)\n",
        "\n",
        "accuracy = accuracy_score(test_labels, predictions)\n",
        "print(f\"\\nModel Accuracy: {accuracy:.2f}\")\n",
        "\n",
        "# single-class case\n",
        "unique_classes = sorted(test_labels.unique())\n",
        "print(\"Unique classes in test labels:\", unique_classes)\n",
        "\n",
        "target_names = ['False', 'True'][:len(unique_classes)]\n",
        "\n",
        "# Classification Report\n",
        "print(\"\\nClassification Report:\")\n",
        "print(classification_report(test_labels, predictions, labels=unique_classes, target_names=target_names))\n",
        "\n",
        "# Confusion Matrix\n",
        "if len(unique_classes) > 1:  # Plot confusion matrix only if there are at least two classes\n",
        "    conf_matrix = confusion_matrix(test_labels, predictions)\n",
        "    disp = ConfusionMatrixDisplay(conf_matrix, display_labels=target_names)\n",
        "    disp.plot(cmap='Blues')\n",
        "    plt.title('Confusion Matrix')\n",
        "    plt.show()\n",
        "else:\n",
        "    print(\"\\nConfusion Matrix not displayed due to single class in the test set.\")\n",
        "\n",
        "# Display a few predictions\n",
        "print(\"\\nSample Predictions:\")\n",
        "for i, (text, pred, true_label) in enumerate(zip(test_texts[:5], predictions[:5], test_labels[:5])):\n",
        "    print(f\"\\nSample {i+1}\")\n",
        "    print(f\"Text: {text}\")\n",
        "    print(f\"Predicted: {'True' if pred else 'False'}, Actual: {'True' if true_label else 'False'}\")"
      ]
    },
    {
      "cell_type": "code",
      "execution_count": null,
      "metadata": {
        "id": "tKgrfDeOgAUu"
      },
      "outputs": [],
      "source": []
    }
  ],
  "metadata": {
    "colab": {
      "provenance": [],
      "include_colab_link": true
    },
    "kernelspec": {
      "display_name": "Python 3",
      "name": "python3"
    },
    "language_info": {
      "name": "python"
    }
  },
  "nbformat": 4,
  "nbformat_minor": 0
}