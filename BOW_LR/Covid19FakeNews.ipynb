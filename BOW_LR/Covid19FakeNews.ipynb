{
  "cells": [
    {
      "cell_type": "markdown",
      "metadata": {
        "id": "view-in-github",
        "colab_type": "text"
      },
      "source": [
        "<a href=\"https://colab.research.google.com/github/AnastasiaKazanas/ANN-Final-Project/blob/main/BOW_LR/Covid19FakeNews.ipynb\" target=\"_parent\"><img src=\"https://colab.research.google.com/assets/colab-badge.svg\" alt=\"Open In Colab\"/></a>"
      ]
    },
    {
      "cell_type": "code",
      "execution_count": null,
      "metadata": {
        "collapsed": true,
        "id": "bFKXKDfArPNO"
      },
      "outputs": [],
      "source": [
        "import random\n",
        "import pandas as pd\n",
        "import re\n",
        "import nltk\n",
        "from sklearn.model_selection import train_test_split\n",
        "from sklearn.feature_extraction.text import TfidfVectorizer\n",
        "from sklearn.linear_model import LogisticRegression\n",
        "from sklearn.metrics import classification_report, accuracy_score, confusion_matrix, ConfusionMatrixDisplay\n",
        "import matplotlib.pyplot as plt\n",
        "import kagglehub"
      ]
    },
    {
      "cell_type": "code",
      "execution_count": null,
      "metadata": {
        "colab": {
          "base_uri": "https://localhost:8080/"
        },
        "id": "uiAvJ6yEr4dR",
        "outputId": "5d8e84c6-9402-4cb7-d268-47bb259eeaaa"
      },
      "outputs": [
        {
          "output_type": "stream",
          "name": "stderr",
          "text": [
            "[nltk_data] Downloading package stopwords to /root/nltk_data...\n",
            "[nltk_data]   Package stopwords is already up-to-date!\n",
            "[nltk_data] Downloading package wordnet to /root/nltk_data...\n",
            "[nltk_data]   Package wordnet is already up-to-date!\n"
          ]
        },
        {
          "output_type": "stream",
          "name": "stdout",
          "text": [
            "Dataset preview:\n",
            "   id                                              tweet label\n",
            "0   1  Chinese converting to Islam after realising th...  fake\n",
            "1   2  11 out of 13 people (from the Diamond Princess...  fake\n",
            "2   3  COVID-19 Is Caused By A Bacterium, Not Virus A...  fake\n",
            "3   4  Mike Pence in RNC speech praises Donald Trump’...  fake\n",
            "4   5  6/10 Sky's @EdConwaySky explains the latest #C...  real\n",
            "\n",
            "Dataset statistics:\n",
            "                id\n",
            "count  2140.000000\n",
            "mean   1070.500000\n",
            "std     617.909109\n",
            "min       1.000000\n",
            "25%     535.750000\n",
            "50%    1070.500000\n",
            "75%    1605.250000\n",
            "max    2140.000000\n",
            "\n",
            "Missing values per column:\n",
            "id       0\n",
            "tweet    0\n",
            "label    0\n",
            "dtype: int64\n"
          ]
        }
      ],
      "source": [
        "# Download NLTK resources\n",
        "nltk.download('stopwords')\n",
        "nltk.download('wordnet')\n",
        "\n",
        "# Kaggle dataset download\n",
        "path = kagglehub.dataset_download(\"invalizare/covid-19-fake-news-dataset\")\n",
        "dataset_dir = \"/root/.cache/kagglehub/datasets/invalizare/covid-19-fake-news-dataset/\"\n",
        "\n",
        "# Dynamically locate the Val.csv file\n",
        "file_name = None\n",
        "for root, dirs, files in os.walk(dataset_dir):\n",
        "    for file in files:\n",
        "        if \"Val.csv\" in file:\n",
        "            file_name = os.path.join(root, file)\n",
        "            break\n",
        "\n",
        "# Load the dataset\n",
        "df = pd.read_csv(file_name)\n",
        "\n",
        "# Display dataset preview and statistics\n",
        "print(\"Dataset preview:\")\n",
        "print(df.head())\n",
        "\n",
        "print(\"\\nDataset statistics:\")\n",
        "print(df.describe())\n",
        "\n",
        "# Check and handle missing values\n",
        "missing_values = df.isnull().sum()\n",
        "print(\"\\nMissing values per column:\")\n",
        "print(missing_values)\n",
        "df.dropna(subset=['tweet', 'label'], inplace=True)\n",
        "\n",
        "# Rename columns for consistency\n",
        "df.rename(columns={'tweet': 'text', 'label': 'label'}, inplace=True)\n",
        "\n",
        "# Filter the data to include only texts with length < 50 and remove duplicates\n",
        "filtered_texts = []\n",
        "filtered_labels = []\n",
        "for text, label in zip(df['text'], df['label']):\n",
        "    if len(text) > 50 and text not in filtered_texts:\n",
        "        filtered_texts.append(text)\n",
        "        filtered_labels.append(label)\n",
        "\n",
        "# Create a new filtered DataFrame\n",
        "filtered_df = pd.DataFrame({'text': filtered_texts, 'label': filtered_labels})\n"
      ]
    },
    {
      "cell_type": "code",
      "execution_count": null,
      "metadata": {
        "id": "eRQdv5sq2kZt"
      },
      "outputs": [],
      "source": [
        "def preprocess_text(text):\n",
        "    text = re.sub(r'[^\\w\\s]', '', text)  # Remove special characters\n",
        "    text = text.lower()  # Convert to lowercase\n",
        "    return text\n",
        "\n",
        "# Apply text preprocessing\n",
        "filtered_df['processed_text'] = filtered_df['text'].apply(preprocess_text)\n",
        "\n",
        "# Split the dataset\n",
        "train_texts, test_texts, train_labels, test_labels = train_test_split(\n",
        "    filtered_df['processed_text'], filtered_df['label'], test_size=0.2, random_state=42\n",
        ")"
      ]
    },
    {
      "cell_type": "code",
      "execution_count": null,
      "metadata": {
        "colab": {
          "base_uri": "https://localhost:8080/",
          "height": 1000
        },
        "id": "z8msfX1EtEXY",
        "outputId": "a9c3fa77-efae-4126-d2c8-9d1b295dc6df"
      },
      "outputs": [
        {
          "output_type": "stream",
          "name": "stdout",
          "text": [
            "\n",
            "Model Accuracy: 0.89\n",
            "Unique classes in test labels: ['fake', 'real']\n",
            "\n",
            "Classification Report:\n",
            "              precision    recall  f1-score   support\n",
            "\n",
            "       False       0.89      0.85      0.87       188\n",
            "        True       0.88      0.91      0.90       232\n",
            "\n",
            "    accuracy                           0.89       420\n",
            "   macro avg       0.89      0.88      0.88       420\n",
            "weighted avg       0.89      0.89      0.89       420\n",
            "\n"
          ]
        },
        {
          "output_type": "display_data",
          "data": {
            "text/plain": [
              "<Figure size 640x480 with 2 Axes>"
            ],
            "image/png": "[encoded data removed]"
          },
          "metadata": {}
        },
        {
          "output_type": "stream",
          "name": "stdout",
          "text": [
            "\n",
            "Sample Predictions:\n",
            "\n",
            "Sample 1\n",
            "Text: the covid19nigeria situation report for 13th may 2020 has been published yesterday the number of discharged cases in nigeria crossed the 1000 mark our daily covid19 situation report provides more details on this amp nigerias response download via httpstcoxo1wg4qdyt httpstcoiii0egbgzb\n",
            "Predicted: True, Actual: True\n",
            "\n",
            "Sample 2\n",
            "Text: rt cdcdirector in every crisis there is an opportunity the covid19 pandemic is highlighting the need for us as a nation to address l\n",
            "Predicted: True, Actual: True\n",
            "\n",
            "Sample 3\n",
            "Text: a video shows healthcare workers celebrating in a hospital the caption says it was filmed in messejana hospital in fortaleza brazil after all covid19 patients were cured and a whole hospital wing was closed\n",
            "Predicted: True, Actual: True\n",
            "\n",
            "Sample 4\n",
            "Text: govt of nigeria is restricting entry into the country for travellers from china italy iran south korea spain japan france germany united states of america norway united kingdom netherlands amp switzerland these are countries with gt 1000 cases domestically\n",
            "Predicted: True, Actual: True\n",
            "\n",
            "Sample 5\n",
            "Text: social distancing to reduce the spread of covid19 may increase the risk of domestic and family violence as more time is spent in the home find resources on how to stay safe httpstcoqs232olakz httpstcokqlkn2pg28\n",
            "Predicted: True, Actual: True\n"
          ]
        }
      ],
      "source": [
        "# Tfidf\n",
        "vectorizer = TfidfVectorizer(max_features=5000, ngram_range=(1, 2))\n",
        "X_train = vectorizer.fit_transform(train_texts)\n",
        "X_test = vectorizer.transform(test_texts)\n",
        "\n",
        "# Model Training with Logistic Regression\n",
        "model = LogisticRegression(max_iter=200, solver='saga', penalty='l2', C=1.0)\n",
        "model.fit(X_train, train_labels)\n",
        "\n",
        "# Predict on the test set\n",
        "predictions = model.predict(X_test)\n",
        "\n",
        "accuracy = accuracy_score(test_labels, predictions)\n",
        "print(f\"\\nModel Accuracy: {accuracy:.2f}\")\n",
        "\n",
        "# Handle single-class cases for classification report and confusion matrix\n",
        "unique_classes = sorted(test_labels.unique())\n",
        "print(\"Unique classes in test labels:\", unique_classes)\n",
        "\n",
        "# Adjust target names dynamically based on unique classes\n",
        "target_names = ['False', 'True'][:len(unique_classes)]\n",
        "\n",
        "# Classification Report\n",
        "print(\"\\nClassification Report:\")\n",
        "print(classification_report(test_labels, predictions, labels=unique_classes, target_names=target_names))\n",
        "\n",
        "# Confusion Matrix\n",
        "if len(unique_classes) > 1:  # Plot confusion matrix only if there are at least two classes\n",
        "    conf_matrix = confusion_matrix(test_labels, predictions)\n",
        "    disp = ConfusionMatrixDisplay(conf_matrix, display_labels=target_names)\n",
        "    disp.plot(cmap='Blues')\n",
        "    plt.title('Confusion Matrix')\n",
        "    plt.show()\n",
        "else:\n",
        "    print(\"\\nConfusion Matrix not displayed due to single class in the test set.\")\n",
        "\n",
        "# Display a few predictions\n",
        "print(\"\\nSample Predictions:\")\n",
        "for i, (text, pred, true_label) in enumerate(zip(test_texts[:5], predictions[:5], test_labels[:5])):\n",
        "    print(f\"\\nSample {i+1}\")\n",
        "    print(f\"Text: {text}\")\n",
        "    print(f\"Predicted: {'True' if pred else 'False'}, Actual: {'True' if true_label else 'False'}\")"
      ]
    },
    {
      "cell_type": "code",
      "execution_count": null,
      "metadata": {
        "id": "tKgrfDeOgAUu"
      },
      "outputs": [],
      "source": []
    }
  ],
  "metadata": {
    "colab": {
      "provenance": [],
      "include_colab_link": true
    },
    "kernelspec": {
      "display_name": "Python 3",
      "name": "python3"
    },
    "language_info": {
      "name": "python"
    }
  },
  "nbformat": 4,
  "nbformat_minor": 0
}