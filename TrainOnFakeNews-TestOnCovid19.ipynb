{
  "cells": [
    {
      "cell_type": "markdown",
      "metadata": {
        "id": "view-in-github",
        "colab_type": "text"
      },
      "source": [
        "<a href=\"https://colab.research.google.com/github/AnastasiaKazanas/ANN-Final-Project/blob/main/TrainOnFakeNews-TestOnCovid19.ipynb\" target=\"_parent\"><img src=\"https://colab.research.google.com/assets/colab-badge.svg\" alt=\"Open In Colab\"/></a>"
      ]
    },
    {
      "cell_type": "markdown",
      "source": [
        "this trains on the Fake News Classification Dataset, and then tests it on the Covid19 dataset"
      ],
      "metadata": {
        "id": "xSnkDDW6aG9-"
      }
    },
    {
      "cell_type": "code",
      "execution_count": 1,
      "metadata": {
        "collapsed": true,
        "id": "bFKXKDfArPNO"
      },
      "outputs": [],
      "source": [
        "import random\n",
        "import pandas as pd\n",
        "import re\n",
        "import nltk\n",
        "import torch\n",
        "import torch.nn as nn\n",
        "import torch.optim as optim\n",
        "from transformers import BertTokenizer, BertModel, BertForSequenceClassification\n",
        "from sklearn.metrics.pairwise import cosine_similarity\n",
        "from sklearn.model_selection import train_test_split, GridSearchCV\n",
        "from sklearn.feature_extraction.text import TfidfVectorizer\n",
        "from sklearn.linear_model import LogisticRegression\n",
        "from sklearn.metrics import classification_report, accuracy_score, confusion_matrix, ConfusionMatrixDisplay\n",
        "from nltk.corpus import stopwords\n",
        "from nltk.stem import WordNetLemmatizer\n",
        "from torch.utils.data import DataLoader, TensorDataset\n",
        "import matplotlib.pyplot as plt\n",
        "import kagglehub"
      ]
    },
    {
      "cell_type": "code",
      "execution_count": 2,
      "metadata": {
        "id": "uiAvJ6yEr4dR",
        "colab": {
          "base_uri": "https://localhost:8080/"
        },
        "outputId": "a84c0fc5-8418-46ab-f2ec-80d3439fe8fb"
      },
      "outputs": [
        {
          "output_type": "stream",
          "name": "stdout",
          "text": [
            "Downloading from https://www.kaggle.com/api/v1/datasets/download/saurabhshahane/fake-news-classification?dataset_version_number=77...\n"
          ]
        },
        {
          "output_type": "stream",
          "name": "stderr",
          "text": [
            "100%|██████████| 92.1M/92.1M [00:01<00:00, 77.9MB/s]"
          ]
        },
        {
          "output_type": "stream",
          "name": "stdout",
          "text": [
            "Extracting files...\n"
          ]
        },
        {
          "output_type": "stream",
          "name": "stderr",
          "text": [
            "\n"
          ]
        }
      ],
      "source": [
        "def preprocess_text(text):\n",
        "    text = re.sub(r'[^\\w\\s]', '', text)\n",
        "    text = text.lower()\n",
        "    return text.strip()\n",
        "\n",
        "path = kagglehub.dataset_download(\"saurabhshahane/fake-news-classification\")\n",
        "df = pd.read_csv(\"/root/.cache/kagglehub/datasets/saurabhshahane/fake-news-classification/versions/77/WELFake_Dataset.csv\")\n",
        "\n",
        "df.dropna(subset=['text', 'label'], inplace=True)\n",
        "df['processed_text'] = df['text'].apply(preprocess_text)\n",
        "\n",
        "train_texts, test_texts, train_labels, test_labels = train_test_split(\n",
        "    df['processed_text'], df['label'], test_size=0.2, random_state=42\n",
        ")"
      ]
    },
    {
      "cell_type": "code",
      "source": [
        "# TF-IDF Vectorization\n",
        "vectorizer = TfidfVectorizer(max_features=5000, ngram_range=(1, 2))\n",
        "X_train = vectorizer.fit_transform(train_texts).toarray()\n",
        "X_test = vectorizer.transform(test_texts).toarray()\n",
        "\n",
        "# Convert labels to tensors\n",
        "train_labels = torch.tensor(train_labels.values, dtype=torch.long)\n",
        "test_labels = torch.tensor(test_labels.values, dtype=torch.long)"
      ],
      "metadata": {
        "id": "eRQdv5sq2kZt"
      },
      "execution_count": 3,
      "outputs": []
    },
    {
      "cell_type": "code",
      "execution_count": 4,
      "metadata": {
        "id": "z8msfX1EtEXY",
        "outputId": "a10ff77c-42bb-45c5-d9a0-a9908976b4f4",
        "colab": {
          "base_uri": "https://localhost:8080/"
        }
      },
      "outputs": [
        {
          "output_type": "stream",
          "name": "stdout",
          "text": [
            "Epoch 1/10, Loss: 268.7272\n",
            "Epoch 2/10, Loss: 147.7207\n",
            "Epoch 3/10, Loss: 117.4850\n",
            "Epoch 4/10, Loss: 89.2538\n",
            "Epoch 5/10, Loss: 59.1695\n",
            "Epoch 6/10, Loss: 34.8165\n",
            "Epoch 7/10, Loss: 20.4662\n",
            "Epoch 8/10, Loss: 11.4458\n",
            "Epoch 9/10, Loss: 8.1431\n",
            "Epoch 10/10, Loss: 7.8970\n"
          ]
        }
      ],
      "source": [
        "# Define the neural network\n",
        "class TextClassifier(nn.Module):\n",
        "    def __init__(self, input_dim, hidden_dim, output_dim):\n",
        "        super(TextClassifier, self).__init__()\n",
        "        self.fc1 = nn.Linear(input_dim, hidden_dim)\n",
        "        self.relu = nn.ReLU()\n",
        "        self.fc2 = nn.Linear(hidden_dim, output_dim)\n",
        "\n",
        "    def forward(self, x):\n",
        "        x = self.fc1(x)\n",
        "        x = self.relu(x)\n",
        "        x = self.fc2(x)\n",
        "        return x\n",
        "\n",
        "# Model setup\n",
        "input_dim = X_train.shape[1]\n",
        "hidden_dim = 128\n",
        "output_dim = 2\n",
        "model = TextClassifier(input_dim, hidden_dim, output_dim)\n",
        "criterion = nn.CrossEntropyLoss()\n",
        "optimizer = optim.Adam(model.parameters(), lr=0.001)\n",
        "\n",
        "# Training Loop\n",
        "train_dataset = TensorDataset(torch.tensor(X_train, dtype=torch.float32), train_labels)\n",
        "train_loader = DataLoader(train_dataset, batch_size=32, shuffle=True)\n",
        "epochs = 10\n",
        "for epoch in range(epochs):\n",
        "    model.train()\n",
        "    total_loss = 0\n",
        "    for X_batch, y_batch in train_loader:\n",
        "        optimizer.zero_grad()\n",
        "        outputs = model(X_batch)\n",
        "        loss = criterion(outputs, y_batch)\n",
        "        loss.backward()\n",
        "        optimizer.step()\n",
        "        total_loss += loss.item()\n",
        "    print(f\"Epoch {epoch+1}/{epochs}, Loss: {total_loss:.4f}\")\n"
      ]
    },
    {
      "cell_type": "code",
      "source": [
        "# Download NLTK resources\n",
        "nltk.download('stopwords')\n",
        "nltk.download('wordnet')\n",
        "\n",
        "# Kaggle dataset download\n",
        "path = kagglehub.dataset_download(\"invalizare/covid-19-fake-news-dataset\")\n",
        "dataset_dir = \"/root/.cache/kagglehub/datasets/invalizare/covid-19-fake-news-dataset/\"\n",
        "\n",
        "# Dynamically locate CSV\n",
        "file_name = None\n",
        "for root, dirs, files in os.walk(dataset_dir):\n",
        "    for file in files:\n",
        "        if \"Val.csv\" in file:\n",
        "            file_name = os.path.join(root, file)\n",
        "            break\n",
        "\n",
        "# Load the dataset\n",
        "covid_df = pd.read_csv(file_name)\n",
        "\n",
        "# missing values\n",
        "missing_values = covid_df.isnull().sum()\n",
        "covid_df.dropna(subset=['tweet', 'label'], inplace=True)"
      ],
      "metadata": {
        "id": "cbZ7xuNkc_Me",
        "outputId": "042ae446-b7cd-4e0b-949d-2ee182d5784d",
        "colab": {
          "base_uri": "https://localhost:8080/"
        }
      },
      "execution_count": 18,
      "outputs": [
        {
          "output_type": "stream",
          "name": "stderr",
          "text": [
            "[nltk_data] Downloading package stopwords to /root/nltk_data...\n",
            "[nltk_data]   Package stopwords is already up-to-date!\n",
            "[nltk_data] Downloading package wordnet to /root/nltk_data...\n",
            "[nltk_data]   Package wordnet is already up-to-date!\n"
          ]
        }
      ]
    },
    {
      "cell_type": "code",
      "source": [
        "# Preprocess\n",
        "def preprocess_text(text):\n",
        "    if not isinstance(text, str):\n",
        "        return \"\"\n",
        "    text = re.sub(r'[^\\w\\s]', '', text)\n",
        "    text = text.lower()\n",
        "    return text.strip()\n",
        "\n",
        "covid_df['processed_text'] = covid_df['tweet'].apply(preprocess_text)\n",
        "\n",
        "label_mapping = {'fake': 0, 'real': 1}\n",
        "covid_df['label'] = covid_df['label'].map(label_mapping)\n",
        "\n",
        "print(\"COVID-19 DataFrame after preprocessing and cleaning:\")\n",
        "print(covid_df.head())\n",
        "print(\"\\nCOVID-19 DataFrame Summary:\")\n",
        "print(covid_df.info())\n",
        "print(f\"Number of valid rows: {len(covid_df)}\")\n"
      ],
      "metadata": {
        "id": "TH8Ve8fUMkgr",
        "colab": {
          "base_uri": "https://localhost:8080/"
        },
        "outputId": "83bd6a38-a191-4b27-e791-89daaf9039f4"
      },
      "execution_count": 19,
      "outputs": [
        {
          "output_type": "stream",
          "name": "stdout",
          "text": [
            "COVID-19 DataFrame after preprocessing and cleaning:\n",
            "   id                                              tweet  label  \\\n",
            "0   1  Chinese converting to Islam after realising th...      0   \n",
            "1   2  11 out of 13 people (from the Diamond Princess...      0   \n",
            "2   3  COVID-19 Is Caused By A Bacterium, Not Virus A...      0   \n",
            "3   4  Mike Pence in RNC speech praises Donald Trump’...      0   \n",
            "4   5  6/10 Sky's @EdConwaySky explains the latest #C...      1   \n",
            "\n",
            "                                      processed_text  \n",
            "0  chinese converting to islam after realising th...  \n",
            "1  11 out of 13 people from the diamond princess ...  \n",
            "2  covid19 is caused by a bacterium not virus and...  \n",
            "3  mike pence in rnc speech praises donald trumps...  \n",
            "4  610 skys edconwaysky explains the latest covid...  \n",
            "\n",
            "COVID-19 DataFrame Summary:\n",
            "<class 'pandas.core.frame.DataFrame'>\n",
            "RangeIndex: 2140 entries, 0 to 2139\n",
            "Data columns (total 4 columns):\n",
            " #   Column          Non-Null Count  Dtype \n",
            "---  ------          --------------  ----- \n",
            " 0   id              2140 non-null   int64 \n",
            " 1   tweet           2140 non-null   object\n",
            " 2   label           2140 non-null   int64 \n",
            " 3   processed_text  2140 non-null   object\n",
            "dtypes: int64(2), object(2)\n",
            "memory usage: 67.0+ KB\n",
            "None\n",
            "Number of valid rows: 2140\n"
          ]
        }
      ]
    },
    {
      "cell_type": "code",
      "source": [
        "if covid_df.empty:\n",
        "    print(\"No valid rows in the COVID-19 dataset.\")\n",
        "else:\n",
        "    # Process data if there are valid rows\n",
        "    X_covid = vectorizer.transform(covid_df['processed_text']).toarray()\n",
        "    covid_labels = torch.tensor(covid_df['label'].values, dtype=torch.long)\n",
        "\n",
        "    covid_dataset = TensorDataset(torch.tensor(X_covid, dtype=torch.float32), covid_labels)\n",
        "    covid_loader = DataLoader(covid_dataset, batch_size=32, shuffle=False)\n",
        "\n",
        "    y_pred, y_true = [], []\n",
        "    with torch.no_grad():\n",
        "        for X_batch, y_batch in covid_loader:\n",
        "            outputs = model(X_batch)\n",
        "            _, preds = torch.max(outputs, 1)\n",
        "            y_pred.extend(preds.numpy())\n",
        "            y_true.extend(y_batch.numpy())\n",
        "\n",
        "    print(\"\\nCOVID-19 Dataset Results\")\n",
        "    print(f\"Accuracy: {accuracy_score(y_true, y_pred):.2f}\")\n",
        "    print(classification_report(y_true, y_pred, target_names=[\"Fake\", \"Real\"]))\n",
        "    conf_matrix = confusion_matrix(y_true, y_pred)\n",
        "    ConfusionMatrixDisplay(conf_matrix, display_labels=[\"Fake\", \"Real\"]).plot(cmap='Blues')\n",
        "    plt.show()"
      ],
      "metadata": {
        "colab": {
          "base_uri": "https://localhost:8080/",
          "height": 653
        },
        "id": "rQ_2Ct00LAVf",
        "outputId": "98db4240-b37c-4992-b1ea-042ea1f441dd"
      },
      "execution_count": 17,
      "outputs": [
        {
          "output_type": "stream",
          "name": "stdout",
          "text": [
            "\n",
            "COVID-19 Dataset Results\n",
            "Accuracy: 0.50\n",
            "              precision    recall  f1-score   support\n",
            "\n",
            "        Fake       0.39      0.10      0.16      1020\n",
            "        Real       0.51      0.85      0.64      1120\n",
            "\n",
            "    accuracy                           0.50      2140\n",
            "   macro avg       0.45      0.48      0.40      2140\n",
            "weighted avg       0.45      0.50      0.41      2140\n",
            "\n"
          ]
        },
        {
          "output_type": "display_data",
          "data": {
            "text/plain": [
              "<Figure size 640x480 with 2 Axes>"
            ],
            "image/png": "[encoded data removed]"
          },
          "metadata": {}
        }
      ]
    }
  ],
  "metadata": {
    "colab": {
      "provenance": [],
      "include_colab_link": true
    },
    "kernelspec": {
      "display_name": "Python 3",
      "name": "python3"
    },
    "language_info": {
      "name": "python"
    }
  },
  "nbformat": 4,
  "nbformat_minor": 0
}