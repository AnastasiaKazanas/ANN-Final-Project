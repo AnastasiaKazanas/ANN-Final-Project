{
  "cells": [
    {
      "cell_type": "markdown",
      "metadata": {
        "id": "view-in-github",
        "colab_type": "text"
      },
      "source": [
        "<a href=\"https://colab.research.google.com/github/AnastasiaKazanas/ANN-Final-Project/blob/main/BOW_FCNN_FakeNewsClassification.ipynb\" target=\"_parent\"><img src=\"https://colab.research.google.com/assets/colab-badge.svg\" alt=\"Open In Colab\"/></a>"
      ]
    },
    {
      "cell_type": "code",
      "execution_count": null,
      "metadata": {
        "collapsed": true,
        "id": "bFKXKDfArPNO"
      },
      "outputs": [],
      "source": [
        "import random\n",
        "import pandas as pd\n",
        "import re\n",
        "import nltk\n",
        "import torch\n",
        "import torch.nn as nn\n",
        "import torch.optim as optim\n",
        "from transformers import BertTokenizer, BertModel, BertForSequenceClassification\n",
        "from sklearn.metrics.pairwise import cosine_similarity\n",
        "from sklearn.model_selection import train_test_split, GridSearchCV\n",
        "from sklearn.feature_extraction.text import TfidfVectorizer\n",
        "from sklearn.linear_model import LogisticRegression\n",
        "from sklearn.metrics import classification_report, accuracy_score, confusion_matrix, ConfusionMatrixDisplay\n",
        "from nltk.corpus import stopwords\n",
        "from nltk.stem import WordNetLemmatizer\n",
        "from torch.utils.data import DataLoader, TensorDataset\n",
        "import matplotlib.pyplot as plt\n",
        "import kagglehub"
      ]
    },
    {
      "cell_type": "code",
      "execution_count": null,
      "metadata": {
        "id": "uiAvJ6yEr4dR",
        "colab": {
          "base_uri": "https://localhost:8080/"
        },
        "outputId": "86be9134-8573-42fa-e388-327f0fd9dcc2"
      },
      "outputs": [
        {
          "output_type": "stream",
          "name": "stderr",
          "text": [
            "[nltk_data] Downloading package stopwords to /root/nltk_data...\n",
            "[nltk_data]   Unzipping corpora/stopwords.zip.\n",
            "[nltk_data] Downloading package wordnet to /root/nltk_data...\n"
          ]
        },
        {
          "output_type": "stream",
          "name": "stdout",
          "text": [
            "Downloading from https://www.kaggle.com/api/v1/datasets/download/saurabhshahane/fake-news-classification?dataset_version_number=77...\n"
          ]
        },
        {
          "output_type": "stream",
          "name": "stderr",
          "text": [
            "100%|██████████| 92.1M/92.1M [00:01<00:00, 70.4MB/s]"
          ]
        },
        {
          "output_type": "stream",
          "name": "stdout",
          "text": [
            "Extracting files...\n"
          ]
        },
        {
          "output_type": "stream",
          "name": "stderr",
          "text": [
            "\n"
          ]
        },
        {
          "output_type": "stream",
          "name": "stdout",
          "text": [
            "Dataset preview:\n",
            "   Unnamed: 0                                              title  \\\n",
            "0           0  LAW ENFORCEMENT ON HIGH ALERT Following Threat...   \n",
            "1           1                                                NaN   \n",
            "2           2  UNBELIEVABLE! OBAMA’S ATTORNEY GENERAL SAYS MO...   \n",
            "3           3  Bobby Jindal, raised Hindu, uses story of Chri...   \n",
            "4           4  SATAN 2: Russia unvelis an image of its terrif...   \n",
            "\n",
            "                                                text  label  \n",
            "0  No comment is expected from Barack Obama Membe...      1  \n",
            "1     Did they post their votes for Hillary already?      1  \n",
            "2   Now, most of the demonstrators gathered last ...      1  \n",
            "3  A dozen politically active pastors came here f...      0  \n",
            "4  The RS-28 Sarmat missile, dubbed Satan 2, will...      1  \n",
            "\n",
            "Dataset statistics:\n",
            "         Unnamed: 0         label\n",
            "count  72134.000000  72134.000000\n",
            "mean   36066.500000      0.514404\n",
            "std    20823.436496      0.499796\n",
            "min        0.000000      0.000000\n",
            "25%    18033.250000      0.000000\n",
            "50%    36066.500000      1.000000\n",
            "75%    54099.750000      1.000000\n",
            "max    72133.000000      1.000000\n",
            "\n",
            "Missing values per column:\n",
            "Unnamed: 0      0\n",
            "title         558\n",
            "text           39\n",
            "label           0\n",
            "dtype: int64\n"
          ]
        }
      ],
      "source": [
        "nltk.download('stopwords')\n",
        "nltk.download('wordnet')\n",
        "\n",
        "# Kaggle dataset download\n",
        "path = kagglehub.dataset_download(\"saurabhshahane/fake-news-classification\")\n",
        "\n",
        "# Load the dataset\n",
        "df = pd.read_csv(\"/root/.cache/kagglehub/datasets/saurabhshahane/fake-news-classification/versions/77/WELFake_Dataset.csv\")\n",
        "\n",
        "print(\"Dataset preview:\")\n",
        "print(df.head())\n",
        "\n",
        "print(\"\\nDataset statistics:\")\n",
        "print(df.describe())\n",
        "\n",
        "# Handle missing values\n",
        "missing_values = df.isnull().sum()\n",
        "print(\"\\nMissing values per column:\")\n",
        "print(missing_values)\n",
        "df.dropna(subset=['text', 'label'], inplace=True)"
      ]
    },
    {
      "cell_type": "code",
      "source": [
        "def preprocess_text(text):\n",
        "    text = re.sub(r'[^\\w\\s]', '', text)  # Remove special characters\n",
        "    text = text.lower()  # Convert to lowercase\n",
        "    return text\n",
        "\n",
        "df['processed_text'] = df['text'].apply(preprocess_text)\n",
        "\n",
        "# Add filtering for texts with len < 50\n",
        "new_data = []\n",
        "new_labels = []\n",
        "for text, label in zip(df['processed_text'], df['label']):\n",
        "    if len(text) >= 50:  # Filter out texts shorter than 50 characters\n",
        "        new_data.append(text)\n",
        "        new_labels.append(label)\n",
        "\n",
        "filtered_df = pd.DataFrame({'text': new_data, 'label': new_labels})\n",
        "\n",
        "# Split the dataset\n",
        "train_texts, test_texts, train_labels, test_labels = train_test_split(\n",
        "    filtered_df['text'], filtered_df['label'], test_size=0.2, random_state=42\n",
        ")\n"
      ],
      "metadata": {
        "id": "eRQdv5sq2kZt"
      },
      "execution_count": null,
      "outputs": []
    },
    {
      "cell_type": "code",
      "execution_count": null,
      "metadata": {
        "id": "z8msfX1EtEXY"
      },
      "outputs": [],
      "source": [
        "# Tfidf Vectorization\n",
        "vectorizer = TfidfVectorizer(max_features=5000, ngram_range=(1, 2))\n",
        "X_train = vectorizer.fit_transform(train_texts).toarray()\n",
        "X_test = vectorizer.transform(test_texts).toarray()\n",
        "\n",
        "# Convert labels to tensors\n",
        "train_labels = torch.tensor(train_labels.values, dtype=torch.long)\n",
        "test_labels = torch.tensor(test_labels.values, dtype=torch.long)\n",
        "\n",
        "# Create DataLoader\n",
        "train_dataset = TensorDataset(torch.tensor(X_train, dtype=torch.float32), train_labels)\n",
        "test_dataset = TensorDataset(torch.tensor(X_test, dtype=torch.float32), test_labels)\n",
        "\n",
        "train_loader = DataLoader(train_dataset, batch_size=32, shuffle=True)\n",
        "test_loader = DataLoader(test_dataset, batch_size=32, shuffle=False)\n",
        "\n"
      ]
    },
    {
      "cell_type": "code",
      "source": [
        "# Define the Neural Network\n",
        "class TextClassifier(nn.Module):\n",
        "    def __init__(self, input_dim, hidden_dim, output_dim):\n",
        "        super(TextClassifier, self).__init__()\n",
        "        self.fc1 = nn.Linear(input_dim, hidden_dim)\n",
        "        self.relu = nn.ReLU()\n",
        "        self.fc2 = nn.Linear(hidden_dim, output_dim)\n",
        "        self.softmax = nn.Softmax(dim=1)\n",
        "\n",
        "    def forward(self, x):\n",
        "        x = self.fc1(x)\n",
        "        x = self.relu(x)\n",
        "        x = self.fc2(x)\n",
        "        return x\n",
        "\n",
        "input_dim = X_train.shape[1]\n",
        "hidden_dim = 128\n",
        "output_dim = 2\n",
        "\n",
        "model = TextClassifier(input_dim, hidden_dim, output_dim)\n",
        "criterion = nn.CrossEntropyLoss()\n",
        "optimizer = optim.Adam(model.parameters(), lr=0.001)\n",
        "\n",
        "# Training Loop\n",
        "epochs = 10\n",
        "for epoch in range(epochs):\n",
        "    model.train()\n",
        "    total_loss = 0\n",
        "    for X_batch, y_batch in train_loader:\n",
        "        optimizer.zero_grad()\n",
        "        outputs = model(X_batch)\n",
        "        loss = criterion(outputs, y_batch)\n",
        "        loss.backward()\n",
        "        optimizer.step()\n",
        "        total_loss += loss.item()\n",
        "    print(f\"Epoch {epoch+1}/{epochs}, Loss: {total_loss:.4f}\")\n",
        "\n",
        "# Evaluation\n",
        "model.eval()\n",
        "y_pred = []\n",
        "y_true = []\n",
        "\n",
        "with torch.no_grad():\n",
        "    for X_batch, y_batch in test_loader:\n",
        "        outputs = model(X_batch)\n",
        "        _, preds = torch.max(outputs, 1)\n",
        "        y_pred.extend(preds.numpy())\n",
        "        y_true.extend(y_batch.numpy())\n"
      ],
      "metadata": {
        "id": "TH8Ve8fUMkgr",
        "colab": {
          "base_uri": "https://localhost:8080/"
        },
        "outputId": "2fe3fbf6-9d01-42b4-88f4-d30cbb96accf"
      },
      "execution_count": null,
      "outputs": [
        {
          "output_type": "stream",
          "name": "stdout",
          "text": [
            "Epoch 1/10, Loss: 267.0452\n",
            "Epoch 2/10, Loss: 145.0806\n",
            "Epoch 3/10, Loss: 113.4496\n",
            "Epoch 4/10, Loss: 85.3486\n",
            "Epoch 5/10, Loss: 57.0205\n",
            "Epoch 6/10, Loss: 34.4080\n",
            "Epoch 7/10, Loss: 17.7661\n",
            "Epoch 8/10, Loss: 10.0325\n",
            "Epoch 9/10, Loss: 7.5244\n",
            "Epoch 10/10, Loss: 5.0704\n"
          ]
        }
      ]
    },
    {
      "cell_type": "code",
      "source": [
        "accuracy = accuracy_score(y_true, y_pred)\n",
        "print(f\"\\nModel Accuracy: {accuracy:.2f}\")\n",
        "\n",
        "print(\"\\nClassification Report:\")\n",
        "print(classification_report(y_true, y_pred, target_names=['False', 'True']))\n",
        "\n",
        "# Confusion Matrix\n",
        "conf_matrix = confusion_matrix(y_true, y_pred)\n",
        "disp = ConfusionMatrixDisplay(conf_matrix, display_labels=['False', 'True'])\n",
        "disp.plot(cmap='Blues')\n",
        "plt.title('Confusion Matrix')\n",
        "plt.show()\n",
        "\n",
        "# Display a few predictions\n",
        "print(\"\\nSample Predictions:\")\n",
        "for i, (text, pred, true_label) in enumerate(zip(test_texts[:5], y_pred[:5], test_labels[:5])):\n",
        "    print(f\"\\nSample {i+1}\")\n",
        "    print(f\"Text: {text}\")\n",
        "    print(f\"Predicted: {'True' if pred else 'False'}, Actual: {'True' if true_label else 'False'}\")"
      ],
      "metadata": {
        "colab": {
          "base_uri": "https://localhost:8080/",
          "height": 1000
        },
        "id": "jUgXCN1sz-Pp",
        "outputId": "4bc49107-4062-441b-b9ec-fb68eba2a33d"
      },
      "execution_count": null,
      "outputs": [
        {
          "output_type": "stream",
          "name": "stdout",
          "text": [
            "\n",
            "Model Accuracy: 0.97\n",
            "\n",
            "Classification Report:\n",
            "              precision    recall  f1-score   support\n",
            "\n",
            "       False       0.97      0.96      0.97      6981\n",
            "        True       0.96      0.97      0.97      7216\n",
            "\n",
            "    accuracy                           0.97     14197\n",
            "   macro avg       0.97      0.97      0.97     14197\n",
            "weighted avg       0.97      0.97      0.97     14197\n",
            "\n"
          ]
        },
        {
          "output_type": "display_data",
          "data": {
            "text/plain": [
              "<Figure size 640x480 with 2 Axes>"
            ],
            "image/png": "[encoded data removed]"
          },
          "metadata": {}
        },
        {
          "output_type": "stream",
          "name": "stdout",
          "text": [
            "\n",
            "Sample Predictions:\n",
            "\n",
            "Sample 1\n",
            "Text: yesterday the new york times ran a story in which they gave moving accounts of two women who say that donald trump sexually assaulted them trump maintains that his boasts about being allowed to assault women because he s got star power were just words and that he s never done such a thing in a sorry attempt to maintain the illusion that he s a good person trump has had his lawyers send the times an official ceaseanddesist claiming the story amounts to libelthe strange thing is that the bulk of this letter appears to be directed at the women that the times spoke to than it is to the times itself you apparently performed an entirely inadequate investigation to test the veracity of these false and malicious allegations including why these two individuals waited in one case 11 years and in another case more than three decades before deciding to come forward with these false and defamatory statements and there it is assassinating the characters of the victims by saying that if they d really been assaulted sexually they d have come forward right away is a very typical ploy for those trying to defend themselves against such allegations but there s still nothing in there about what specifically is false in the times  story and how they know the times knowingly published a false storytrump s victims could all find their names and characters dragged through the mud because of this and make no mistake he will do that as loudly as he can the fear of having that happen and of not being believed keeps many sexual assault victims from coming forwardand that could easily be why trump is doing this however his method appears to be twofold in addition to intimidating and bullying his victims he s also intimidating and bullying press outlets the hope there would be that they won t give a voice to any more of his victims out of fear of getting suedthis isn t the only absurdity in the letter but it is the most damning given its possible intent the letter also makes it political instead of naming specific falsehoods which is outright ridiculous if this is a serious ceaseanddesist your article is reckless defamatory and constitutes libel per se it is apparent from among other things the timing of the article that it is nothing more than a politicallymotivated effort to defeat mr trump s candidacy clearly the new york times is willing to provide a platform to anyone wishing to smear mr trump s name and reputation prior to the election irrespective of whether the alleged statements have any basis in fact really that s a hell of a thing to say in a ceaseanddesist the letter itself is politically motivated   it s actually quite difficult to believe that an actual lawyer wrote this baloney here s what a strong ceaseanddesist letter should contain and this is a template of a decent ceaseanddesist this idiocy meets none of the conditions it needs tocnnmoney reports that trump has also threatened the palm beach post for publishing a separate story from yet another victim besides that the trump campaign told times reporter megan twohey that he would sue if they published the story she received her own letter yesterday afternoon and was called a  disgusting human being a lawsuit against the times would uncover everything and probably sink trump entirely because these allegations are the tip of the iceberg he knows that but if nothing else the discovery phase of this would be interestingyou can read the letter in full herebreaking trump demands retraction from nytimes threatens lawsuithttpstcogbwomm7tga pictwittercomhtm9uaesne  christina wilkie christinawilkie october 13 2016featured image via scott olsongetty images\n",
            "Predicted: True, Actual: True\n",
            "\n",
            "Sample 2\n",
            "Text: washington reuters  us president donald trump views germany as an important us ally and gets along very well with german chancellor angela merkel the white house said on tuesday speaking at a news briefing after trump intensified a dispute with germany by calling berlins trade and spending policies very bad white house spokesman sean spicer said they get along very well he has a lot of respect for her  and he views not just germany but the rest of europe as an important american ally  \n",
            "Predicted: False, Actual: False\n",
            "\n",
            "Sample 3\n",
            "Text: lusaka reuters  zambian president edgar lungu on friday called for unity among political groups ahead of talks between the government and the opposition aimed at reconciliation after a political crisis earlier this year the leader of the opposition united party for national development upnd hakainde hichilema was arrested with five others in april and charged with plotting to overthrow the government after his convoy failed to make way for lungu s motorcade the case stoked political tensions in zambia a major copper producer and seen as one of africa s more stable and functional democracies following a bruising election last year hichilema was freed from prison in august after the state dropped the charges to pave the way for dialogue between the two sides following mediation by commonwealth secretarygeneral patricia scotland  scotland s special envoy ibrahim gambari is in zambia and has separately held talks with lungu hichilema and other opposition leaders in an address at the opening of the national assembly lungu said zambians could disagree and quarrel but would always remain one  the factors that unite us are much greater than those that seek to divide us  he said opposition upnd members of parliament who boycotted lungu s last address attended friday s session saying their attendance would give confidence to the process of dialogue  the upnd mps took this decision in the interest of the country in view of the forthcoming political dialogue  their spokesman jack mwiimbu said in a statement \n",
            "Predicted: False, Actual: False\n",
            "\n",
            "Sample 4\n",
            "Text: want to get this briefing by email heres the   good evening heres the latest 1 its official simone biles the gymnast some call the best in history was crowned the   gymnastics champion at the rio olympics her teammate aly raisman came in second heres a   of two of biless signature moves with a win in the   individual medley michael phelps earned his thirteenth individual gold medal surpassing leonidas of rhodes who won 12 gold medals in the ancient olympics another achievement for the books simone manuel became the first   woman to win an individual event in olympic swimming our full coverage of the games is here     including the odd version of the u s national anthem being played at medal ceremonies _____ 2 hillary clinton rejected the economic agenda donald trump laid out this week calling him an enemy of the little guy  he wants to give trillions in tax cuts to people like himself she said while deepening the financial pain of the middle and working classes neither candidate however has said much about helping people who are not working     many of them living in abject poverty _____ 3 mr trump faced down critics of his unorthodox campaign style telling an interviewer its either going to work or im going to you know im going to have a very very nice long vacation  after weeks of hearing detractors saying a trump presidency would be a grave threat to national security mr trump has begun portraying mrs clinton and president obama as   of the islamic state he held a rally in kissimmee fla in the evening _____ 4 the f b i has widened its investigation into what officials believe was a russian cyberattack directed against the democratic party the attack appears to have been far larger than first thought raising the possibility of more damaging disclosures like the emails published recently by wikileaks after a   impasse that has kept the wikileaks founder julian assange holed up in the ecuadorean embassy in london sweden has agreed to question him there over rape accusations _____ 5 almost 55 miles a gallon     thats what u s regulators say automakers fleets must average by 2025 engineers racing to meet the mark are working with new batteries for hybrids some cars are going on a superglue diet   adhesives like the one being used on the gmc acadia above can stiffen seams and allow components to be made of thinner steel _____ 6 the animated sausage party opening nationwide this weekend sends   foodstuffs ranging through the supermarket for 89 minutes of bawdy silly humor     and a deeper layer characters voiced by seth rogen kristen wiig edward norton michael cera bill hader and others end up in a classic confrontation between comforting religious beliefs weekend shoppers are gods who will liberate them and scientific thought their actual fate our reviewer saluted the intellectual rigor of a project that probably didnt require it and called the movie fun pretty much all the way through  _____ 7 fox news has not managed to put a   scandal behind it despite rapidly forcing out its chairman roger ailes more women have come forward to describe a culture of intimidation and misogyny including a former fox host andrea tantaros above top ailes deputies who remain are being accused of abetting mr ailess behavior _____ 8 i found the numbers heartbreaking  that was a senior u s health official commenting on a new study that found high rates of rape bullying depression and other harms suffered by gay lesbian and bisexual teenagers the survey found that they make up about 8 percent of the high school population or 1 3 million students future studies are likely to include an option for students to identify as transgender above a youth contingent at miamis gay pride march in april _____ 9 u s  forces seized most of the coastal libyan city of surt a stronghold of the islamic state but in syria the battle between government forces and rebels has left two million people in the city of aleppo  with critical shortages of food and water if the turmoil in the mideast seems too overwhelming to grasp this could help a   team spent more than a year charting the catastrophe that has befallen the arab world since the invasion of iraq in 2003 at   words its not a quick read but it is a remarkably clear account that connects the regions history and the arab spring uprisings to the creation of the islamic state and the global refugee crisis _____ 10 one of our   articles today focuses on the pharmaceutical giant abbott laboratories and its operations in indias highly competitive drug market a times investigation found that managers pushed workers to pursue sales in violation of indian law medical standards and the companys own ethics guidelines one of the countrys top salesmen jumped in front of a train last month leaving a note that said he was committing suicide because of the pressure above his daughter _____ 11 finally mongolia a sparsely populated country with nomadic traditions will be pioneering a novel   system next month the country is adopting an app created by a british   what3words that looks up a unique   code dissident sloth ploy for instance for every    patch of the earths surface     all 57 trillion users enter an address or position a pointer on a map to retrieve the code which the postal service can then use for deliveries _____ your evening briefing is posted at 6 p m eastern and dont miss your morning briefing posted weekdays at 6 a m eastern and your weekend briefing posted at 6 a m sundays want to look back heres last nights briefing what did you like what do you want to see here let us know at briefingnytimes com\n",
            "Predicted: False, Actual: False\n",
            "\n",
            "Sample 5\n",
            "Text: for months speaker paul d ryan had chosen to remain largely silent hoping that his partys nominee for president would simply get across the finish line dragging congressional republicans across with him but a 2005 recording made public on friday of donald j trump speaking in extraordinarily vulgar terms about women became a new bridge too far across a seemingly endless landmass separating civil behavior and mr trumps campaign for the presidency mr ryan responded by uninviting mr trump from a rally in his home state wisconsin on saturday and said he was sickened by mr trumps remarks but even as many congressional republicans including some very conservative house members pulled away from mr trump on saturday mr ryan did not go so far as to withdraw his support for the businessman and former reality tv star mr ryans decision keeps him in the political purgatory of endorsing the republican nominee for president while continually having to say why he finds his remarks and policy positions despicable looking tired and touting the virtues of congressional legislative processes mr ryan addressed a crowd of supporters on saturday in elkhorn wis some trump supporters could be heard screaming the candidates name in the background it is a troubling situation mr ryan said alluding to the situation with mr trump that is not what we are here to talk about today do you know what we do here at fall fest we talk about ideas  the developments come as republicans are trying desperately in the final weeks of a campaign season to maintain their control of the senate and a firm majority in the house many are weighing based on the particulars of their own states and districts and race dynamics whether now is the moment to move away from mr trump in many cases they are looking to mr ryan to be their seer mr ryans tepid backing of mr trump has been less about fear of alienating mr trumps supporters     many republicans in congress need his base of white high   men to win       than about worry of signaling to the thousands of republicans who are ambivalent about mr trump that they need not vote this year should those republicans stay home they could potentially set off a chain reaction down the ballot a huge turnout collapse would deeply threaten senate republican incumbents and plenty of house members too donald trumps lewd comments are the latest in a series of remarks he has made ranging from inappropriate to reprehensible that demonstrate why he is unsuitable for the presidency said senator susan collins republican of maine it was comments like these     including the statements he made about john mccain a disabled reporter the family of a fallen soldier and more     that caused me to decide this summer that i could not support his candidacy said ms collins who is not up for   if mr ryan were thinking of withdrawing his support from mr trump as of saturday he still had only sent the nominee back to his room to think about his remarks i hope mr trump treats this situation with the seriousness it deserves and works to demonstrate to the country that he has greater respect for women than this clip suggests mr ryan said as the most senior elected republican     and the party leader who most publicly agonized over his endorsement of mr trump     mr ryan has for much of this year held outsize importance as the role model for how republicans should deal with mr trump his reluctant endorsement was pushed by his    but it also beckoned to others to join the trump train  now once again the speakers actions are under intense scrutiny the democratic congressional campaign committee released a statement even before mr ryan uttered a prepared word there have been more than enough final straw moments during this campaign and speaker ryan has continued to unabashedly put party first in supporting the most repulsive candidate for president that our country has ever seen kelly ward the groups executive director said if speaker ryan steps away from trump it will be an act of political expedience and desperate   which wont redeem him or house republicans in the eyes of voters  for scores of elected republicans mr trumps  clash with parents who lost a son in combat in iraq his call to ban all muslims from entering the country his disparagement of a federal judge his   of nearly 1 billion from his taxes and his derision of a former miss universe for gaining weight were not enough to force their hands but for a growing handful of members of congress hot mike remarks aimed broadly at more than half the electorate were the final blow im out representative jason chaffetz republican of utah told a local television station friday night i can no longer in good conscience endorse this person for president it is some of the most abhorrent and offensive comments that you can possibly imagine  but many more continued to ride the line between appalled and resigned as the father of three daughters said senator mitch mcconnell of kentucky the majority leader i strongly believe that trump needs to apologize directly to women and girls everywhere and take full responsibility for the utter lack of respect for women shown in his comments on that tape  democrats mocked the template of that father of daughters construction pointing to nearly a dozen elected republicans who used it for candidates in swing states the pressure points have become more intense this is particularly true in the case of senator kelly ayotte republican of new hampshire who is in what many believe to be the tightest   race in the country ms ayotte who has awkwardly bounced between distance from and acceptance of mr trump found herself in scalding hot water last week by suggesting during a debate with her opponent that mr trump was a role model it is beyond comprehension how senator ayotte could continue to support this man for the highest office in the land let alone call him a role model said gov maggie hassan who is challenging ms ayotte for her seat on saturday morning ms ayotte completed her move away from mr trump by saying she would not vote for him she was followed by representative joe heck who is running for an open senate seat in nevada senator ted cruz republican of texas last seen in photos looking mildly humiliated as he did phone bank work on behalf of mr trump     a former rival who once put mr cruzs wife in his twitter cross hairs     said on twitter these comments are disturbing and inappropriate there is simply no excuse for them  mr ryan who many believe wants to run for president himself has not been actively urging his colleagues to vote for mr trump and has instead repeatedly talked about the house republican policy agenda clinging to a small pamphlet of policy ideas like a talisman in the storm hoping his image survives\n",
            "Predicted: False, Actual: False\n"
          ]
        }
      ]
    },
    {
      "cell_type": "code",
      "source": [],
      "metadata": {
        "id": "F1DdVKJX1LIh"
      },
      "execution_count": null,
      "outputs": []
    }
  ],
  "metadata": {
    "colab": {
      "provenance": [],
      "include_colab_link": true
    },
    "kernelspec": {
      "display_name": "Python 3",
      "name": "python3"
    },
    "language_info": {
      "name": "python"
    }
  },
  "nbformat": 4,
  "nbformat_minor": 0
}